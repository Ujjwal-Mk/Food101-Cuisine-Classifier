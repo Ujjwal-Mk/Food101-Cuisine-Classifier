{
  "cells": [
    {
      "cell_type": "code",
      "execution_count": 1,
      "metadata": {
        "colab": {
          "base_uri": "https://localhost:8080/"
        },
        "id": "rdxwthAXOGcW",
        "outputId": "784025f6-d9e3-4a76-9d9d-04cd2b22f80f"
      },
      "outputs": [
        {
          "name": "stdout",
          "output_type": "stream",
          "text": [
            "2.15.0\n",
            "1 Physical GPUs, 1 Logical GPUs\n",
            "INFO:tensorflow:Mixed precision compatibility check (mixed_float16): OK\n",
            "Your GPU will likely run quickly with dtype policy mixed_float16 as it has compute capability of at least 7.0. Your GPU: NVIDIA GeForce RTX 3050 Laptop GPU, compute capability 8.6\n",
            "<Policy \"mixed_float16\">\n"
          ]
        }
      ],
      "source": [
        "import os\n",
        "os.environ['TF_CPP_MIN_LOG_LEVEL'] = '3'\n",
        "os.environ[\"KMP_DUPLICATE_LIB_OK\"]=\"TRUE\"\n",
        "import tensorflow as tf\n",
        "from helper_functions import *\n",
        "importTensorflow(memory=4090)\n",
        "precision()"
      ]
    },
    {
      "cell_type": "code",
      "execution_count": 2,
      "metadata": {
        "colab": {
          "base_uri": "https://localhost:8080/"
        },
        "id": "LLtaZ1F8OrX2",
        "outputId": "1849b61d-efbe-4fc0-ebce-eee8d245137b"
      },
      "outputs": [
        {
          "name": "stdout",
          "output_type": "stream",
          "text": [
            "'food101' in TensorFlow Datasets: True\n"
          ]
        }
      ],
      "source": [
        "import tensorflow_datasets as tfds\n",
        "datasets_list = tfds.list_builders()\n",
        "\n",
        "# Set our target dataset and see if it exists\n",
        "target_dataset = \"food101\"\n",
        "print(f\"'{target_dataset}' in TensorFlow Datasets: {target_dataset in datasets_list}\")"
      ]
    },
    {
      "cell_type": "code",
      "execution_count": 3,
      "metadata": {
        "colab": {
          "base_uri": "https://localhost:8080/",
          "height": 167,
          "referenced_widgets": [
            "789818db49624f54846e0378b99057d4",
            "340644f3050942e4a9224a85cf12be10",
            "d63bc128db404a0b85c24d9b64cc4b07",
            "b5600c1afffb4592bbd98ffa9b0dd43b",
            "58a23849cc6d43aba903c0b2b73dbcb8",
            "4cc55a1650284d61b5d16d74cbc43622",
            "60ebd56383e74a24a193cb1583404945",
            "2e9a9449e275448db4650dd31341d531",
            "ad06e68afa4d46f1b16b51c8fa75988c",
            "fe0bac425e574c8ea2092c3254575629",
            "39ac1f45d3ad4b3fbc9f98891447d66d",
            "d8c15ab2c020483bb48e2b622cdd1771",
            "fd409eb2026e49a3b8f19e9118aec6d1",
            "8a7d09896e8d42deaa6b5e71f9aecd3b",
            "ba78351866c843d1abed6ed428b24668",
            "f19c2f2a75d645b59c4d0c93d35058bf",
            "1a32549cb5184873bcfc78b451f1de9e",
            "9604e9f42d06473fa90993705e7b10c8",
            "c4eeeb50cf224a9583bdfa0e747d0068",
            "4bcce641a9fd498194079800f6175670",
            "43eac5e99e4545bf87d7ae61f6895437",
            "edf22a6b066d42fd95bba6c2e5538b20",
            "4f6e3410a7d04b15b33b37eae1e0779b",
            "1f98a5ef85fb4ea8bfb9e2aca51d6165",
            "3c076cbb503340ef85690bba67b63625",
            "a940c53d4094475cb2229a4203710006",
            "3cd96e87dbd947a3ac657b25096b6733",
            "df9379de840842a495203742d2f0bfc2",
            "9b07e099c1794b00bc7261ef91b2dddc",
            "b9d65a991dc44076bb425c70a1a6983a",
            "bbc25af983204b61b8823bd5e9b539c2",
            "0b366cf33479421dafff2ec3eb78dbee",
            "557e510f5c2547d2ac2974b5b99a411e",
            "0eb3c62915534982a13709f257c960d9",
            "71fdc4a584c54b6b99873626a7c6017a",
            "1c6d9f5d95cb4d4599d28217f110af2f",
            "b697a5e68cfb493080221d615f27a679",
            "6b4a27e63e3c41d48c7701ac911ec4ae",
            "53dddd2daaae4e21b1e95a1ead94647b",
            "b179e25d9bce48a29f5acd76465290e1",
            "63597864775d4a498ef8b156eacd8918",
            "b946aa199f964cd086b25f1826236c6e",
            "9622ff02376644b89214798c086091bc",
            "285627f04e2b4f90baaf38f4ca58eff2",
            "6bff9c8c5e5f459f8acf3e3fda90b8e6",
            "fd581dd08de14882bc68fb08972fe9b1",
            "d05fd5dee0294a9fa201ca042ae2542b",
            "efe1ca8c496344ec8186ad3a9ccce3aa",
            "af65f4d2731342f9b8741d3602845a18",
            "811a52289ac74949a7dae9f50ea7542d",
            "7f3d2a01771e42818285aa1c3638cefa",
            "83a60399e73e41cf9540c74af956d3bd",
            "d288bca1cf70474fa084cebbe28d1188",
            "1c4ccd7777b14e1ea63dbe50c290be52",
            "43e01c89a2dc4191b8059582c43f8b06",
            "53617db41445480cb90912b6ce2b4c82",
            "573a28bc3e5a406b961912737a96f7bc",
            "43a2b9e5481b4558b8c455930fc607e8",
            "7c7dae0c934048e283aa533b5155d13a",
            "bc3625f73778417ea7b9cb82848c7807",
            "43e2543697d9454e901ab92c3c1c65e9",
            "51b1f7cb61ab4f1188c8e28e0e10adc5",
            "9d97d514db914a32a356972463854f40",
            "b85c79da8cb64f59b0e173b025191570",
            "fe9d8aee0c414af9aac4fc9ded2d9995",
            "b3c4d76d24f34b3e8a99d1832b14d768",
            "b78e252d7a79460987cd2eab137eedcb",
            "4ce764f9620247ba9b7e30d7fe9d9dbc",
            "dda22681248c4b61a3af9067c79dc3cc",
            "9579abea442b4f688825d6ef37d2569e",
            "49f28ac630474688896a16d3eb0ed60e",
            "aaf7fe6e86b84d75a735ee00dc025cda",
            "f520a9504aac41cc8b5fc5b2006f301b",
            "fc489e80921145cbab6fc2aaa4e966be",
            "e45cb0ab3e864c72ae04e1c6ee526194",
            "b65520b53a94478b936baa34081515c1",
            "5496e9040ac04167ac5f9616e4de1a6a",
            "50dd9af976454e74b6ec6a7655533493",
            "cbf3da255d3b41e9aefd95d80c85ed17",
            "fd9757b480ab410ebdc5eeb385771fc7",
            "030e0ff2c0d94043a590aa065ec3a087",
            "3227d62d5a564026848530e9366213c1",
            "147477e92ff5485885e81d00a13e7a68",
            "6b22f51ffc5b4051ae68ba6db3b712ac",
            "1e02edc041174408ade62abcf04b188e",
            "c397238561064e68be33a8ae23a303d2",
            "68049f8590b1467bb966882f7bf1f1c5",
            "d9100aac3656427eb14b1844e5c996d4"
          ]
        },
        "id": "p5fd55PMO6JS",
        "outputId": "cb2c3fbb-b62c-484d-b052-a574dac5430a"
      },
      "outputs": [],
      "source": [
        "(train_data, test_data), ds_info = tfds.load(name=\"food101\",\n",
        "                                             split=[\"train\", \"validation\"],\n",
        "                                             shuffle_files=True,\n",
        "                                             as_supervised=True,\n",
        "                                             with_info=True)"
      ]
    },
    {
      "cell_type": "code",
      "execution_count": 4,
      "metadata": {
        "colab": {
          "base_uri": "https://localhost:8080/"
        },
        "id": "kw8EG2o9POWg",
        "outputId": "f7cb9de8-8d01-4000-ffc0-47a3c454fda8"
      },
      "outputs": [
        {
          "data": {
            "text/plain": [
              "['apple_pie',\n",
              " 'baby_back_ribs',\n",
              " 'baklava',\n",
              " 'beef_carpaccio',\n",
              " 'beef_tartare',\n",
              " 'beet_salad',\n",
              " 'beignets',\n",
              " 'bibimbap',\n",
              " 'bread_pudding',\n",
              " 'breakfast_burrito']"
            ]
          },
          "execution_count": 4,
          "metadata": {},
          "output_type": "execute_result"
        }
      ],
      "source": [
        "class_names = ds_info.features[\"label\"].names\n",
        "class_names[:10]"
      ]
    },
    {
      "cell_type": "code",
      "execution_count": 5,
      "metadata": {
        "id": "dbXeswYpPi9m"
      },
      "outputs": [],
      "source": [
        "def preprocess_img(image, label, img_shape=512):\n",
        "    image = tf.image.resize(image, [img_shape, img_shape])\n",
        "    return tf.cast(image, tf.float32), label"
      ]
    },
    {
      "cell_type": "code",
      "execution_count": 6,
      "metadata": {
        "id": "GQXmFxIxPrK6"
      },
      "outputs": [],
      "source": [
        "train_data = train_data.map(map_func=preprocess_img, num_parallel_calls=tf.data.AUTOTUNE)\n",
        "train_data = train_data.shuffle(buffer_size=1000).batch(batch_size=64).prefetch(buffer_size=tf.data.AUTOTUNE)\n",
        "\n",
        "test_data = test_data.map(preprocess_img, num_parallel_calls=tf.data.AUTOTUNE)\n",
        "test_data = test_data.batch(64).prefetch(tf.data.AUTOTUNE)"
      ]
    },
    {
      "cell_type": "code",
      "execution_count": 19,
      "metadata": {
        "id": "tfApCv8PPxxQ"
      },
      "outputs": [],
      "source": [
        "checkpoint_path = \"model_checkpoints/cp.ckpt\"\n",
        "model_checkpoint = tf.keras.callbacks.ModelCheckpoint(checkpoint_path,\n",
        "                                                      monitor=\"val_accuracy\",\n",
        "                                                      save_best_only=True,\n",
        "                                                      save_weights_only=True,\n",
        "                                                      verbose=0)\n",
        "reduce_lr = tf.keras.callbacks.ReduceLROnPlateau(monitor=\"val_loss\",\n",
        "                                                 factor=0.2,\n",
        "                                                 patience=1,\n",
        "                                                 verbose=1,\n",
        "                                                 min_lr=1e-7)"
      ]
    },
    {
      "cell_type": "code",
      "execution_count": 8,
      "metadata": {},
      "outputs": [],
      "source": [
        "data_aug = tf.keras.models.Sequential([\n",
        "    tf.keras.layers.RandomRotation(0.15),\n",
        "    tf.keras.layers.RandomHeight(0.15),\n",
        "    tf.keras.layers.RandomWidth(0.15),\n",
        "    tf.keras.layers.RandomZoom(0.15)\n",
        "])"
      ]
    },
    {
      "cell_type": "code",
      "execution_count": 9,
      "metadata": {
        "colab": {
          "base_uri": "https://localhost:8080/"
        },
        "id": "Lc-5sR3-P8j9",
        "outputId": "20b9de1d-01ff-49b5-e3bc-919eba22a232"
      },
      "outputs": [],
      "source": [
        "from tensorflow.keras import layers\n",
        "input_shape = (512, 512, 3)\n",
        "base_model = tf.keras.applications.efficientnet_v2.EfficientNetV2B3(include_top=False)\n",
        "base_model.trainable = False\n",
        "inputs = layers.Input(shape=input_shape, name=\"input_layer\")\n",
        "# x = data_aug(inputs, training=False)\n",
        "x = base_model(inputs, training=False)\n",
        "x = layers.GlobalAveragePooling2D(name=\"pooling_layer\")(x)\n",
        "# x = tf.keras.layers.Dense(128, activation='relu')(x)\n",
        "x = tf.keras.layers.Dropout(0.2)(x)\n",
        "# x = tf.keras.layers.Dense(32, activation='relu')(x)\n",
        "x = layers.Dense(len(class_names))(x)\n",
        "outputs = layers.Activation(\"softmax\", dtype=tf.float32, name=\"softmax_float32\")(x)\n",
        "model = tf.keras.Model(inputs, outputs)\n",
        "model.compile(loss=\"sparse_categorical_crossentropy\",\n",
        "              optimizer=tf.keras.optimizers.Adam(),\n",
        "              metrics=[\"accuracy\"])\n",
        "lr_scheduler = tf.keras.callbacks.LearningRateScheduler(lambda epoch:3e-3/10**(epoch/5))"
      ]
    },
    {
      "cell_type": "code",
      "execution_count": 10,
      "metadata": {
        "colab": {
          "base_uri": "https://localhost:8080/"
        },
        "id": "jgDGsolyQSpm",
        "outputId": "040b94ba-1ed3-427b-c673-fe782f73db3f"
      },
      "outputs": [
        {
          "name": "stdout",
          "output_type": "stream",
          "text": [
            "Epoch 1/5\n",
            "   1/1184 [..............................] - ETA: 5:50:50 - loss: 4.7286 - accuracy: 0.0000e+00"
          ]
        },
        {
          "name": "stderr",
          "output_type": "stream",
          "text": [
            "WARNING: All log messages before absl::InitializeLog() is called are written to STDERR\n",
            "I0000 00:00:1710777873.003040  258817 device_compiler.h:186] Compiled cluster using XLA!  This line is logged at most once for the lifetime of the process.\n"
          ]
        },
        {
          "name": "stdout",
          "output_type": "stream",
          "text": [
            "1184/1184 [==============================] - 735s 607ms/step - loss: 1.4947 - accuracy: 0.6197 - val_loss: 0.9581 - val_accuracy: 0.7364 - lr: 0.0030\n",
            "Epoch 2/5\n",
            "1184/1184 [==============================] - 717s 601ms/step - loss: 1.0416 - accuracy: 0.7241 - val_loss: 0.8415 - val_accuracy: 0.7670 - lr: 0.0019\n",
            "Epoch 3/5\n",
            "1184/1184 [==============================] - 713s 601ms/step - loss: 0.9256 - accuracy: 0.7529 - val_loss: 0.7961 - val_accuracy: 0.7799 - lr: 0.0012\n",
            "Epoch 4/5\n",
            "1184/1184 [==============================] - 707s 596ms/step - loss: 0.8587 - accuracy: 0.7710 - val_loss: 0.7808 - val_accuracy: 0.7844 - lr: 7.5357e-04\n",
            "Epoch 5/5\n",
            "1184/1184 [==============================] - 705s 595ms/step - loss: 0.8213 - accuracy: 0.7789 - val_loss: 0.7708 - val_accuracy: 0.7826 - lr: 4.7547e-04\n"
          ]
        }
      ],
      "source": [
        "history_101_food_classes_feature_extract = model.fit(train_data,\n",
        "                                                     epochs=5,\n",
        "                                                     steps_per_epoch=len(train_data),\n",
        "                                                     validation_data=test_data,\n",
        "                                                     validation_steps=int(0.2 * len(test_data)),\n",
        "                                                     callbacks=[model_checkpoint, lr_scheduler])"
      ]
    },
    {
      "cell_type": "code",
      "execution_count": 11,
      "metadata": {
        "id": "26v4w9smXIz8"
      },
      "outputs": [
        {
          "name": "stdout",
          "output_type": "stream",
          "text": [
            "395/395 [==============================] - 207s 524ms/step - loss: 0.7696 - accuracy: 0.7894\n"
          ]
        },
        {
          "data": {
            "text/plain": [
              "[0.7695840001106262, 0.7893861532211304]"
            ]
          },
          "execution_count": 11,
          "metadata": {},
          "output_type": "execute_result"
        }
      ],
      "source": [
        "results_feature_extract_model = model.evaluate(test_data)\n",
        "results_feature_extract_model"
      ]
    },
    {
      "cell_type": "code",
      "execution_count": 12,
      "metadata": {
        "id": "pYVAnFIgh9Dl"
      },
      "outputs": [
        {
          "name": "stdout",
          "output_type": "stream",
          "text": [
            "INFO:tensorflow:Unsupported signature for serialization: ((TensorSpec(shape=(1536, 101), dtype=tf.float32, name='gradient'), <tensorflow.python.framework.func_graph.UnknownArgument object at 0x7ce91c3516d0>, 137340644431056), {}).\n"
          ]
        },
        {
          "name": "stderr",
          "output_type": "stream",
          "text": [
            "INFO:tensorflow:Unsupported signature for serialization: ((TensorSpec(shape=(1536, 101), dtype=tf.float32, name='gradient'), <tensorflow.python.framework.func_graph.UnknownArgument object at 0x7ce91c3516d0>, 137340644431056), {}).\n"
          ]
        },
        {
          "name": "stdout",
          "output_type": "stream",
          "text": [
            "INFO:tensorflow:Unsupported signature for serialization: ((TensorSpec(shape=(101,), dtype=tf.float32, name='gradient'), <tensorflow.python.framework.func_graph.UnknownArgument object at 0x7ce91c3e9b50>, 137340644430416), {}).\n"
          ]
        },
        {
          "name": "stderr",
          "output_type": "stream",
          "text": [
            "INFO:tensorflow:Unsupported signature for serialization: ((TensorSpec(shape=(101,), dtype=tf.float32, name='gradient'), <tensorflow.python.framework.func_graph.UnknownArgument object at 0x7ce91c3e9b50>, 137340644430416), {}).\n"
          ]
        },
        {
          "name": "stdout",
          "output_type": "stream",
          "text": [
            "INFO:tensorflow:Unsupported signature for serialization: ((TensorSpec(shape=(1536, 101), dtype=tf.float32, name='gradient'), <tensorflow.python.framework.func_graph.UnknownArgument object at 0x7ce91c1a9890>, 137340644431056), {}).\n"
          ]
        },
        {
          "name": "stderr",
          "output_type": "stream",
          "text": [
            "INFO:tensorflow:Unsupported signature for serialization: ((TensorSpec(shape=(1536, 101), dtype=tf.float32, name='gradient'), <tensorflow.python.framework.func_graph.UnknownArgument object at 0x7ce91c1a9890>, 137340644431056), {}).\n"
          ]
        },
        {
          "name": "stdout",
          "output_type": "stream",
          "text": [
            "INFO:tensorflow:Unsupported signature for serialization: ((TensorSpec(shape=(101,), dtype=tf.float32, name='gradient'), <tensorflow.python.framework.func_graph.UnknownArgument object at 0x7ce91663b5d0>, 137340644430416), {}).\n"
          ]
        },
        {
          "name": "stderr",
          "output_type": "stream",
          "text": [
            "INFO:tensorflow:Unsupported signature for serialization: ((TensorSpec(shape=(101,), dtype=tf.float32, name='gradient'), <tensorflow.python.framework.func_graph.UnknownArgument object at 0x7ce91663b5d0>, 137340644430416), {}).\n"
          ]
        },
        {
          "name": "stdout",
          "output_type": "stream",
          "text": [
            "INFO:tensorflow:Unsupported signature for serialization: ((TensorSpec(shape=(1536, 101), dtype=tf.float32, name='gradient'), <tensorflow.python.framework.func_graph.UnknownArgument object at 0x7ce91c3516d0>, 137340644431056), {}).\n"
          ]
        },
        {
          "name": "stderr",
          "output_type": "stream",
          "text": [
            "INFO:tensorflow:Unsupported signature for serialization: ((TensorSpec(shape=(1536, 101), dtype=tf.float32, name='gradient'), <tensorflow.python.framework.func_graph.UnknownArgument object at 0x7ce91c3516d0>, 137340644431056), {}).\n"
          ]
        },
        {
          "name": "stdout",
          "output_type": "stream",
          "text": [
            "INFO:tensorflow:Unsupported signature for serialization: ((TensorSpec(shape=(101,), dtype=tf.float32, name='gradient'), <tensorflow.python.framework.func_graph.UnknownArgument object at 0x7ce91c3e9b50>, 137340644430416), {}).\n"
          ]
        },
        {
          "name": "stderr",
          "output_type": "stream",
          "text": [
            "INFO:tensorflow:Unsupported signature for serialization: ((TensorSpec(shape=(101,), dtype=tf.float32, name='gradient'), <tensorflow.python.framework.func_graph.UnknownArgument object at 0x7ce91c3e9b50>, 137340644430416), {}).\n"
          ]
        },
        {
          "name": "stdout",
          "output_type": "stream",
          "text": [
            "INFO:tensorflow:Unsupported signature for serialization: ((TensorSpec(shape=(1536, 101), dtype=tf.float32, name='gradient'), <tensorflow.python.framework.func_graph.UnknownArgument object at 0x7ce91c1a9890>, 137340644431056), {}).\n"
          ]
        },
        {
          "name": "stderr",
          "output_type": "stream",
          "text": [
            "INFO:tensorflow:Unsupported signature for serialization: ((TensorSpec(shape=(1536, 101), dtype=tf.float32, name='gradient'), <tensorflow.python.framework.func_graph.UnknownArgument object at 0x7ce91c1a9890>, 137340644431056), {}).\n"
          ]
        },
        {
          "name": "stdout",
          "output_type": "stream",
          "text": [
            "INFO:tensorflow:Unsupported signature for serialization: ((TensorSpec(shape=(101,), dtype=tf.float32, name='gradient'), <tensorflow.python.framework.func_graph.UnknownArgument object at 0x7ce91663b5d0>, 137340644430416), {}).\n"
          ]
        },
        {
          "name": "stderr",
          "output_type": "stream",
          "text": [
            "INFO:tensorflow:Unsupported signature for serialization: ((TensorSpec(shape=(101,), dtype=tf.float32, name='gradient'), <tensorflow.python.framework.func_graph.UnknownArgument object at 0x7ce91663b5d0>, 137340644430416), {}).\n"
          ]
        },
        {
          "name": "stdout",
          "output_type": "stream",
          "text": [
            "INFO:tensorflow:Assets written to: efficientnetv2b3_feature_extract_model_mixed_precision/assets\n"
          ]
        },
        {
          "name": "stderr",
          "output_type": "stream",
          "text": [
            "INFO:tensorflow:Assets written to: efficientnetv2b3_feature_extract_model_mixed_precision/assets\n"
          ]
        }
      ],
      "source": [
        "save_dir = \"efficientnetv2b3_feature_extract_model_mixed_precision\"\n",
        "model.save(save_dir)"
      ]
    },
    {
      "cell_type": "code",
      "execution_count": 13,
      "metadata": {
        "id": "NiLHqkk2iF7v"
      },
      "outputs": [],
      "source": [
        "loaded_saved_model = tf.keras.models.load_model(save_dir)"
      ]
    },
    {
      "cell_type": "code",
      "execution_count": 15,
      "metadata": {
        "colab": {
          "base_uri": "https://localhost:8080/"
        },
        "id": "06N1gI2NiHyT",
        "outputId": "067bfb38-364d-49bd-f441-7c959507d444"
      },
      "outputs": [
        {
          "name": "stdout",
          "output_type": "stream",
          "text": [
            "input_1 True float32 <Policy \"float32\">\n",
            "rescaling False float32 <Policy \"mixed_float16\">\n",
            "normalization False float32 <Policy \"mixed_float16\">\n",
            "stem_conv False float32 <Policy \"mixed_float16\">\n",
            "stem_bn False float32 <Policy \"mixed_float16\">\n",
            "stem_activation False float32 <Policy \"mixed_float16\">\n",
            "block1a_project_conv False float32 <Policy \"mixed_float16\">\n",
            "block1a_project_bn False float32 <Policy \"mixed_float16\">\n",
            "block1a_project_activation False float32 <Policy \"mixed_float16\">\n",
            "block1b_project_conv False float32 <Policy \"mixed_float16\">\n",
            "block1b_project_bn False float32 <Policy \"mixed_float16\">\n",
            "block1b_project_activation False float32 <Policy \"mixed_float16\">\n",
            "block1b_drop False float32 <Policy \"mixed_float16\">\n",
            "block1b_add False float32 <Policy \"mixed_float16\">\n",
            "block2a_expand_conv False float32 <Policy \"mixed_float16\">\n",
            "block2a_expand_bn False float32 <Policy \"mixed_float16\">\n",
            "block2a_expand_activation False float32 <Policy \"mixed_float16\">\n",
            "block2a_project_conv False float32 <Policy \"mixed_float16\">\n",
            "block2a_project_bn False float32 <Policy \"mixed_float16\">\n",
            "block2b_expand_conv False float32 <Policy \"mixed_float16\">\n"
          ]
        }
      ],
      "source": [
        "for layer in loaded_saved_model.layers[1].layers[:20]:\n",
        "    print(layer.name, layer.trainable, layer.dtype, layer.dtype_policy)"
      ]
    },
    {
      "cell_type": "code",
      "execution_count": 16,
      "metadata": {
        "colab": {
          "base_uri": "https://localhost:8080/"
        },
        "id": "DhGMGsbnj5ef",
        "outputId": "1c5a9004-263d-4dbd-f189-25bc24f47fbd"
      },
      "outputs": [
        {
          "name": "stdout",
          "output_type": "stream",
          "text": [
            "0 input_1 True\n",
            "1 rescaling True\n",
            "2 normalization True\n",
            "3 stem_conv True\n",
            "4 stem_bn True\n",
            "5 stem_activation True\n",
            "6 block1a_project_conv True\n",
            "7 block1a_project_bn True\n",
            "8 block1a_project_activation True\n",
            "9 block1b_project_conv True\n",
            "10 block1b_project_bn True\n",
            "11 block1b_project_activation True\n",
            "12 block1b_drop True\n",
            "13 block1b_add True\n",
            "14 block2a_expand_conv True\n",
            "15 block2a_expand_bn True\n",
            "16 block2a_expand_activation True\n",
            "17 block2a_project_conv True\n",
            "18 block2a_project_bn True\n",
            "19 block2b_expand_conv True\n",
            "20 block2b_expand_bn True\n",
            "21 block2b_expand_activation True\n",
            "22 block2b_project_conv True\n",
            "23 block2b_project_bn True\n",
            "24 block2b_drop True\n",
            "25 block2b_add True\n",
            "26 block2c_expand_conv True\n",
            "27 block2c_expand_bn True\n",
            "28 block2c_expand_activation True\n",
            "29 block2c_project_conv True\n",
            "30 block2c_project_bn True\n",
            "31 block2c_drop True\n",
            "32 block2c_add True\n",
            "33 block3a_expand_conv True\n",
            "34 block3a_expand_bn True\n",
            "35 block3a_expand_activation True\n",
            "36 block3a_project_conv True\n",
            "37 block3a_project_bn True\n",
            "38 block3b_expand_conv True\n",
            "39 block3b_expand_bn True\n",
            "40 block3b_expand_activation True\n",
            "41 block3b_project_conv True\n",
            "42 block3b_project_bn True\n",
            "43 block3b_drop True\n",
            "44 block3b_add True\n",
            "45 block3c_expand_conv True\n",
            "46 block3c_expand_bn True\n",
            "47 block3c_expand_activation True\n",
            "48 block3c_project_conv True\n",
            "49 block3c_project_bn True\n",
            "50 block3c_drop True\n",
            "51 block3c_add True\n",
            "52 block4a_expand_conv True\n",
            "53 block4a_expand_bn True\n",
            "54 block4a_expand_activation True\n",
            "55 block4a_dwconv2 True\n",
            "56 block4a_bn True\n",
            "57 block4a_activation True\n",
            "58 block4a_se_squeeze True\n",
            "59 block4a_se_reshape True\n",
            "60 block4a_se_reduce True\n",
            "61 block4a_se_expand True\n",
            "62 block4a_se_excite True\n",
            "63 block4a_project_conv True\n",
            "64 block4a_project_bn True\n",
            "65 block4b_expand_conv True\n",
            "66 block4b_expand_bn True\n",
            "67 block4b_expand_activation True\n",
            "68 block4b_dwconv2 True\n",
            "69 block4b_bn True\n",
            "70 block4b_activation True\n",
            "71 block4b_se_squeeze True\n",
            "72 block4b_se_reshape True\n",
            "73 block4b_se_reduce True\n",
            "74 block4b_se_expand True\n",
            "75 block4b_se_excite True\n",
            "76 block4b_project_conv True\n",
            "77 block4b_project_bn True\n",
            "78 block4b_drop True\n",
            "79 block4b_add True\n",
            "80 block4c_expand_conv True\n",
            "81 block4c_expand_bn True\n",
            "82 block4c_expand_activation True\n",
            "83 block4c_dwconv2 True\n",
            "84 block4c_bn True\n",
            "85 block4c_activation True\n",
            "86 block4c_se_squeeze True\n",
            "87 block4c_se_reshape True\n",
            "88 block4c_se_reduce True\n",
            "89 block4c_se_expand True\n",
            "90 block4c_se_excite True\n",
            "91 block4c_project_conv True\n",
            "92 block4c_project_bn True\n",
            "93 block4c_drop True\n",
            "94 block4c_add True\n",
            "95 block4d_expand_conv True\n",
            "96 block4d_expand_bn True\n",
            "97 block4d_expand_activation True\n",
            "98 block4d_dwconv2 True\n",
            "99 block4d_bn True\n",
            "100 block4d_activation True\n",
            "101 block4d_se_squeeze True\n",
            "102 block4d_se_reshape True\n",
            "103 block4d_se_reduce True\n",
            "104 block4d_se_expand True\n",
            "105 block4d_se_excite True\n",
            "106 block4d_project_conv True\n",
            "107 block4d_project_bn True\n",
            "108 block4d_drop True\n",
            "109 block4d_add True\n",
            "110 block4e_expand_conv True\n",
            "111 block4e_expand_bn True\n",
            "112 block4e_expand_activation True\n",
            "113 block4e_dwconv2 True\n",
            "114 block4e_bn True\n",
            "115 block4e_activation True\n",
            "116 block4e_se_squeeze True\n",
            "117 block4e_se_reshape True\n",
            "118 block4e_se_reduce True\n",
            "119 block4e_se_expand True\n",
            "120 block4e_se_excite True\n",
            "121 block4e_project_conv True\n",
            "122 block4e_project_bn True\n",
            "123 block4e_drop True\n",
            "124 block4e_add True\n",
            "125 block5a_expand_conv True\n",
            "126 block5a_expand_bn True\n",
            "127 block5a_expand_activation True\n",
            "128 block5a_dwconv2 True\n",
            "129 block5a_bn True\n",
            "130 block5a_activation True\n",
            "131 block5a_se_squeeze True\n",
            "132 block5a_se_reshape True\n",
            "133 block5a_se_reduce True\n",
            "134 block5a_se_expand True\n",
            "135 block5a_se_excite True\n",
            "136 block5a_project_conv True\n",
            "137 block5a_project_bn True\n",
            "138 block5b_expand_conv True\n",
            "139 block5b_expand_bn True\n",
            "140 block5b_expand_activation True\n",
            "141 block5b_dwconv2 True\n",
            "142 block5b_bn True\n",
            "143 block5b_activation True\n",
            "144 block5b_se_squeeze True\n",
            "145 block5b_se_reshape True\n",
            "146 block5b_se_reduce True\n",
            "147 block5b_se_expand True\n",
            "148 block5b_se_excite True\n",
            "149 block5b_project_conv True\n",
            "150 block5b_project_bn True\n",
            "151 block5b_drop True\n",
            "152 block5b_add True\n",
            "153 block5c_expand_conv True\n",
            "154 block5c_expand_bn True\n",
            "155 block5c_expand_activation True\n",
            "156 block5c_dwconv2 True\n",
            "157 block5c_bn True\n",
            "158 block5c_activation True\n",
            "159 block5c_se_squeeze True\n",
            "160 block5c_se_reshape True\n",
            "161 block5c_se_reduce True\n",
            "162 block5c_se_expand True\n",
            "163 block5c_se_excite True\n",
            "164 block5c_project_conv True\n",
            "165 block5c_project_bn True\n",
            "166 block5c_drop True\n",
            "167 block5c_add True\n",
            "168 block5d_expand_conv True\n",
            "169 block5d_expand_bn True\n",
            "170 block5d_expand_activation True\n",
            "171 block5d_dwconv2 True\n",
            "172 block5d_bn True\n",
            "173 block5d_activation True\n",
            "174 block5d_se_squeeze True\n",
            "175 block5d_se_reshape True\n",
            "176 block5d_se_reduce True\n",
            "177 block5d_se_expand True\n",
            "178 block5d_se_excite True\n",
            "179 block5d_project_conv True\n",
            "180 block5d_project_bn True\n",
            "181 block5d_drop True\n",
            "182 block5d_add True\n",
            "183 block5e_expand_conv True\n",
            "184 block5e_expand_bn True\n",
            "185 block5e_expand_activation True\n",
            "186 block5e_dwconv2 True\n",
            "187 block5e_bn True\n",
            "188 block5e_activation True\n",
            "189 block5e_se_squeeze True\n",
            "190 block5e_se_reshape True\n",
            "191 block5e_se_reduce True\n",
            "192 block5e_se_expand True\n",
            "193 block5e_se_excite True\n",
            "194 block5e_project_conv True\n",
            "195 block5e_project_bn True\n",
            "196 block5e_drop True\n",
            "197 block5e_add True\n",
            "198 block5f_expand_conv True\n",
            "199 block5f_expand_bn True\n",
            "200 block5f_expand_activation True\n",
            "201 block5f_dwconv2 True\n",
            "202 block5f_bn True\n",
            "203 block5f_activation True\n",
            "204 block5f_se_squeeze True\n",
            "205 block5f_se_reshape True\n",
            "206 block5f_se_reduce True\n",
            "207 block5f_se_expand True\n",
            "208 block5f_se_excite True\n",
            "209 block5f_project_conv True\n",
            "210 block5f_project_bn True\n",
            "211 block5f_drop True\n",
            "212 block5f_add True\n",
            "213 block5g_expand_conv True\n",
            "214 block5g_expand_bn True\n",
            "215 block5g_expand_activation True\n",
            "216 block5g_dwconv2 True\n",
            "217 block5g_bn True\n",
            "218 block5g_activation True\n",
            "219 block5g_se_squeeze True\n",
            "220 block5g_se_reshape True\n",
            "221 block5g_se_reduce True\n",
            "222 block5g_se_expand True\n",
            "223 block5g_se_excite True\n",
            "224 block5g_project_conv True\n",
            "225 block5g_project_bn True\n",
            "226 block5g_drop True\n",
            "227 block5g_add True\n",
            "228 block6a_expand_conv True\n",
            "229 block6a_expand_bn True\n",
            "230 block6a_expand_activation True\n",
            "231 block6a_dwconv2 True\n",
            "232 block6a_bn True\n",
            "233 block6a_activation True\n",
            "234 block6a_se_squeeze True\n",
            "235 block6a_se_reshape True\n",
            "236 block6a_se_reduce True\n",
            "237 block6a_se_expand True\n",
            "238 block6a_se_excite True\n",
            "239 block6a_project_conv True\n",
            "240 block6a_project_bn True\n",
            "241 block6b_expand_conv True\n",
            "242 block6b_expand_bn True\n",
            "243 block6b_expand_activation True\n",
            "244 block6b_dwconv2 True\n",
            "245 block6b_bn True\n",
            "246 block6b_activation True\n",
            "247 block6b_se_squeeze True\n",
            "248 block6b_se_reshape True\n",
            "249 block6b_se_reduce True\n",
            "250 block6b_se_expand True\n",
            "251 block6b_se_excite True\n",
            "252 block6b_project_conv True\n",
            "253 block6b_project_bn True\n",
            "254 block6b_drop True\n",
            "255 block6b_add True\n",
            "256 block6c_expand_conv True\n",
            "257 block6c_expand_bn True\n",
            "258 block6c_expand_activation True\n",
            "259 block6c_dwconv2 True\n",
            "260 block6c_bn True\n",
            "261 block6c_activation True\n",
            "262 block6c_se_squeeze True\n",
            "263 block6c_se_reshape True\n",
            "264 block6c_se_reduce True\n",
            "265 block6c_se_expand True\n",
            "266 block6c_se_excite True\n",
            "267 block6c_project_conv True\n",
            "268 block6c_project_bn True\n",
            "269 block6c_drop True\n",
            "270 block6c_add True\n",
            "271 block6d_expand_conv True\n",
            "272 block6d_expand_bn True\n",
            "273 block6d_expand_activation True\n",
            "274 block6d_dwconv2 True\n",
            "275 block6d_bn True\n",
            "276 block6d_activation True\n",
            "277 block6d_se_squeeze True\n",
            "278 block6d_se_reshape True\n",
            "279 block6d_se_reduce True\n",
            "280 block6d_se_expand True\n",
            "281 block6d_se_excite True\n",
            "282 block6d_project_conv True\n",
            "283 block6d_project_bn True\n",
            "284 block6d_drop True\n",
            "285 block6d_add True\n",
            "286 block6e_expand_conv True\n",
            "287 block6e_expand_bn True\n",
            "288 block6e_expand_activation True\n",
            "289 block6e_dwconv2 True\n",
            "290 block6e_bn True\n",
            "291 block6e_activation True\n",
            "292 block6e_se_squeeze True\n",
            "293 block6e_se_reshape True\n",
            "294 block6e_se_reduce True\n",
            "295 block6e_se_expand True\n",
            "296 block6e_se_excite True\n",
            "297 block6e_project_conv True\n",
            "298 block6e_project_bn True\n",
            "299 block6e_drop True\n",
            "300 block6e_add True\n",
            "301 block6f_expand_conv True\n",
            "302 block6f_expand_bn True\n",
            "303 block6f_expand_activation True\n",
            "304 block6f_dwconv2 True\n",
            "305 block6f_bn True\n",
            "306 block6f_activation True\n",
            "307 block6f_se_squeeze True\n",
            "308 block6f_se_reshape True\n",
            "309 block6f_se_reduce True\n",
            "310 block6f_se_expand True\n",
            "311 block6f_se_excite True\n",
            "312 block6f_project_conv True\n",
            "313 block6f_project_bn True\n",
            "314 block6f_drop True\n",
            "315 block6f_add True\n",
            "316 block6g_expand_conv True\n",
            "317 block6g_expand_bn True\n",
            "318 block6g_expand_activation True\n",
            "319 block6g_dwconv2 True\n",
            "320 block6g_bn True\n",
            "321 block6g_activation True\n",
            "322 block6g_se_squeeze True\n",
            "323 block6g_se_reshape True\n",
            "324 block6g_se_reduce True\n",
            "325 block6g_se_expand True\n",
            "326 block6g_se_excite True\n",
            "327 block6g_project_conv True\n",
            "328 block6g_project_bn True\n",
            "329 block6g_drop True\n",
            "330 block6g_add True\n",
            "331 block6h_expand_conv True\n",
            "332 block6h_expand_bn True\n",
            "333 block6h_expand_activation True\n",
            "334 block6h_dwconv2 True\n",
            "335 block6h_bn True\n",
            "336 block6h_activation True\n",
            "337 block6h_se_squeeze True\n",
            "338 block6h_se_reshape True\n",
            "339 block6h_se_reduce True\n",
            "340 block6h_se_expand True\n",
            "341 block6h_se_excite True\n",
            "342 block6h_project_conv True\n",
            "343 block6h_project_bn True\n",
            "344 block6h_drop True\n",
            "345 block6h_add True\n",
            "346 block6i_expand_conv True\n",
            "347 block6i_expand_bn True\n",
            "348 block6i_expand_activation True\n",
            "349 block6i_dwconv2 True\n",
            "350 block6i_bn True\n",
            "351 block6i_activation True\n",
            "352 block6i_se_squeeze True\n",
            "353 block6i_se_reshape True\n",
            "354 block6i_se_reduce True\n",
            "355 block6i_se_expand True\n",
            "356 block6i_se_excite True\n",
            "357 block6i_project_conv True\n",
            "358 block6i_project_bn True\n",
            "359 block6i_drop True\n",
            "360 block6i_add True\n",
            "361 block6j_expand_conv True\n",
            "362 block6j_expand_bn True\n",
            "363 block6j_expand_activation True\n",
            "364 block6j_dwconv2 True\n",
            "365 block6j_bn True\n",
            "366 block6j_activation True\n",
            "367 block6j_se_squeeze True\n",
            "368 block6j_se_reshape True\n",
            "369 block6j_se_reduce True\n",
            "370 block6j_se_expand True\n",
            "371 block6j_se_excite True\n",
            "372 block6j_project_conv True\n",
            "373 block6j_project_bn True\n",
            "374 block6j_drop True\n",
            "375 block6j_add True\n",
            "376 block6k_expand_conv True\n",
            "377 block6k_expand_bn True\n",
            "378 block6k_expand_activation True\n",
            "379 block6k_dwconv2 True\n",
            "380 block6k_bn True\n",
            "381 block6k_activation True\n",
            "382 block6k_se_squeeze True\n",
            "383 block6k_se_reshape True\n",
            "384 block6k_se_reduce True\n",
            "385 block6k_se_expand True\n",
            "386 block6k_se_excite True\n",
            "387 block6k_project_conv True\n",
            "388 block6k_project_bn True\n",
            "389 block6k_drop True\n",
            "390 block6k_add True\n",
            "391 block6l_expand_conv True\n",
            "392 block6l_expand_bn True\n",
            "393 block6l_expand_activation True\n",
            "394 block6l_dwconv2 True\n",
            "395 block6l_bn True\n",
            "396 block6l_activation True\n",
            "397 block6l_se_squeeze True\n",
            "398 block6l_se_reshape True\n",
            "399 block6l_se_reduce True\n",
            "400 block6l_se_expand True\n",
            "401 block6l_se_excite True\n",
            "402 block6l_project_conv True\n",
            "403 block6l_project_bn True\n",
            "404 block6l_drop True\n",
            "405 block6l_add True\n",
            "406 top_conv True\n",
            "407 top_bn True\n",
            "408 top_activation True\n"
          ]
        }
      ],
      "source": [
        "model.layers[1].trainable=True\n",
        "for i,layer in enumerate(model.layers[1].layers):\n",
        "  print(i, layer.name, layer.trainable)"
      ]
    },
    {
      "cell_type": "code",
      "execution_count": 17,
      "metadata": {
        "colab": {
          "base_uri": "https://localhost:8080/"
        },
        "id": "15OMk1-ZkmqP",
        "outputId": "72479564-1354-4723-a049-c1cd1ff3679a"
      },
      "outputs": [
        {
          "name": "stdout",
          "output_type": "stream",
          "text": [
            "0 input_1 False\n",
            "1 rescaling False\n",
            "2 normalization False\n",
            "3 stem_conv False\n",
            "4 stem_bn False\n",
            "5 stem_activation False\n",
            "6 block1a_project_conv False\n",
            "7 block1a_project_bn False\n",
            "8 block1a_project_activation False\n",
            "9 block1b_project_conv False\n",
            "10 block1b_project_bn False\n",
            "11 block1b_project_activation False\n",
            "12 block1b_drop False\n",
            "13 block1b_add False\n",
            "14 block2a_expand_conv False\n",
            "15 block2a_expand_bn False\n",
            "16 block2a_expand_activation False\n",
            "17 block2a_project_conv False\n",
            "18 block2a_project_bn False\n",
            "19 block2b_expand_conv False\n",
            "20 block2b_expand_bn False\n",
            "21 block2b_expand_activation False\n",
            "22 block2b_project_conv False\n",
            "23 block2b_project_bn False\n",
            "24 block2b_drop False\n",
            "25 block2b_add False\n",
            "26 block2c_expand_conv False\n",
            "27 block2c_expand_bn False\n",
            "28 block2c_expand_activation False\n",
            "29 block2c_project_conv False\n",
            "30 block2c_project_bn False\n",
            "31 block2c_drop False\n",
            "32 block2c_add False\n",
            "33 block3a_expand_conv False\n",
            "34 block3a_expand_bn False\n",
            "35 block3a_expand_activation False\n",
            "36 block3a_project_conv False\n",
            "37 block3a_project_bn False\n",
            "38 block3b_expand_conv False\n",
            "39 block3b_expand_bn False\n",
            "40 block3b_expand_activation False\n",
            "41 block3b_project_conv False\n",
            "42 block3b_project_bn False\n",
            "43 block3b_drop False\n",
            "44 block3b_add False\n",
            "45 block3c_expand_conv False\n",
            "46 block3c_expand_bn False\n",
            "47 block3c_expand_activation False\n",
            "48 block3c_project_conv False\n",
            "49 block3c_project_bn False\n",
            "50 block3c_drop False\n",
            "51 block3c_add False\n",
            "52 block4a_expand_conv False\n",
            "53 block4a_expand_bn False\n",
            "54 block4a_expand_activation False\n",
            "55 block4a_dwconv2 False\n",
            "56 block4a_bn False\n",
            "57 block4a_activation False\n",
            "58 block4a_se_squeeze False\n",
            "59 block4a_se_reshape False\n",
            "60 block4a_se_reduce False\n",
            "61 block4a_se_expand False\n",
            "62 block4a_se_excite False\n",
            "63 block4a_project_conv False\n",
            "64 block4a_project_bn False\n",
            "65 block4b_expand_conv False\n",
            "66 block4b_expand_bn False\n",
            "67 block4b_expand_activation False\n",
            "68 block4b_dwconv2 False\n",
            "69 block4b_bn False\n",
            "70 block4b_activation False\n",
            "71 block4b_se_squeeze False\n",
            "72 block4b_se_reshape False\n",
            "73 block4b_se_reduce False\n",
            "74 block4b_se_expand False\n",
            "75 block4b_se_excite False\n",
            "76 block4b_project_conv False\n",
            "77 block4b_project_bn False\n",
            "78 block4b_drop False\n",
            "79 block4b_add False\n",
            "80 block4c_expand_conv False\n",
            "81 block4c_expand_bn False\n",
            "82 block4c_expand_activation False\n",
            "83 block4c_dwconv2 False\n",
            "84 block4c_bn False\n",
            "85 block4c_activation False\n",
            "86 block4c_se_squeeze False\n",
            "87 block4c_se_reshape False\n",
            "88 block4c_se_reduce False\n",
            "89 block4c_se_expand False\n",
            "90 block4c_se_excite False\n",
            "91 block4c_project_conv False\n",
            "92 block4c_project_bn False\n",
            "93 block4c_drop False\n",
            "94 block4c_add False\n",
            "95 block4d_expand_conv False\n",
            "96 block4d_expand_bn False\n",
            "97 block4d_expand_activation False\n",
            "98 block4d_dwconv2 False\n",
            "99 block4d_bn False\n",
            "100 block4d_activation False\n",
            "101 block4d_se_squeeze False\n",
            "102 block4d_se_reshape False\n",
            "103 block4d_se_reduce False\n",
            "104 block4d_se_expand False\n",
            "105 block4d_se_excite False\n",
            "106 block4d_project_conv False\n",
            "107 block4d_project_bn False\n",
            "108 block4d_drop False\n",
            "109 block4d_add False\n",
            "110 block4e_expand_conv False\n",
            "111 block4e_expand_bn False\n",
            "112 block4e_expand_activation False\n",
            "113 block4e_dwconv2 False\n",
            "114 block4e_bn False\n",
            "115 block4e_activation False\n",
            "116 block4e_se_squeeze False\n",
            "117 block4e_se_reshape False\n",
            "118 block4e_se_reduce False\n",
            "119 block4e_se_expand False\n",
            "120 block4e_se_excite False\n",
            "121 block4e_project_conv False\n",
            "122 block4e_project_bn False\n",
            "123 block4e_drop False\n",
            "124 block4e_add False\n",
            "125 block5a_expand_conv False\n",
            "126 block5a_expand_bn False\n",
            "127 block5a_expand_activation False\n",
            "128 block5a_dwconv2 False\n",
            "129 block5a_bn False\n",
            "130 block5a_activation False\n",
            "131 block5a_se_squeeze False\n",
            "132 block5a_se_reshape False\n",
            "133 block5a_se_reduce False\n",
            "134 block5a_se_expand False\n",
            "135 block5a_se_excite False\n",
            "136 block5a_project_conv False\n",
            "137 block5a_project_bn False\n",
            "138 block5b_expand_conv False\n",
            "139 block5b_expand_bn False\n",
            "140 block5b_expand_activation False\n",
            "141 block5b_dwconv2 False\n",
            "142 block5b_bn False\n",
            "143 block5b_activation False\n",
            "144 block5b_se_squeeze False\n",
            "145 block5b_se_reshape False\n",
            "146 block5b_se_reduce False\n",
            "147 block5b_se_expand False\n",
            "148 block5b_se_excite False\n",
            "149 block5b_project_conv False\n",
            "150 block5b_project_bn False\n",
            "151 block5b_drop False\n",
            "152 block5b_add False\n",
            "153 block5c_expand_conv False\n",
            "154 block5c_expand_bn False\n",
            "155 block5c_expand_activation False\n",
            "156 block5c_dwconv2 False\n",
            "157 block5c_bn False\n",
            "158 block5c_activation False\n",
            "159 block5c_se_squeeze False\n",
            "160 block5c_se_reshape False\n",
            "161 block5c_se_reduce False\n",
            "162 block5c_se_expand False\n",
            "163 block5c_se_excite False\n",
            "164 block5c_project_conv False\n",
            "165 block5c_project_bn False\n",
            "166 block5c_drop False\n",
            "167 block5c_add False\n",
            "168 block5d_expand_conv False\n",
            "169 block5d_expand_bn False\n",
            "170 block5d_expand_activation False\n",
            "171 block5d_dwconv2 False\n",
            "172 block5d_bn False\n",
            "173 block5d_activation False\n",
            "174 block5d_se_squeeze False\n",
            "175 block5d_se_reshape False\n",
            "176 block5d_se_reduce False\n",
            "177 block5d_se_expand False\n",
            "178 block5d_se_excite False\n",
            "179 block5d_project_conv False\n",
            "180 block5d_project_bn False\n",
            "181 block5d_drop False\n",
            "182 block5d_add False\n",
            "183 block5e_expand_conv False\n",
            "184 block5e_expand_bn False\n",
            "185 block5e_expand_activation False\n",
            "186 block5e_dwconv2 False\n",
            "187 block5e_bn False\n",
            "188 block5e_activation False\n",
            "189 block5e_se_squeeze False\n",
            "190 block5e_se_reshape False\n",
            "191 block5e_se_reduce False\n",
            "192 block5e_se_expand False\n",
            "193 block5e_se_excite False\n",
            "194 block5e_project_conv False\n",
            "195 block5e_project_bn False\n",
            "196 block5e_drop False\n",
            "197 block5e_add False\n",
            "198 block5f_expand_conv False\n",
            "199 block5f_expand_bn False\n",
            "200 block5f_expand_activation False\n",
            "201 block5f_dwconv2 False\n",
            "202 block5f_bn False\n",
            "203 block5f_activation False\n",
            "204 block5f_se_squeeze False\n",
            "205 block5f_se_reshape False\n",
            "206 block5f_se_reduce False\n",
            "207 block5f_se_expand False\n",
            "208 block5f_se_excite False\n",
            "209 block5f_project_conv False\n",
            "210 block5f_project_bn False\n",
            "211 block5f_drop False\n",
            "212 block5f_add False\n",
            "213 block5g_expand_conv False\n",
            "214 block5g_expand_bn False\n",
            "215 block5g_expand_activation False\n",
            "216 block5g_dwconv2 False\n",
            "217 block5g_bn False\n",
            "218 block5g_activation False\n",
            "219 block5g_se_squeeze False\n",
            "220 block5g_se_reshape False\n",
            "221 block5g_se_reduce False\n",
            "222 block5g_se_expand False\n",
            "223 block5g_se_excite False\n",
            "224 block5g_project_conv False\n",
            "225 block5g_project_bn False\n",
            "226 block5g_drop False\n",
            "227 block5g_add False\n",
            "228 block6a_expand_conv False\n",
            "229 block6a_expand_bn False\n",
            "230 block6a_expand_activation False\n",
            "231 block6a_dwconv2 False\n",
            "232 block6a_bn False\n",
            "233 block6a_activation False\n",
            "234 block6a_se_squeeze False\n",
            "235 block6a_se_reshape False\n",
            "236 block6a_se_reduce False\n",
            "237 block6a_se_expand False\n",
            "238 block6a_se_excite False\n",
            "239 block6a_project_conv False\n",
            "240 block6a_project_bn False\n",
            "241 block6b_expand_conv False\n",
            "242 block6b_expand_bn False\n",
            "243 block6b_expand_activation False\n",
            "244 block6b_dwconv2 False\n",
            "245 block6b_bn False\n",
            "246 block6b_activation False\n",
            "247 block6b_se_squeeze False\n",
            "248 block6b_se_reshape False\n",
            "249 block6b_se_reduce False\n",
            "250 block6b_se_expand False\n",
            "251 block6b_se_excite False\n",
            "252 block6b_project_conv False\n",
            "253 block6b_project_bn False\n",
            "254 block6b_drop False\n",
            "255 block6b_add False\n",
            "256 block6c_expand_conv False\n",
            "257 block6c_expand_bn False\n",
            "258 block6c_expand_activation False\n",
            "259 block6c_dwconv2 False\n",
            "260 block6c_bn False\n",
            "261 block6c_activation False\n",
            "262 block6c_se_squeeze False\n",
            "263 block6c_se_reshape False\n",
            "264 block6c_se_reduce False\n",
            "265 block6c_se_expand False\n",
            "266 block6c_se_excite False\n",
            "267 block6c_project_conv False\n",
            "268 block6c_project_bn False\n",
            "269 block6c_drop False\n",
            "270 block6c_add False\n",
            "271 block6d_expand_conv False\n",
            "272 block6d_expand_bn False\n",
            "273 block6d_expand_activation False\n",
            "274 block6d_dwconv2 False\n",
            "275 block6d_bn False\n",
            "276 block6d_activation False\n",
            "277 block6d_se_squeeze False\n",
            "278 block6d_se_reshape False\n",
            "279 block6d_se_reduce False\n",
            "280 block6d_se_expand False\n",
            "281 block6d_se_excite False\n",
            "282 block6d_project_conv False\n",
            "283 block6d_project_bn False\n",
            "284 block6d_drop False\n",
            "285 block6d_add False\n",
            "286 block6e_expand_conv False\n",
            "287 block6e_expand_bn False\n",
            "288 block6e_expand_activation False\n",
            "289 block6e_dwconv2 False\n",
            "290 block6e_bn False\n",
            "291 block6e_activation False\n",
            "292 block6e_se_squeeze False\n",
            "293 block6e_se_reshape False\n",
            "294 block6e_se_reduce False\n",
            "295 block6e_se_expand False\n",
            "296 block6e_se_excite False\n",
            "297 block6e_project_conv False\n",
            "298 block6e_project_bn False\n",
            "299 block6e_drop False\n",
            "300 block6e_add False\n",
            "301 block6f_expand_conv False\n",
            "302 block6f_expand_bn False\n",
            "303 block6f_expand_activation False\n",
            "304 block6f_dwconv2 False\n",
            "305 block6f_bn False\n",
            "306 block6f_activation False\n",
            "307 block6f_se_squeeze False\n",
            "308 block6f_se_reshape False\n",
            "309 block6f_se_reduce False\n",
            "310 block6f_se_expand False\n",
            "311 block6f_se_excite False\n",
            "312 block6f_project_conv False\n",
            "313 block6f_project_bn False\n",
            "314 block6f_drop False\n",
            "315 block6f_add False\n",
            "316 block6g_expand_conv False\n",
            "317 block6g_expand_bn False\n",
            "318 block6g_expand_activation False\n",
            "319 block6g_dwconv2 False\n",
            "320 block6g_bn False\n",
            "321 block6g_activation False\n",
            "322 block6g_se_squeeze False\n",
            "323 block6g_se_reshape False\n",
            "324 block6g_se_reduce False\n",
            "325 block6g_se_expand False\n",
            "326 block6g_se_excite False\n",
            "327 block6g_project_conv False\n",
            "328 block6g_project_bn False\n",
            "329 block6g_drop False\n",
            "330 block6g_add False\n",
            "331 block6h_expand_conv False\n",
            "332 block6h_expand_bn False\n",
            "333 block6h_expand_activation False\n",
            "334 block6h_dwconv2 False\n",
            "335 block6h_bn False\n",
            "336 block6h_activation False\n",
            "337 block6h_se_squeeze False\n",
            "338 block6h_se_reshape False\n",
            "339 block6h_se_reduce False\n",
            "340 block6h_se_expand False\n",
            "341 block6h_se_excite False\n",
            "342 block6h_project_conv False\n",
            "343 block6h_project_bn False\n",
            "344 block6h_drop False\n",
            "345 block6h_add False\n",
            "346 block6i_expand_conv False\n",
            "347 block6i_expand_bn False\n",
            "348 block6i_expand_activation False\n",
            "349 block6i_dwconv2 False\n",
            "350 block6i_bn False\n",
            "351 block6i_activation False\n",
            "352 block6i_se_squeeze False\n",
            "353 block6i_se_reshape False\n",
            "354 block6i_se_reduce False\n",
            "355 block6i_se_expand False\n",
            "356 block6i_se_excite False\n",
            "357 block6i_project_conv False\n",
            "358 block6i_project_bn False\n",
            "359 block6i_drop False\n",
            "360 block6i_add False\n",
            "361 block6j_expand_conv False\n",
            "362 block6j_expand_bn False\n",
            "363 block6j_expand_activation False\n",
            "364 block6j_dwconv2 False\n",
            "365 block6j_bn False\n",
            "366 block6j_activation False\n",
            "367 block6j_se_squeeze False\n",
            "368 block6j_se_reshape False\n",
            "369 block6j_se_reduce False\n",
            "370 block6j_se_expand False\n",
            "371 block6j_se_excite False\n",
            "372 block6j_project_conv False\n",
            "373 block6j_project_bn False\n",
            "374 block6j_drop False\n",
            "375 block6j_add False\n",
            "376 block6k_expand_conv False\n",
            "377 block6k_expand_bn False\n",
            "378 block6k_expand_activation False\n",
            "379 block6k_dwconv2 False\n",
            "380 block6k_bn False\n",
            "381 block6k_activation False\n",
            "382 block6k_se_squeeze False\n",
            "383 block6k_se_reshape False\n",
            "384 block6k_se_reduce True\n",
            "385 block6k_se_expand True\n",
            "386 block6k_se_excite True\n",
            "387 block6k_project_conv True\n",
            "388 block6k_project_bn True\n",
            "389 block6k_drop True\n",
            "390 block6k_add True\n",
            "391 block6l_expand_conv True\n",
            "392 block6l_expand_bn True\n",
            "393 block6l_expand_activation True\n",
            "394 block6l_dwconv2 True\n",
            "395 block6l_bn True\n",
            "396 block6l_activation True\n",
            "397 block6l_se_squeeze True\n",
            "398 block6l_se_reshape True\n",
            "399 block6l_se_reduce True\n",
            "400 block6l_se_expand True\n",
            "401 block6l_se_excite True\n",
            "402 block6l_project_conv True\n",
            "403 block6l_project_bn True\n",
            "404 block6l_drop True\n",
            "405 block6l_add True\n",
            "406 top_conv True\n",
            "407 top_bn True\n",
            "408 top_activation True\n"
          ]
        }
      ],
      "source": [
        "for i,layer in enumerate(model.layers[1].layers[:-25]):\n",
        "  layer.trainable=False\n",
        "for i,layer in enumerate(model.layers[1].layers):\n",
        "  print(i, layer.name, layer.trainable)"
      ]
    },
    {
      "cell_type": "code",
      "execution_count": 21,
      "metadata": {
        "id": "bDdT27Iyi0bX"
      },
      "outputs": [],
      "source": [
        "early_stopping = tf.keras.callbacks.EarlyStopping(monitor=\"val_loss\",\n",
        "                                                  patience=3)\n",
        "checkpoint_path = \"fine_tune_checkpoints/\"\n",
        "model_checkpoint = tf.keras.callbacks.ModelCheckpoint(checkpoint_path,\n",
        "                                                      save_best_only=True,\n",
        "                                                      monitor=\"val_loss\")"
      ]
    },
    {
      "cell_type": "code",
      "execution_count": 22,
      "metadata": {
        "id": "ipaZff4_jY2k"
      },
      "outputs": [],
      "source": [
        "model.compile(loss=\"sparse_categorical_crossentropy\",\n",
        "              optimizer=tf.keras.optimizers.Adam(0.0005),\n",
        "              metrics=[\"accuracy\"])"
      ]
    },
    {
      "cell_type": "code",
      "execution_count": 23,
      "metadata": {
        "colab": {
          "base_uri": "https://localhost:8080/"
        },
        "id": "S2jRs16Zk7N7",
        "outputId": "239a35c2-4e63-420b-9f76-f19e913da409"
      },
      "outputs": [
        {
          "name": "stdout",
          "output_type": "stream",
          "text": [
            "Epoch 6/100\n"
          ]
        },
        {
          "name": "stdout",
          "output_type": "stream",
          "text": [
            "1184/1184 [==============================] - ETA: 0s - loss: 0.8165 - accuracy: 0.7781INFO:tensorflow:Unsupported signature for serialization: ((TensorSpec(shape=(1, 1, 1392, 58), dtype=tf.float32, name='gradient'), <tensorflow.python.framework.func_graph.UnknownArgument object at 0x7ce7ade0a890>, 137340650305728), {}).\n"
          ]
        },
        {
          "name": "stderr",
          "output_type": "stream",
          "text": [
            "INFO:tensorflow:Unsupported signature for serialization: ((TensorSpec(shape=(1, 1, 1392, 58), dtype=tf.float32, name='gradient'), <tensorflow.python.framework.func_graph.UnknownArgument object at 0x7ce7ade0a890>, 137340650305728), {}).\n"
          ]
        },
        {
          "name": "stdout",
          "output_type": "stream",
          "text": [
            "INFO:tensorflow:Unsupported signature for serialization: ((TensorSpec(shape=(58,), dtype=tf.float32, name='gradient'), <tensorflow.python.framework.func_graph.UnknownArgument object at 0x7ce7af18b090>, 137340650307248), {}).\n"
          ]
        },
        {
          "name": "stderr",
          "output_type": "stream",
          "text": [
            "INFO:tensorflow:Unsupported signature for serialization: ((TensorSpec(shape=(58,), dtype=tf.float32, name='gradient'), <tensorflow.python.framework.func_graph.UnknownArgument object at 0x7ce7af18b090>, 137340650307248), {}).\n"
          ]
        },
        {
          "name": "stdout",
          "output_type": "stream",
          "text": [
            "INFO:tensorflow:Unsupported signature for serialization: ((TensorSpec(shape=(1, 1, 58, 1392), dtype=tf.float32, name='gradient'), <tensorflow.python.framework.func_graph.UnknownArgument object at 0x7ce7af4ffb90>, 137340650464528), {}).\n"
          ]
        },
        {
          "name": "stderr",
          "output_type": "stream",
          "text": [
            "INFO:tensorflow:Unsupported signature for serialization: ((TensorSpec(shape=(1, 1, 58, 1392), dtype=tf.float32, name='gradient'), <tensorflow.python.framework.func_graph.UnknownArgument object at 0x7ce7af4ffb90>, 137340650464528), {}).\n"
          ]
        },
        {
          "name": "stdout",
          "output_type": "stream",
          "text": [
            "INFO:tensorflow:Unsupported signature for serialization: ((TensorSpec(shape=(1392,), dtype=tf.float32, name='gradient'), <tensorflow.python.framework.func_graph.UnknownArgument object at 0x7ce7ae7bc050>, 137340650464128), {}).\n"
          ]
        },
        {
          "name": "stderr",
          "output_type": "stream",
          "text": [
            "INFO:tensorflow:Unsupported signature for serialization: ((TensorSpec(shape=(1392,), dtype=tf.float32, name='gradient'), <tensorflow.python.framework.func_graph.UnknownArgument object at 0x7ce7ae7bc050>, 137340650464128), {}).\n"
          ]
        },
        {
          "name": "stdout",
          "output_type": "stream",
          "text": [
            "INFO:tensorflow:Unsupported signature for serialization: ((TensorSpec(shape=(1, 1, 1392, 232), dtype=tf.float32, name='gradient'), <tensorflow.python.framework.func_graph.UnknownArgument object at 0x7ce7ac3fd2d0>, 137340649550160), {}).\n"
          ]
        },
        {
          "name": "stderr",
          "output_type": "stream",
          "text": [
            "INFO:tensorflow:Unsupported signature for serialization: ((TensorSpec(shape=(1, 1, 1392, 232), dtype=tf.float32, name='gradient'), <tensorflow.python.framework.func_graph.UnknownArgument object at 0x7ce7ac3fd2d0>, 137340649550160), {}).\n"
          ]
        },
        {
          "name": "stdout",
          "output_type": "stream",
          "text": [
            "INFO:tensorflow:Unsupported signature for serialization: ((TensorSpec(shape=(1, 1, 232, 1392), dtype=tf.float32, name='gradient'), <tensorflow.python.framework.func_graph.UnknownArgument object at 0x7ce802843e90>, 137340650462368), {}).\n"
          ]
        },
        {
          "name": "stderr",
          "output_type": "stream",
          "text": [
            "INFO:tensorflow:Unsupported signature for serialization: ((TensorSpec(shape=(1, 1, 232, 1392), dtype=tf.float32, name='gradient'), <tensorflow.python.framework.func_graph.UnknownArgument object at 0x7ce802843e90>, 137340650462368), {}).\n"
          ]
        },
        {
          "name": "stdout",
          "output_type": "stream",
          "text": [
            "INFO:tensorflow:Unsupported signature for serialization: ((TensorSpec(shape=(3, 3, 1392, 1), dtype=tf.float32, name='gradient'), <tensorflow.python.framework.func_graph.UnknownArgument object at 0x7ce801a52f90>, 137340650314640), {}).\n"
          ]
        },
        {
          "name": "stderr",
          "output_type": "stream",
          "text": [
            "INFO:tensorflow:Unsupported signature for serialization: ((TensorSpec(shape=(3, 3, 1392, 1), dtype=tf.float32, name='gradient'), <tensorflow.python.framework.func_graph.UnknownArgument object at 0x7ce801a52f90>, 137340650314640), {}).\n"
          ]
        },
        {
          "name": "stdout",
          "output_type": "stream",
          "text": [
            "INFO:tensorflow:Unsupported signature for serialization: ((TensorSpec(shape=(1, 1, 1392, 58), dtype=tf.float32, name='gradient'), <tensorflow.python.framework.func_graph.UnknownArgument object at 0x7ce801d8aed0>, 137340648625840), {}).\n"
          ]
        },
        {
          "name": "stderr",
          "output_type": "stream",
          "text": [
            "INFO:tensorflow:Unsupported signature for serialization: ((TensorSpec(shape=(1, 1, 1392, 58), dtype=tf.float32, name='gradient'), <tensorflow.python.framework.func_graph.UnknownArgument object at 0x7ce801d8aed0>, 137340648625840), {}).\n"
          ]
        },
        {
          "name": "stdout",
          "output_type": "stream",
          "text": [
            "INFO:tensorflow:Unsupported signature for serialization: ((TensorSpec(shape=(58,), dtype=tf.float32, name='gradient'), <tensorflow.python.framework.func_graph.UnknownArgument object at 0x7ce801009c90>, 137340648626400), {}).\n"
          ]
        },
        {
          "name": "stderr",
          "output_type": "stream",
          "text": [
            "INFO:tensorflow:Unsupported signature for serialization: ((TensorSpec(shape=(58,), dtype=tf.float32, name='gradient'), <tensorflow.python.framework.func_graph.UnknownArgument object at 0x7ce801009c90>, 137340648626400), {}).\n"
          ]
        },
        {
          "name": "stdout",
          "output_type": "stream",
          "text": [
            "INFO:tensorflow:Unsupported signature for serialization: ((TensorSpec(shape=(1, 1, 58, 1392), dtype=tf.float32, name='gradient'), <tensorflow.python.framework.func_graph.UnknownArgument object at 0x7ce80172c1d0>, 137340648631120), {}).\n"
          ]
        },
        {
          "name": "stderr",
          "output_type": "stream",
          "text": [
            "INFO:tensorflow:Unsupported signature for serialization: ((TensorSpec(shape=(1, 1, 58, 1392), dtype=tf.float32, name='gradient'), <tensorflow.python.framework.func_graph.UnknownArgument object at 0x7ce80172c1d0>, 137340648631120), {}).\n"
          ]
        },
        {
          "name": "stdout",
          "output_type": "stream",
          "text": [
            "INFO:tensorflow:Unsupported signature for serialization: ((TensorSpec(shape=(1392,), dtype=tf.float32, name='gradient'), <tensorflow.python.framework.func_graph.UnknownArgument object at 0x7ce800fb5510>, 137340648630720), {}).\n"
          ]
        },
        {
          "name": "stderr",
          "output_type": "stream",
          "text": [
            "INFO:tensorflow:Unsupported signature for serialization: ((TensorSpec(shape=(1392,), dtype=tf.float32, name='gradient'), <tensorflow.python.framework.func_graph.UnknownArgument object at 0x7ce800fb5510>, 137340648630720), {}).\n"
          ]
        },
        {
          "name": "stdout",
          "output_type": "stream",
          "text": [
            "INFO:tensorflow:Unsupported signature for serialization: ((TensorSpec(shape=(1, 1, 1392, 232), dtype=tf.float32, name='gradient'), <tensorflow.python.framework.func_graph.UnknownArgument object at 0x7ce802a16f10>, 137340650320304), {}).\n"
          ]
        },
        {
          "name": "stderr",
          "output_type": "stream",
          "text": [
            "INFO:tensorflow:Unsupported signature for serialization: ((TensorSpec(shape=(1, 1, 1392, 232), dtype=tf.float32, name='gradient'), <tensorflow.python.framework.func_graph.UnknownArgument object at 0x7ce802a16f10>, 137340650320304), {}).\n"
          ]
        },
        {
          "name": "stdout",
          "output_type": "stream",
          "text": [
            "INFO:tensorflow:Unsupported signature for serialization: ((TensorSpec(shape=(1, 1, 232, 1536), dtype=tf.float32, name='gradient'), <tensorflow.python.framework.func_graph.UnknownArgument object at 0x7ce91502a510>, 137340648730144), {}).\n"
          ]
        },
        {
          "name": "stderr",
          "output_type": "stream",
          "text": [
            "INFO:tensorflow:Unsupported signature for serialization: ((TensorSpec(shape=(1, 1, 232, 1536), dtype=tf.float32, name='gradient'), <tensorflow.python.framework.func_graph.UnknownArgument object at 0x7ce91502a510>, 137340648730144), {}).\n"
          ]
        },
        {
          "name": "stdout",
          "output_type": "stream",
          "text": [
            "INFO:tensorflow:Unsupported signature for serialization: ((TensorSpec(shape=(1536, 101), dtype=tf.float32, name='gradient'), <tensorflow.python.framework.func_graph.UnknownArgument object at 0x7ce914cc82d0>, 137340644431056), {}).\n"
          ]
        },
        {
          "name": "stderr",
          "output_type": "stream",
          "text": [
            "INFO:tensorflow:Unsupported signature for serialization: ((TensorSpec(shape=(1536, 101), dtype=tf.float32, name='gradient'), <tensorflow.python.framework.func_graph.UnknownArgument object at 0x7ce914cc82d0>, 137340644431056), {}).\n"
          ]
        },
        {
          "name": "stdout",
          "output_type": "stream",
          "text": [
            "INFO:tensorflow:Unsupported signature for serialization: ((TensorSpec(shape=(101,), dtype=tf.float32, name='gradient'), <tensorflow.python.framework.func_graph.UnknownArgument object at 0x7ce91553c8d0>, 137340644430416), {}).\n"
          ]
        },
        {
          "name": "stderr",
          "output_type": "stream",
          "text": [
            "INFO:tensorflow:Unsupported signature for serialization: ((TensorSpec(shape=(101,), dtype=tf.float32, name='gradient'), <tensorflow.python.framework.func_graph.UnknownArgument object at 0x7ce91553c8d0>, 137340644430416), {}).\n"
          ]
        },
        {
          "name": "stdout",
          "output_type": "stream",
          "text": [
            "INFO:tensorflow:Unsupported signature for serialization: ((TensorSpec(shape=(1, 1, 1392, 58), dtype=tf.float32, name='gradient'), <tensorflow.python.framework.func_graph.UnknownArgument object at 0x7ce8012c4a10>, 137340650305728), {}).\n"
          ]
        },
        {
          "name": "stderr",
          "output_type": "stream",
          "text": [
            "INFO:tensorflow:Unsupported signature for serialization: ((TensorSpec(shape=(1, 1, 1392, 58), dtype=tf.float32, name='gradient'), <tensorflow.python.framework.func_graph.UnknownArgument object at 0x7ce8012c4a10>, 137340650305728), {}).\n"
          ]
        },
        {
          "name": "stdout",
          "output_type": "stream",
          "text": [
            "INFO:tensorflow:Unsupported signature for serialization: ((TensorSpec(shape=(58,), dtype=tf.float32, name='gradient'), <tensorflow.python.framework.func_graph.UnknownArgument object at 0x7ce7ada646d0>, 137340650307248), {}).\n"
          ]
        },
        {
          "name": "stderr",
          "output_type": "stream",
          "text": [
            "INFO:tensorflow:Unsupported signature for serialization: ((TensorSpec(shape=(58,), dtype=tf.float32, name='gradient'), <tensorflow.python.framework.func_graph.UnknownArgument object at 0x7ce7ada646d0>, 137340650307248), {}).\n"
          ]
        },
        {
          "name": "stdout",
          "output_type": "stream",
          "text": [
            "INFO:tensorflow:Unsupported signature for serialization: ((TensorSpec(shape=(1, 1, 58, 1392), dtype=tf.float32, name='gradient'), <tensorflow.python.framework.func_graph.UnknownArgument object at 0x7ce7ada339d0>, 137340650464528), {}).\n"
          ]
        },
        {
          "name": "stderr",
          "output_type": "stream",
          "text": [
            "INFO:tensorflow:Unsupported signature for serialization: ((TensorSpec(shape=(1, 1, 58, 1392), dtype=tf.float32, name='gradient'), <tensorflow.python.framework.func_graph.UnknownArgument object at 0x7ce7ada339d0>, 137340650464528), {}).\n"
          ]
        },
        {
          "name": "stdout",
          "output_type": "stream",
          "text": [
            "INFO:tensorflow:Unsupported signature for serialization: ((TensorSpec(shape=(1392,), dtype=tf.float32, name='gradient'), <tensorflow.python.framework.func_graph.UnknownArgument object at 0x7ce7adbfa450>, 137340650464128), {}).\n"
          ]
        },
        {
          "name": "stderr",
          "output_type": "stream",
          "text": [
            "INFO:tensorflow:Unsupported signature for serialization: ((TensorSpec(shape=(1392,), dtype=tf.float32, name='gradient'), <tensorflow.python.framework.func_graph.UnknownArgument object at 0x7ce7adbfa450>, 137340650464128), {}).\n"
          ]
        },
        {
          "name": "stdout",
          "output_type": "stream",
          "text": [
            "INFO:tensorflow:Unsupported signature for serialization: ((TensorSpec(shape=(1, 1, 1392, 232), dtype=tf.float32, name='gradient'), <tensorflow.python.framework.func_graph.UnknownArgument object at 0x7ce7adbcb290>, 137340649550160), {}).\n"
          ]
        },
        {
          "name": "stderr",
          "output_type": "stream",
          "text": [
            "INFO:tensorflow:Unsupported signature for serialization: ((TensorSpec(shape=(1, 1, 1392, 232), dtype=tf.float32, name='gradient'), <tensorflow.python.framework.func_graph.UnknownArgument object at 0x7ce7adbcb290>, 137340649550160), {}).\n"
          ]
        },
        {
          "name": "stdout",
          "output_type": "stream",
          "text": [
            "INFO:tensorflow:Unsupported signature for serialization: ((TensorSpec(shape=(1, 1, 232, 1392), dtype=tf.float32, name='gradient'), <tensorflow.python.framework.func_graph.UnknownArgument object at 0x7ce7adb9fd50>, 137340650462368), {}).\n"
          ]
        },
        {
          "name": "stderr",
          "output_type": "stream",
          "text": [
            "INFO:tensorflow:Unsupported signature for serialization: ((TensorSpec(shape=(1, 1, 232, 1392), dtype=tf.float32, name='gradient'), <tensorflow.python.framework.func_graph.UnknownArgument object at 0x7ce7adb9fd50>, 137340650462368), {}).\n"
          ]
        },
        {
          "name": "stdout",
          "output_type": "stream",
          "text": [
            "INFO:tensorflow:Unsupported signature for serialization: ((TensorSpec(shape=(3, 3, 1392, 1), dtype=tf.float32, name='gradient'), <tensorflow.python.framework.func_graph.UnknownArgument object at 0x7ce7adb77950>, 137340650314640), {}).\n"
          ]
        },
        {
          "name": "stderr",
          "output_type": "stream",
          "text": [
            "INFO:tensorflow:Unsupported signature for serialization: ((TensorSpec(shape=(3, 3, 1392, 1), dtype=tf.float32, name='gradient'), <tensorflow.python.framework.func_graph.UnknownArgument object at 0x7ce7adb77950>, 137340650314640), {}).\n"
          ]
        },
        {
          "name": "stdout",
          "output_type": "stream",
          "text": [
            "INFO:tensorflow:Unsupported signature for serialization: ((TensorSpec(shape=(1, 1, 1392, 58), dtype=tf.float32, name='gradient'), <tensorflow.python.framework.func_graph.UnknownArgument object at 0x7ce7adb43a90>, 137340648625840), {}).\n"
          ]
        },
        {
          "name": "stderr",
          "output_type": "stream",
          "text": [
            "INFO:tensorflow:Unsupported signature for serialization: ((TensorSpec(shape=(1, 1, 1392, 58), dtype=tf.float32, name='gradient'), <tensorflow.python.framework.func_graph.UnknownArgument object at 0x7ce7adb43a90>, 137340648625840), {}).\n"
          ]
        },
        {
          "name": "stdout",
          "output_type": "stream",
          "text": [
            "INFO:tensorflow:Unsupported signature for serialization: ((TensorSpec(shape=(58,), dtype=tf.float32, name='gradient'), <tensorflow.python.framework.func_graph.UnknownArgument object at 0x7ce7adb2a790>, 137340648626400), {}).\n"
          ]
        },
        {
          "name": "stderr",
          "output_type": "stream",
          "text": [
            "INFO:tensorflow:Unsupported signature for serialization: ((TensorSpec(shape=(58,), dtype=tf.float32, name='gradient'), <tensorflow.python.framework.func_graph.UnknownArgument object at 0x7ce7adb2a790>, 137340648626400), {}).\n"
          ]
        },
        {
          "name": "stdout",
          "output_type": "stream",
          "text": [
            "INFO:tensorflow:Unsupported signature for serialization: ((TensorSpec(shape=(1, 1, 58, 1392), dtype=tf.float32, name='gradient'), <tensorflow.python.framework.func_graph.UnknownArgument object at 0x7ce7adcfc250>, 137340648631120), {}).\n"
          ]
        },
        {
          "name": "stderr",
          "output_type": "stream",
          "text": [
            "INFO:tensorflow:Unsupported signature for serialization: ((TensorSpec(shape=(1, 1, 58, 1392), dtype=tf.float32, name='gradient'), <tensorflow.python.framework.func_graph.UnknownArgument object at 0x7ce7adcfc250>, 137340648631120), {}).\n"
          ]
        },
        {
          "name": "stdout",
          "output_type": "stream",
          "text": [
            "INFO:tensorflow:Unsupported signature for serialization: ((TensorSpec(shape=(1392,), dtype=tf.float32, name='gradient'), <tensorflow.python.framework.func_graph.UnknownArgument object at 0x7ce7adcd7310>, 137340648630720), {}).\n"
          ]
        },
        {
          "name": "stderr",
          "output_type": "stream",
          "text": [
            "INFO:tensorflow:Unsupported signature for serialization: ((TensorSpec(shape=(1392,), dtype=tf.float32, name='gradient'), <tensorflow.python.framework.func_graph.UnknownArgument object at 0x7ce7adcd7310>, 137340648630720), {}).\n"
          ]
        },
        {
          "name": "stdout",
          "output_type": "stream",
          "text": [
            "INFO:tensorflow:Unsupported signature for serialization: ((TensorSpec(shape=(1, 1, 1392, 232), dtype=tf.float32, name='gradient'), <tensorflow.python.framework.func_graph.UnknownArgument object at 0x7ce7adc9bcd0>, 137340650320304), {}).\n"
          ]
        },
        {
          "name": "stderr",
          "output_type": "stream",
          "text": [
            "INFO:tensorflow:Unsupported signature for serialization: ((TensorSpec(shape=(1, 1, 1392, 232), dtype=tf.float32, name='gradient'), <tensorflow.python.framework.func_graph.UnknownArgument object at 0x7ce7adc9bcd0>, 137340650320304), {}).\n"
          ]
        },
        {
          "name": "stdout",
          "output_type": "stream",
          "text": [
            "INFO:tensorflow:Unsupported signature for serialization: ((TensorSpec(shape=(1, 1, 232, 1536), dtype=tf.float32, name='gradient'), <tensorflow.python.framework.func_graph.UnknownArgument object at 0x7ce7adc5bdd0>, 137340648730144), {}).\n"
          ]
        },
        {
          "name": "stderr",
          "output_type": "stream",
          "text": [
            "INFO:tensorflow:Unsupported signature for serialization: ((TensorSpec(shape=(1, 1, 232, 1536), dtype=tf.float32, name='gradient'), <tensorflow.python.framework.func_graph.UnknownArgument object at 0x7ce7adc5bdd0>, 137340648730144), {}).\n"
          ]
        },
        {
          "name": "stdout",
          "output_type": "stream",
          "text": [
            "INFO:tensorflow:Unsupported signature for serialization: ((TensorSpec(shape=(1536, 101), dtype=tf.float32, name='gradient'), <tensorflow.python.framework.func_graph.UnknownArgument object at 0x7ce7adc352d0>, 137340644431056), {}).\n"
          ]
        },
        {
          "name": "stderr",
          "output_type": "stream",
          "text": [
            "INFO:tensorflow:Unsupported signature for serialization: ((TensorSpec(shape=(1536, 101), dtype=tf.float32, name='gradient'), <tensorflow.python.framework.func_graph.UnknownArgument object at 0x7ce7adc352d0>, 137340644431056), {}).\n"
          ]
        },
        {
          "name": "stdout",
          "output_type": "stream",
          "text": [
            "INFO:tensorflow:Unsupported signature for serialization: ((TensorSpec(shape=(101,), dtype=tf.float32, name='gradient'), <tensorflow.python.framework.func_graph.UnknownArgument object at 0x7ce7addf8d50>, 137340644430416), {}).\n"
          ]
        },
        {
          "name": "stderr",
          "output_type": "stream",
          "text": [
            "INFO:tensorflow:Unsupported signature for serialization: ((TensorSpec(shape=(101,), dtype=tf.float32, name='gradient'), <tensorflow.python.framework.func_graph.UnknownArgument object at 0x7ce7addf8d50>, 137340644430416), {}).\n"
          ]
        },
        {
          "name": "stdout",
          "output_type": "stream",
          "text": [
            "INFO:tensorflow:Unsupported signature for serialization: ((TensorSpec(shape=(1, 1, 1392, 58), dtype=tf.float32, name='gradient'), <tensorflow.python.framework.func_graph.UnknownArgument object at 0x7ce7ade0a890>, 137340650305728), {}).\n"
          ]
        },
        {
          "name": "stderr",
          "output_type": "stream",
          "text": [
            "INFO:tensorflow:Unsupported signature for serialization: ((TensorSpec(shape=(1, 1, 1392, 58), dtype=tf.float32, name='gradient'), <tensorflow.python.framework.func_graph.UnknownArgument object at 0x7ce7ade0a890>, 137340650305728), {}).\n"
          ]
        },
        {
          "name": "stdout",
          "output_type": "stream",
          "text": [
            "INFO:tensorflow:Unsupported signature for serialization: ((TensorSpec(shape=(58,), dtype=tf.float32, name='gradient'), <tensorflow.python.framework.func_graph.UnknownArgument object at 0x7ce7af18b090>, 137340650307248), {}).\n"
          ]
        },
        {
          "name": "stderr",
          "output_type": "stream",
          "text": [
            "INFO:tensorflow:Unsupported signature for serialization: ((TensorSpec(shape=(58,), dtype=tf.float32, name='gradient'), <tensorflow.python.framework.func_graph.UnknownArgument object at 0x7ce7af18b090>, 137340650307248), {}).\n"
          ]
        },
        {
          "name": "stdout",
          "output_type": "stream",
          "text": [
            "INFO:tensorflow:Unsupported signature for serialization: ((TensorSpec(shape=(1, 1, 58, 1392), dtype=tf.float32, name='gradient'), <tensorflow.python.framework.func_graph.UnknownArgument object at 0x7ce7af4ffb90>, 137340650464528), {}).\n"
          ]
        },
        {
          "name": "stderr",
          "output_type": "stream",
          "text": [
            "INFO:tensorflow:Unsupported signature for serialization: ((TensorSpec(shape=(1, 1, 58, 1392), dtype=tf.float32, name='gradient'), <tensorflow.python.framework.func_graph.UnknownArgument object at 0x7ce7af4ffb90>, 137340650464528), {}).\n"
          ]
        },
        {
          "name": "stdout",
          "output_type": "stream",
          "text": [
            "INFO:tensorflow:Unsupported signature for serialization: ((TensorSpec(shape=(1392,), dtype=tf.float32, name='gradient'), <tensorflow.python.framework.func_graph.UnknownArgument object at 0x7ce7ae7bc050>, 137340650464128), {}).\n"
          ]
        },
        {
          "name": "stderr",
          "output_type": "stream",
          "text": [
            "INFO:tensorflow:Unsupported signature for serialization: ((TensorSpec(shape=(1392,), dtype=tf.float32, name='gradient'), <tensorflow.python.framework.func_graph.UnknownArgument object at 0x7ce7ae7bc050>, 137340650464128), {}).\n"
          ]
        },
        {
          "name": "stdout",
          "output_type": "stream",
          "text": [
            "INFO:tensorflow:Unsupported signature for serialization: ((TensorSpec(shape=(1, 1, 1392, 232), dtype=tf.float32, name='gradient'), <tensorflow.python.framework.func_graph.UnknownArgument object at 0x7ce7ac3fd2d0>, 137340649550160), {}).\n"
          ]
        },
        {
          "name": "stderr",
          "output_type": "stream",
          "text": [
            "INFO:tensorflow:Unsupported signature for serialization: ((TensorSpec(shape=(1, 1, 1392, 232), dtype=tf.float32, name='gradient'), <tensorflow.python.framework.func_graph.UnknownArgument object at 0x7ce7ac3fd2d0>, 137340649550160), {}).\n"
          ]
        },
        {
          "name": "stdout",
          "output_type": "stream",
          "text": [
            "INFO:tensorflow:Unsupported signature for serialization: ((TensorSpec(shape=(1, 1, 232, 1392), dtype=tf.float32, name='gradient'), <tensorflow.python.framework.func_graph.UnknownArgument object at 0x7ce802843e90>, 137340650462368), {}).\n"
          ]
        },
        {
          "name": "stderr",
          "output_type": "stream",
          "text": [
            "INFO:tensorflow:Unsupported signature for serialization: ((TensorSpec(shape=(1, 1, 232, 1392), dtype=tf.float32, name='gradient'), <tensorflow.python.framework.func_graph.UnknownArgument object at 0x7ce802843e90>, 137340650462368), {}).\n"
          ]
        },
        {
          "name": "stdout",
          "output_type": "stream",
          "text": [
            "INFO:tensorflow:Unsupported signature for serialization: ((TensorSpec(shape=(3, 3, 1392, 1), dtype=tf.float32, name='gradient'), <tensorflow.python.framework.func_graph.UnknownArgument object at 0x7ce801a52f90>, 137340650314640), {}).\n"
          ]
        },
        {
          "name": "stderr",
          "output_type": "stream",
          "text": [
            "INFO:tensorflow:Unsupported signature for serialization: ((TensorSpec(shape=(3, 3, 1392, 1), dtype=tf.float32, name='gradient'), <tensorflow.python.framework.func_graph.UnknownArgument object at 0x7ce801a52f90>, 137340650314640), {}).\n"
          ]
        },
        {
          "name": "stdout",
          "output_type": "stream",
          "text": [
            "INFO:tensorflow:Unsupported signature for serialization: ((TensorSpec(shape=(1, 1, 1392, 58), dtype=tf.float32, name='gradient'), <tensorflow.python.framework.func_graph.UnknownArgument object at 0x7ce801d8aed0>, 137340648625840), {}).\n"
          ]
        },
        {
          "name": "stderr",
          "output_type": "stream",
          "text": [
            "INFO:tensorflow:Unsupported signature for serialization: ((TensorSpec(shape=(1, 1, 1392, 58), dtype=tf.float32, name='gradient'), <tensorflow.python.framework.func_graph.UnknownArgument object at 0x7ce801d8aed0>, 137340648625840), {}).\n"
          ]
        },
        {
          "name": "stdout",
          "output_type": "stream",
          "text": [
            "INFO:tensorflow:Unsupported signature for serialization: ((TensorSpec(shape=(58,), dtype=tf.float32, name='gradient'), <tensorflow.python.framework.func_graph.UnknownArgument object at 0x7ce801009c90>, 137340648626400), {}).\n"
          ]
        },
        {
          "name": "stderr",
          "output_type": "stream",
          "text": [
            "INFO:tensorflow:Unsupported signature for serialization: ((TensorSpec(shape=(58,), dtype=tf.float32, name='gradient'), <tensorflow.python.framework.func_graph.UnknownArgument object at 0x7ce801009c90>, 137340648626400), {}).\n"
          ]
        },
        {
          "name": "stdout",
          "output_type": "stream",
          "text": [
            "INFO:tensorflow:Unsupported signature for serialization: ((TensorSpec(shape=(1, 1, 58, 1392), dtype=tf.float32, name='gradient'), <tensorflow.python.framework.func_graph.UnknownArgument object at 0x7ce80172c1d0>, 137340648631120), {}).\n"
          ]
        },
        {
          "name": "stderr",
          "output_type": "stream",
          "text": [
            "INFO:tensorflow:Unsupported signature for serialization: ((TensorSpec(shape=(1, 1, 58, 1392), dtype=tf.float32, name='gradient'), <tensorflow.python.framework.func_graph.UnknownArgument object at 0x7ce80172c1d0>, 137340648631120), {}).\n"
          ]
        },
        {
          "name": "stdout",
          "output_type": "stream",
          "text": [
            "INFO:tensorflow:Unsupported signature for serialization: ((TensorSpec(shape=(1392,), dtype=tf.float32, name='gradient'), <tensorflow.python.framework.func_graph.UnknownArgument object at 0x7ce800fb5510>, 137340648630720), {}).\n"
          ]
        },
        {
          "name": "stderr",
          "output_type": "stream",
          "text": [
            "INFO:tensorflow:Unsupported signature for serialization: ((TensorSpec(shape=(1392,), dtype=tf.float32, name='gradient'), <tensorflow.python.framework.func_graph.UnknownArgument object at 0x7ce800fb5510>, 137340648630720), {}).\n"
          ]
        },
        {
          "name": "stdout",
          "output_type": "stream",
          "text": [
            "INFO:tensorflow:Unsupported signature for serialization: ((TensorSpec(shape=(1, 1, 1392, 232), dtype=tf.float32, name='gradient'), <tensorflow.python.framework.func_graph.UnknownArgument object at 0x7ce802a16f10>, 137340650320304), {}).\n"
          ]
        },
        {
          "name": "stderr",
          "output_type": "stream",
          "text": [
            "INFO:tensorflow:Unsupported signature for serialization: ((TensorSpec(shape=(1, 1, 1392, 232), dtype=tf.float32, name='gradient'), <tensorflow.python.framework.func_graph.UnknownArgument object at 0x7ce802a16f10>, 137340650320304), {}).\n"
          ]
        },
        {
          "name": "stdout",
          "output_type": "stream",
          "text": [
            "INFO:tensorflow:Unsupported signature for serialization: ((TensorSpec(shape=(1, 1, 232, 1536), dtype=tf.float32, name='gradient'), <tensorflow.python.framework.func_graph.UnknownArgument object at 0x7ce91502a510>, 137340648730144), {}).\n"
          ]
        },
        {
          "name": "stderr",
          "output_type": "stream",
          "text": [
            "INFO:tensorflow:Unsupported signature for serialization: ((TensorSpec(shape=(1, 1, 232, 1536), dtype=tf.float32, name='gradient'), <tensorflow.python.framework.func_graph.UnknownArgument object at 0x7ce91502a510>, 137340648730144), {}).\n"
          ]
        },
        {
          "name": "stdout",
          "output_type": "stream",
          "text": [
            "INFO:tensorflow:Unsupported signature for serialization: ((TensorSpec(shape=(1536, 101), dtype=tf.float32, name='gradient'), <tensorflow.python.framework.func_graph.UnknownArgument object at 0x7ce914cc82d0>, 137340644431056), {}).\n"
          ]
        },
        {
          "name": "stderr",
          "output_type": "stream",
          "text": [
            "INFO:tensorflow:Unsupported signature for serialization: ((TensorSpec(shape=(1536, 101), dtype=tf.float32, name='gradient'), <tensorflow.python.framework.func_graph.UnknownArgument object at 0x7ce914cc82d0>, 137340644431056), {}).\n"
          ]
        },
        {
          "name": "stdout",
          "output_type": "stream",
          "text": [
            "INFO:tensorflow:Unsupported signature for serialization: ((TensorSpec(shape=(101,), dtype=tf.float32, name='gradient'), <tensorflow.python.framework.func_graph.UnknownArgument object at 0x7ce91553c8d0>, 137340644430416), {}).\n"
          ]
        },
        {
          "name": "stderr",
          "output_type": "stream",
          "text": [
            "INFO:tensorflow:Unsupported signature for serialization: ((TensorSpec(shape=(101,), dtype=tf.float32, name='gradient'), <tensorflow.python.framework.func_graph.UnknownArgument object at 0x7ce91553c8d0>, 137340644430416), {}).\n"
          ]
        },
        {
          "name": "stdout",
          "output_type": "stream",
          "text": [
            "INFO:tensorflow:Unsupported signature for serialization: ((TensorSpec(shape=(1, 1, 1392, 58), dtype=tf.float32, name='gradient'), <tensorflow.python.framework.func_graph.UnknownArgument object at 0x7ce8012c4a10>, 137340650305728), {}).\n"
          ]
        },
        {
          "name": "stderr",
          "output_type": "stream",
          "text": [
            "INFO:tensorflow:Unsupported signature for serialization: ((TensorSpec(shape=(1, 1, 1392, 58), dtype=tf.float32, name='gradient'), <tensorflow.python.framework.func_graph.UnknownArgument object at 0x7ce8012c4a10>, 137340650305728), {}).\n"
          ]
        },
        {
          "name": "stdout",
          "output_type": "stream",
          "text": [
            "INFO:tensorflow:Unsupported signature for serialization: ((TensorSpec(shape=(58,), dtype=tf.float32, name='gradient'), <tensorflow.python.framework.func_graph.UnknownArgument object at 0x7ce7ada646d0>, 137340650307248), {}).\n"
          ]
        },
        {
          "name": "stderr",
          "output_type": "stream",
          "text": [
            "INFO:tensorflow:Unsupported signature for serialization: ((TensorSpec(shape=(58,), dtype=tf.float32, name='gradient'), <tensorflow.python.framework.func_graph.UnknownArgument object at 0x7ce7ada646d0>, 137340650307248), {}).\n"
          ]
        },
        {
          "name": "stdout",
          "output_type": "stream",
          "text": [
            "INFO:tensorflow:Unsupported signature for serialization: ((TensorSpec(shape=(1, 1, 58, 1392), dtype=tf.float32, name='gradient'), <tensorflow.python.framework.func_graph.UnknownArgument object at 0x7ce7ada339d0>, 137340650464528), {}).\n"
          ]
        },
        {
          "name": "stderr",
          "output_type": "stream",
          "text": [
            "INFO:tensorflow:Unsupported signature for serialization: ((TensorSpec(shape=(1, 1, 58, 1392), dtype=tf.float32, name='gradient'), <tensorflow.python.framework.func_graph.UnknownArgument object at 0x7ce7ada339d0>, 137340650464528), {}).\n"
          ]
        },
        {
          "name": "stdout",
          "output_type": "stream",
          "text": [
            "INFO:tensorflow:Unsupported signature for serialization: ((TensorSpec(shape=(1392,), dtype=tf.float32, name='gradient'), <tensorflow.python.framework.func_graph.UnknownArgument object at 0x7ce7adbfa450>, 137340650464128), {}).\n"
          ]
        },
        {
          "name": "stderr",
          "output_type": "stream",
          "text": [
            "INFO:tensorflow:Unsupported signature for serialization: ((TensorSpec(shape=(1392,), dtype=tf.float32, name='gradient'), <tensorflow.python.framework.func_graph.UnknownArgument object at 0x7ce7adbfa450>, 137340650464128), {}).\n"
          ]
        },
        {
          "name": "stdout",
          "output_type": "stream",
          "text": [
            "INFO:tensorflow:Unsupported signature for serialization: ((TensorSpec(shape=(1, 1, 1392, 232), dtype=tf.float32, name='gradient'), <tensorflow.python.framework.func_graph.UnknownArgument object at 0x7ce7adbcb290>, 137340649550160), {}).\n"
          ]
        },
        {
          "name": "stderr",
          "output_type": "stream",
          "text": [
            "INFO:tensorflow:Unsupported signature for serialization: ((TensorSpec(shape=(1, 1, 1392, 232), dtype=tf.float32, name='gradient'), <tensorflow.python.framework.func_graph.UnknownArgument object at 0x7ce7adbcb290>, 137340649550160), {}).\n"
          ]
        },
        {
          "name": "stdout",
          "output_type": "stream",
          "text": [
            "INFO:tensorflow:Unsupported signature for serialization: ((TensorSpec(shape=(1, 1, 232, 1392), dtype=tf.float32, name='gradient'), <tensorflow.python.framework.func_graph.UnknownArgument object at 0x7ce7adb9fd50>, 137340650462368), {}).\n"
          ]
        },
        {
          "name": "stderr",
          "output_type": "stream",
          "text": [
            "INFO:tensorflow:Unsupported signature for serialization: ((TensorSpec(shape=(1, 1, 232, 1392), dtype=tf.float32, name='gradient'), <tensorflow.python.framework.func_graph.UnknownArgument object at 0x7ce7adb9fd50>, 137340650462368), {}).\n"
          ]
        },
        {
          "name": "stdout",
          "output_type": "stream",
          "text": [
            "INFO:tensorflow:Unsupported signature for serialization: ((TensorSpec(shape=(3, 3, 1392, 1), dtype=tf.float32, name='gradient'), <tensorflow.python.framework.func_graph.UnknownArgument object at 0x7ce7adb77950>, 137340650314640), {}).\n"
          ]
        },
        {
          "name": "stderr",
          "output_type": "stream",
          "text": [
            "INFO:tensorflow:Unsupported signature for serialization: ((TensorSpec(shape=(3, 3, 1392, 1), dtype=tf.float32, name='gradient'), <tensorflow.python.framework.func_graph.UnknownArgument object at 0x7ce7adb77950>, 137340650314640), {}).\n"
          ]
        },
        {
          "name": "stdout",
          "output_type": "stream",
          "text": [
            "INFO:tensorflow:Unsupported signature for serialization: ((TensorSpec(shape=(1, 1, 1392, 58), dtype=tf.float32, name='gradient'), <tensorflow.python.framework.func_graph.UnknownArgument object at 0x7ce7adb43a90>, 137340648625840), {}).\n"
          ]
        },
        {
          "name": "stderr",
          "output_type": "stream",
          "text": [
            "INFO:tensorflow:Unsupported signature for serialization: ((TensorSpec(shape=(1, 1, 1392, 58), dtype=tf.float32, name='gradient'), <tensorflow.python.framework.func_graph.UnknownArgument object at 0x7ce7adb43a90>, 137340648625840), {}).\n"
          ]
        },
        {
          "name": "stdout",
          "output_type": "stream",
          "text": [
            "INFO:tensorflow:Unsupported signature for serialization: ((TensorSpec(shape=(58,), dtype=tf.float32, name='gradient'), <tensorflow.python.framework.func_graph.UnknownArgument object at 0x7ce7adb2a790>, 137340648626400), {}).\n"
          ]
        },
        {
          "name": "stderr",
          "output_type": "stream",
          "text": [
            "INFO:tensorflow:Unsupported signature for serialization: ((TensorSpec(shape=(58,), dtype=tf.float32, name='gradient'), <tensorflow.python.framework.func_graph.UnknownArgument object at 0x7ce7adb2a790>, 137340648626400), {}).\n"
          ]
        },
        {
          "name": "stdout",
          "output_type": "stream",
          "text": [
            "INFO:tensorflow:Unsupported signature for serialization: ((TensorSpec(shape=(1, 1, 58, 1392), dtype=tf.float32, name='gradient'), <tensorflow.python.framework.func_graph.UnknownArgument object at 0x7ce7adcfc250>, 137340648631120), {}).\n"
          ]
        },
        {
          "name": "stderr",
          "output_type": "stream",
          "text": [
            "INFO:tensorflow:Unsupported signature for serialization: ((TensorSpec(shape=(1, 1, 58, 1392), dtype=tf.float32, name='gradient'), <tensorflow.python.framework.func_graph.UnknownArgument object at 0x7ce7adcfc250>, 137340648631120), {}).\n"
          ]
        },
        {
          "name": "stdout",
          "output_type": "stream",
          "text": [
            "INFO:tensorflow:Unsupported signature for serialization: ((TensorSpec(shape=(1392,), dtype=tf.float32, name='gradient'), <tensorflow.python.framework.func_graph.UnknownArgument object at 0x7ce7adcd7310>, 137340648630720), {}).\n"
          ]
        },
        {
          "name": "stderr",
          "output_type": "stream",
          "text": [
            "INFO:tensorflow:Unsupported signature for serialization: ((TensorSpec(shape=(1392,), dtype=tf.float32, name='gradient'), <tensorflow.python.framework.func_graph.UnknownArgument object at 0x7ce7adcd7310>, 137340648630720), {}).\n"
          ]
        },
        {
          "name": "stdout",
          "output_type": "stream",
          "text": [
            "INFO:tensorflow:Unsupported signature for serialization: ((TensorSpec(shape=(1, 1, 1392, 232), dtype=tf.float32, name='gradient'), <tensorflow.python.framework.func_graph.UnknownArgument object at 0x7ce7adc9bcd0>, 137340650320304), {}).\n"
          ]
        },
        {
          "name": "stderr",
          "output_type": "stream",
          "text": [
            "INFO:tensorflow:Unsupported signature for serialization: ((TensorSpec(shape=(1, 1, 1392, 232), dtype=tf.float32, name='gradient'), <tensorflow.python.framework.func_graph.UnknownArgument object at 0x7ce7adc9bcd0>, 137340650320304), {}).\n"
          ]
        },
        {
          "name": "stdout",
          "output_type": "stream",
          "text": [
            "INFO:tensorflow:Unsupported signature for serialization: ((TensorSpec(shape=(1, 1, 232, 1536), dtype=tf.float32, name='gradient'), <tensorflow.python.framework.func_graph.UnknownArgument object at 0x7ce7adc5bdd0>, 137340648730144), {}).\n"
          ]
        },
        {
          "name": "stderr",
          "output_type": "stream",
          "text": [
            "INFO:tensorflow:Unsupported signature for serialization: ((TensorSpec(shape=(1, 1, 232, 1536), dtype=tf.float32, name='gradient'), <tensorflow.python.framework.func_graph.UnknownArgument object at 0x7ce7adc5bdd0>, 137340648730144), {}).\n"
          ]
        },
        {
          "name": "stdout",
          "output_type": "stream",
          "text": [
            "INFO:tensorflow:Unsupported signature for serialization: ((TensorSpec(shape=(1536, 101), dtype=tf.float32, name='gradient'), <tensorflow.python.framework.func_graph.UnknownArgument object at 0x7ce7adc352d0>, 137340644431056), {}).\n"
          ]
        },
        {
          "name": "stderr",
          "output_type": "stream",
          "text": [
            "INFO:tensorflow:Unsupported signature for serialization: ((TensorSpec(shape=(1536, 101), dtype=tf.float32, name='gradient'), <tensorflow.python.framework.func_graph.UnknownArgument object at 0x7ce7adc352d0>, 137340644431056), {}).\n"
          ]
        },
        {
          "name": "stdout",
          "output_type": "stream",
          "text": [
            "INFO:tensorflow:Unsupported signature for serialization: ((TensorSpec(shape=(101,), dtype=tf.float32, name='gradient'), <tensorflow.python.framework.func_graph.UnknownArgument object at 0x7ce7addf8d50>, 137340644430416), {}).\n"
          ]
        },
        {
          "name": "stderr",
          "output_type": "stream",
          "text": [
            "INFO:tensorflow:Unsupported signature for serialization: ((TensorSpec(shape=(101,), dtype=tf.float32, name='gradient'), <tensorflow.python.framework.func_graph.UnknownArgument object at 0x7ce7addf8d50>, 137340644430416), {}).\n"
          ]
        },
        {
          "name": "stdout",
          "output_type": "stream",
          "text": [
            "INFO:tensorflow:Assets written to: fine_tune_checkpoints/assets\n"
          ]
        },
        {
          "name": "stderr",
          "output_type": "stream",
          "text": [
            "INFO:tensorflow:Assets written to: fine_tune_checkpoints/assets\n"
          ]
        },
        {
          "name": "stdout",
          "output_type": "stream",
          "text": [
            "1184/1184 [==============================] - 837s 693ms/step - loss: 0.8165 - accuracy: 0.7781 - val_loss: 0.6209 - val_accuracy: 0.8257 - lr: 5.0000e-04\n",
            "Epoch 7/100\n",
            "1184/1184 [==============================] - ETA: 0s - loss: 0.5898 - accuracy: 0.8357INFO:tensorflow:Unsupported signature for serialization: ((TensorSpec(shape=(1, 1, 1392, 58), dtype=tf.float32, name='gradient'), <tensorflow.python.framework.func_graph.UnknownArgument object at 0x7ce7ade0a890>, 137340650305728), {}).\n"
          ]
        },
        {
          "name": "stderr",
          "output_type": "stream",
          "text": [
            "INFO:tensorflow:Unsupported signature for serialization: ((TensorSpec(shape=(1, 1, 1392, 58), dtype=tf.float32, name='gradient'), <tensorflow.python.framework.func_graph.UnknownArgument object at 0x7ce7ade0a890>, 137340650305728), {}).\n"
          ]
        },
        {
          "name": "stdout",
          "output_type": "stream",
          "text": [
            "INFO:tensorflow:Unsupported signature for serialization: ((TensorSpec(shape=(58,), dtype=tf.float32, name='gradient'), <tensorflow.python.framework.func_graph.UnknownArgument object at 0x7ce7af18b090>, 137340650307248), {}).\n"
          ]
        },
        {
          "name": "stderr",
          "output_type": "stream",
          "text": [
            "INFO:tensorflow:Unsupported signature for serialization: ((TensorSpec(shape=(58,), dtype=tf.float32, name='gradient'), <tensorflow.python.framework.func_graph.UnknownArgument object at 0x7ce7af18b090>, 137340650307248), {}).\n"
          ]
        },
        {
          "name": "stdout",
          "output_type": "stream",
          "text": [
            "INFO:tensorflow:Unsupported signature for serialization: ((TensorSpec(shape=(1, 1, 58, 1392), dtype=tf.float32, name='gradient'), <tensorflow.python.framework.func_graph.UnknownArgument object at 0x7ce7af4ffb90>, 137340650464528), {}).\n"
          ]
        },
        {
          "name": "stderr",
          "output_type": "stream",
          "text": [
            "INFO:tensorflow:Unsupported signature for serialization: ((TensorSpec(shape=(1, 1, 58, 1392), dtype=tf.float32, name='gradient'), <tensorflow.python.framework.func_graph.UnknownArgument object at 0x7ce7af4ffb90>, 137340650464528), {}).\n"
          ]
        },
        {
          "name": "stdout",
          "output_type": "stream",
          "text": [
            "INFO:tensorflow:Unsupported signature for serialization: ((TensorSpec(shape=(1392,), dtype=tf.float32, name='gradient'), <tensorflow.python.framework.func_graph.UnknownArgument object at 0x7ce7ae7bc050>, 137340650464128), {}).\n"
          ]
        },
        {
          "name": "stderr",
          "output_type": "stream",
          "text": [
            "INFO:tensorflow:Unsupported signature for serialization: ((TensorSpec(shape=(1392,), dtype=tf.float32, name='gradient'), <tensorflow.python.framework.func_graph.UnknownArgument object at 0x7ce7ae7bc050>, 137340650464128), {}).\n"
          ]
        },
        {
          "name": "stdout",
          "output_type": "stream",
          "text": [
            "INFO:tensorflow:Unsupported signature for serialization: ((TensorSpec(shape=(1, 1, 1392, 232), dtype=tf.float32, name='gradient'), <tensorflow.python.framework.func_graph.UnknownArgument object at 0x7ce7ac3fd2d0>, 137340649550160), {}).\n"
          ]
        },
        {
          "name": "stderr",
          "output_type": "stream",
          "text": [
            "INFO:tensorflow:Unsupported signature for serialization: ((TensorSpec(shape=(1, 1, 1392, 232), dtype=tf.float32, name='gradient'), <tensorflow.python.framework.func_graph.UnknownArgument object at 0x7ce7ac3fd2d0>, 137340649550160), {}).\n"
          ]
        },
        {
          "name": "stdout",
          "output_type": "stream",
          "text": [
            "INFO:tensorflow:Unsupported signature for serialization: ((TensorSpec(shape=(1, 1, 232, 1392), dtype=tf.float32, name='gradient'), <tensorflow.python.framework.func_graph.UnknownArgument object at 0x7ce802843e90>, 137340650462368), {}).\n"
          ]
        },
        {
          "name": "stderr",
          "output_type": "stream",
          "text": [
            "INFO:tensorflow:Unsupported signature for serialization: ((TensorSpec(shape=(1, 1, 232, 1392), dtype=tf.float32, name='gradient'), <tensorflow.python.framework.func_graph.UnknownArgument object at 0x7ce802843e90>, 137340650462368), {}).\n"
          ]
        },
        {
          "name": "stdout",
          "output_type": "stream",
          "text": [
            "INFO:tensorflow:Unsupported signature for serialization: ((TensorSpec(shape=(3, 3, 1392, 1), dtype=tf.float32, name='gradient'), <tensorflow.python.framework.func_graph.UnknownArgument object at 0x7ce801a52f90>, 137340650314640), {}).\n"
          ]
        },
        {
          "name": "stderr",
          "output_type": "stream",
          "text": [
            "INFO:tensorflow:Unsupported signature for serialization: ((TensorSpec(shape=(3, 3, 1392, 1), dtype=tf.float32, name='gradient'), <tensorflow.python.framework.func_graph.UnknownArgument object at 0x7ce801a52f90>, 137340650314640), {}).\n"
          ]
        },
        {
          "name": "stdout",
          "output_type": "stream",
          "text": [
            "INFO:tensorflow:Unsupported signature for serialization: ((TensorSpec(shape=(1, 1, 1392, 58), dtype=tf.float32, name='gradient'), <tensorflow.python.framework.func_graph.UnknownArgument object at 0x7ce801d8aed0>, 137340648625840), {}).\n"
          ]
        },
        {
          "name": "stderr",
          "output_type": "stream",
          "text": [
            "INFO:tensorflow:Unsupported signature for serialization: ((TensorSpec(shape=(1, 1, 1392, 58), dtype=tf.float32, name='gradient'), <tensorflow.python.framework.func_graph.UnknownArgument object at 0x7ce801d8aed0>, 137340648625840), {}).\n"
          ]
        },
        {
          "name": "stdout",
          "output_type": "stream",
          "text": [
            "INFO:tensorflow:Unsupported signature for serialization: ((TensorSpec(shape=(58,), dtype=tf.float32, name='gradient'), <tensorflow.python.framework.func_graph.UnknownArgument object at 0x7ce801009c90>, 137340648626400), {}).\n"
          ]
        },
        {
          "name": "stderr",
          "output_type": "stream",
          "text": [
            "INFO:tensorflow:Unsupported signature for serialization: ((TensorSpec(shape=(58,), dtype=tf.float32, name='gradient'), <tensorflow.python.framework.func_graph.UnknownArgument object at 0x7ce801009c90>, 137340648626400), {}).\n"
          ]
        },
        {
          "name": "stdout",
          "output_type": "stream",
          "text": [
            "INFO:tensorflow:Unsupported signature for serialization: ((TensorSpec(shape=(1, 1, 58, 1392), dtype=tf.float32, name='gradient'), <tensorflow.python.framework.func_graph.UnknownArgument object at 0x7ce80172c1d0>, 137340648631120), {}).\n"
          ]
        },
        {
          "name": "stderr",
          "output_type": "stream",
          "text": [
            "INFO:tensorflow:Unsupported signature for serialization: ((TensorSpec(shape=(1, 1, 58, 1392), dtype=tf.float32, name='gradient'), <tensorflow.python.framework.func_graph.UnknownArgument object at 0x7ce80172c1d0>, 137340648631120), {}).\n"
          ]
        },
        {
          "name": "stdout",
          "output_type": "stream",
          "text": [
            "INFO:tensorflow:Unsupported signature for serialization: ((TensorSpec(shape=(1392,), dtype=tf.float32, name='gradient'), <tensorflow.python.framework.func_graph.UnknownArgument object at 0x7ce800fb5510>, 137340648630720), {}).\n"
          ]
        },
        {
          "name": "stderr",
          "output_type": "stream",
          "text": [
            "INFO:tensorflow:Unsupported signature for serialization: ((TensorSpec(shape=(1392,), dtype=tf.float32, name='gradient'), <tensorflow.python.framework.func_graph.UnknownArgument object at 0x7ce800fb5510>, 137340648630720), {}).\n"
          ]
        },
        {
          "name": "stdout",
          "output_type": "stream",
          "text": [
            "INFO:tensorflow:Unsupported signature for serialization: ((TensorSpec(shape=(1, 1, 1392, 232), dtype=tf.float32, name='gradient'), <tensorflow.python.framework.func_graph.UnknownArgument object at 0x7ce802a16f10>, 137340650320304), {}).\n"
          ]
        },
        {
          "name": "stderr",
          "output_type": "stream",
          "text": [
            "INFO:tensorflow:Unsupported signature for serialization: ((TensorSpec(shape=(1, 1, 1392, 232), dtype=tf.float32, name='gradient'), <tensorflow.python.framework.func_graph.UnknownArgument object at 0x7ce802a16f10>, 137340650320304), {}).\n"
          ]
        },
        {
          "name": "stdout",
          "output_type": "stream",
          "text": [
            "INFO:tensorflow:Unsupported signature for serialization: ((TensorSpec(shape=(1, 1, 232, 1536), dtype=tf.float32, name='gradient'), <tensorflow.python.framework.func_graph.UnknownArgument object at 0x7ce91502a510>, 137340648730144), {}).\n"
          ]
        },
        {
          "name": "stderr",
          "output_type": "stream",
          "text": [
            "INFO:tensorflow:Unsupported signature for serialization: ((TensorSpec(shape=(1, 1, 232, 1536), dtype=tf.float32, name='gradient'), <tensorflow.python.framework.func_graph.UnknownArgument object at 0x7ce91502a510>, 137340648730144), {}).\n"
          ]
        },
        {
          "name": "stdout",
          "output_type": "stream",
          "text": [
            "INFO:tensorflow:Unsupported signature for serialization: ((TensorSpec(shape=(1536, 101), dtype=tf.float32, name='gradient'), <tensorflow.python.framework.func_graph.UnknownArgument object at 0x7ce914cc82d0>, 137340644431056), {}).\n"
          ]
        },
        {
          "name": "stderr",
          "output_type": "stream",
          "text": [
            "INFO:tensorflow:Unsupported signature for serialization: ((TensorSpec(shape=(1536, 101), dtype=tf.float32, name='gradient'), <tensorflow.python.framework.func_graph.UnknownArgument object at 0x7ce914cc82d0>, 137340644431056), {}).\n"
          ]
        },
        {
          "name": "stdout",
          "output_type": "stream",
          "text": [
            "INFO:tensorflow:Unsupported signature for serialization: ((TensorSpec(shape=(101,), dtype=tf.float32, name='gradient'), <tensorflow.python.framework.func_graph.UnknownArgument object at 0x7ce91553c8d0>, 137340644430416), {}).\n"
          ]
        },
        {
          "name": "stderr",
          "output_type": "stream",
          "text": [
            "INFO:tensorflow:Unsupported signature for serialization: ((TensorSpec(shape=(101,), dtype=tf.float32, name='gradient'), <tensorflow.python.framework.func_graph.UnknownArgument object at 0x7ce91553c8d0>, 137340644430416), {}).\n"
          ]
        },
        {
          "name": "stdout",
          "output_type": "stream",
          "text": [
            "INFO:tensorflow:Unsupported signature for serialization: ((TensorSpec(shape=(1, 1, 1392, 58), dtype=tf.float32, name='gradient'), <tensorflow.python.framework.func_graph.UnknownArgument object at 0x7ce8012c4a10>, 137340650305728), {}).\n"
          ]
        },
        {
          "name": "stderr",
          "output_type": "stream",
          "text": [
            "INFO:tensorflow:Unsupported signature for serialization: ((TensorSpec(shape=(1, 1, 1392, 58), dtype=tf.float32, name='gradient'), <tensorflow.python.framework.func_graph.UnknownArgument object at 0x7ce8012c4a10>, 137340650305728), {}).\n"
          ]
        },
        {
          "name": "stdout",
          "output_type": "stream",
          "text": [
            "INFO:tensorflow:Unsupported signature for serialization: ((TensorSpec(shape=(58,), dtype=tf.float32, name='gradient'), <tensorflow.python.framework.func_graph.UnknownArgument object at 0x7ce7ada646d0>, 137340650307248), {}).\n"
          ]
        },
        {
          "name": "stderr",
          "output_type": "stream",
          "text": [
            "INFO:tensorflow:Unsupported signature for serialization: ((TensorSpec(shape=(58,), dtype=tf.float32, name='gradient'), <tensorflow.python.framework.func_graph.UnknownArgument object at 0x7ce7ada646d0>, 137340650307248), {}).\n"
          ]
        },
        {
          "name": "stdout",
          "output_type": "stream",
          "text": [
            "INFO:tensorflow:Unsupported signature for serialization: ((TensorSpec(shape=(1, 1, 58, 1392), dtype=tf.float32, name='gradient'), <tensorflow.python.framework.func_graph.UnknownArgument object at 0x7ce7ada339d0>, 137340650464528), {}).\n"
          ]
        },
        {
          "name": "stderr",
          "output_type": "stream",
          "text": [
            "INFO:tensorflow:Unsupported signature for serialization: ((TensorSpec(shape=(1, 1, 58, 1392), dtype=tf.float32, name='gradient'), <tensorflow.python.framework.func_graph.UnknownArgument object at 0x7ce7ada339d0>, 137340650464528), {}).\n"
          ]
        },
        {
          "name": "stdout",
          "output_type": "stream",
          "text": [
            "INFO:tensorflow:Unsupported signature for serialization: ((TensorSpec(shape=(1392,), dtype=tf.float32, name='gradient'), <tensorflow.python.framework.func_graph.UnknownArgument object at 0x7ce7adbfa450>, 137340650464128), {}).\n"
          ]
        },
        {
          "name": "stderr",
          "output_type": "stream",
          "text": [
            "INFO:tensorflow:Unsupported signature for serialization: ((TensorSpec(shape=(1392,), dtype=tf.float32, name='gradient'), <tensorflow.python.framework.func_graph.UnknownArgument object at 0x7ce7adbfa450>, 137340650464128), {}).\n"
          ]
        },
        {
          "name": "stdout",
          "output_type": "stream",
          "text": [
            "INFO:tensorflow:Unsupported signature for serialization: ((TensorSpec(shape=(1, 1, 1392, 232), dtype=tf.float32, name='gradient'), <tensorflow.python.framework.func_graph.UnknownArgument object at 0x7ce7adbcb290>, 137340649550160), {}).\n"
          ]
        },
        {
          "name": "stderr",
          "output_type": "stream",
          "text": [
            "INFO:tensorflow:Unsupported signature for serialization: ((TensorSpec(shape=(1, 1, 1392, 232), dtype=tf.float32, name='gradient'), <tensorflow.python.framework.func_graph.UnknownArgument object at 0x7ce7adbcb290>, 137340649550160), {}).\n"
          ]
        },
        {
          "name": "stdout",
          "output_type": "stream",
          "text": [
            "INFO:tensorflow:Unsupported signature for serialization: ((TensorSpec(shape=(1, 1, 232, 1392), dtype=tf.float32, name='gradient'), <tensorflow.python.framework.func_graph.UnknownArgument object at 0x7ce7adb9fd50>, 137340650462368), {}).\n"
          ]
        },
        {
          "name": "stderr",
          "output_type": "stream",
          "text": [
            "INFO:tensorflow:Unsupported signature for serialization: ((TensorSpec(shape=(1, 1, 232, 1392), dtype=tf.float32, name='gradient'), <tensorflow.python.framework.func_graph.UnknownArgument object at 0x7ce7adb9fd50>, 137340650462368), {}).\n"
          ]
        },
        {
          "name": "stdout",
          "output_type": "stream",
          "text": [
            "INFO:tensorflow:Unsupported signature for serialization: ((TensorSpec(shape=(3, 3, 1392, 1), dtype=tf.float32, name='gradient'), <tensorflow.python.framework.func_graph.UnknownArgument object at 0x7ce7adb77950>, 137340650314640), {}).\n"
          ]
        },
        {
          "name": "stderr",
          "output_type": "stream",
          "text": [
            "INFO:tensorflow:Unsupported signature for serialization: ((TensorSpec(shape=(3, 3, 1392, 1), dtype=tf.float32, name='gradient'), <tensorflow.python.framework.func_graph.UnknownArgument object at 0x7ce7adb77950>, 137340650314640), {}).\n"
          ]
        },
        {
          "name": "stdout",
          "output_type": "stream",
          "text": [
            "INFO:tensorflow:Unsupported signature for serialization: ((TensorSpec(shape=(1, 1, 1392, 58), dtype=tf.float32, name='gradient'), <tensorflow.python.framework.func_graph.UnknownArgument object at 0x7ce7adb43a90>, 137340648625840), {}).\n"
          ]
        },
        {
          "name": "stderr",
          "output_type": "stream",
          "text": [
            "INFO:tensorflow:Unsupported signature for serialization: ((TensorSpec(shape=(1, 1, 1392, 58), dtype=tf.float32, name='gradient'), <tensorflow.python.framework.func_graph.UnknownArgument object at 0x7ce7adb43a90>, 137340648625840), {}).\n"
          ]
        },
        {
          "name": "stdout",
          "output_type": "stream",
          "text": [
            "INFO:tensorflow:Unsupported signature for serialization: ((TensorSpec(shape=(58,), dtype=tf.float32, name='gradient'), <tensorflow.python.framework.func_graph.UnknownArgument object at 0x7ce7adb2a790>, 137340648626400), {}).\n"
          ]
        },
        {
          "name": "stderr",
          "output_type": "stream",
          "text": [
            "INFO:tensorflow:Unsupported signature for serialization: ((TensorSpec(shape=(58,), dtype=tf.float32, name='gradient'), <tensorflow.python.framework.func_graph.UnknownArgument object at 0x7ce7adb2a790>, 137340648626400), {}).\n"
          ]
        },
        {
          "name": "stdout",
          "output_type": "stream",
          "text": [
            "INFO:tensorflow:Unsupported signature for serialization: ((TensorSpec(shape=(1, 1, 58, 1392), dtype=tf.float32, name='gradient'), <tensorflow.python.framework.func_graph.UnknownArgument object at 0x7ce7adcfc250>, 137340648631120), {}).\n"
          ]
        },
        {
          "name": "stderr",
          "output_type": "stream",
          "text": [
            "INFO:tensorflow:Unsupported signature for serialization: ((TensorSpec(shape=(1, 1, 58, 1392), dtype=tf.float32, name='gradient'), <tensorflow.python.framework.func_graph.UnknownArgument object at 0x7ce7adcfc250>, 137340648631120), {}).\n"
          ]
        },
        {
          "name": "stdout",
          "output_type": "stream",
          "text": [
            "INFO:tensorflow:Unsupported signature for serialization: ((TensorSpec(shape=(1392,), dtype=tf.float32, name='gradient'), <tensorflow.python.framework.func_graph.UnknownArgument object at 0x7ce7adcd7310>, 137340648630720), {}).\n"
          ]
        },
        {
          "name": "stderr",
          "output_type": "stream",
          "text": [
            "INFO:tensorflow:Unsupported signature for serialization: ((TensorSpec(shape=(1392,), dtype=tf.float32, name='gradient'), <tensorflow.python.framework.func_graph.UnknownArgument object at 0x7ce7adcd7310>, 137340648630720), {}).\n"
          ]
        },
        {
          "name": "stdout",
          "output_type": "stream",
          "text": [
            "INFO:tensorflow:Unsupported signature for serialization: ((TensorSpec(shape=(1, 1, 1392, 232), dtype=tf.float32, name='gradient'), <tensorflow.python.framework.func_graph.UnknownArgument object at 0x7ce7adc9bcd0>, 137340650320304), {}).\n"
          ]
        },
        {
          "name": "stderr",
          "output_type": "stream",
          "text": [
            "INFO:tensorflow:Unsupported signature for serialization: ((TensorSpec(shape=(1, 1, 1392, 232), dtype=tf.float32, name='gradient'), <tensorflow.python.framework.func_graph.UnknownArgument object at 0x7ce7adc9bcd0>, 137340650320304), {}).\n"
          ]
        },
        {
          "name": "stdout",
          "output_type": "stream",
          "text": [
            "INFO:tensorflow:Unsupported signature for serialization: ((TensorSpec(shape=(1, 1, 232, 1536), dtype=tf.float32, name='gradient'), <tensorflow.python.framework.func_graph.UnknownArgument object at 0x7ce7adc5bdd0>, 137340648730144), {}).\n"
          ]
        },
        {
          "name": "stderr",
          "output_type": "stream",
          "text": [
            "INFO:tensorflow:Unsupported signature for serialization: ((TensorSpec(shape=(1, 1, 232, 1536), dtype=tf.float32, name='gradient'), <tensorflow.python.framework.func_graph.UnknownArgument object at 0x7ce7adc5bdd0>, 137340648730144), {}).\n"
          ]
        },
        {
          "name": "stdout",
          "output_type": "stream",
          "text": [
            "INFO:tensorflow:Unsupported signature for serialization: ((TensorSpec(shape=(1536, 101), dtype=tf.float32, name='gradient'), <tensorflow.python.framework.func_graph.UnknownArgument object at 0x7ce7adc352d0>, 137340644431056), {}).\n"
          ]
        },
        {
          "name": "stderr",
          "output_type": "stream",
          "text": [
            "INFO:tensorflow:Unsupported signature for serialization: ((TensorSpec(shape=(1536, 101), dtype=tf.float32, name='gradient'), <tensorflow.python.framework.func_graph.UnknownArgument object at 0x7ce7adc352d0>, 137340644431056), {}).\n"
          ]
        },
        {
          "name": "stdout",
          "output_type": "stream",
          "text": [
            "INFO:tensorflow:Unsupported signature for serialization: ((TensorSpec(shape=(101,), dtype=tf.float32, name='gradient'), <tensorflow.python.framework.func_graph.UnknownArgument object at 0x7ce7addf8d50>, 137340644430416), {}).\n"
          ]
        },
        {
          "name": "stderr",
          "output_type": "stream",
          "text": [
            "INFO:tensorflow:Unsupported signature for serialization: ((TensorSpec(shape=(101,), dtype=tf.float32, name='gradient'), <tensorflow.python.framework.func_graph.UnknownArgument object at 0x7ce7addf8d50>, 137340644430416), {}).\n"
          ]
        },
        {
          "name": "stdout",
          "output_type": "stream",
          "text": [
            "INFO:tensorflow:Unsupported signature for serialization: ((TensorSpec(shape=(1, 1, 1392, 58), dtype=tf.float32, name='gradient'), <tensorflow.python.framework.func_graph.UnknownArgument object at 0x7ce7ade0a890>, 137340650305728), {}).\n"
          ]
        },
        {
          "name": "stderr",
          "output_type": "stream",
          "text": [
            "INFO:tensorflow:Unsupported signature for serialization: ((TensorSpec(shape=(1, 1, 1392, 58), dtype=tf.float32, name='gradient'), <tensorflow.python.framework.func_graph.UnknownArgument object at 0x7ce7ade0a890>, 137340650305728), {}).\n"
          ]
        },
        {
          "name": "stdout",
          "output_type": "stream",
          "text": [
            "INFO:tensorflow:Unsupported signature for serialization: ((TensorSpec(shape=(58,), dtype=tf.float32, name='gradient'), <tensorflow.python.framework.func_graph.UnknownArgument object at 0x7ce7af18b090>, 137340650307248), {}).\n"
          ]
        },
        {
          "name": "stderr",
          "output_type": "stream",
          "text": [
            "INFO:tensorflow:Unsupported signature for serialization: ((TensorSpec(shape=(58,), dtype=tf.float32, name='gradient'), <tensorflow.python.framework.func_graph.UnknownArgument object at 0x7ce7af18b090>, 137340650307248), {}).\n"
          ]
        },
        {
          "name": "stdout",
          "output_type": "stream",
          "text": [
            "INFO:tensorflow:Unsupported signature for serialization: ((TensorSpec(shape=(1, 1, 58, 1392), dtype=tf.float32, name='gradient'), <tensorflow.python.framework.func_graph.UnknownArgument object at 0x7ce7af4ffb90>, 137340650464528), {}).\n"
          ]
        },
        {
          "name": "stderr",
          "output_type": "stream",
          "text": [
            "INFO:tensorflow:Unsupported signature for serialization: ((TensorSpec(shape=(1, 1, 58, 1392), dtype=tf.float32, name='gradient'), <tensorflow.python.framework.func_graph.UnknownArgument object at 0x7ce7af4ffb90>, 137340650464528), {}).\n"
          ]
        },
        {
          "name": "stdout",
          "output_type": "stream",
          "text": [
            "INFO:tensorflow:Unsupported signature for serialization: ((TensorSpec(shape=(1392,), dtype=tf.float32, name='gradient'), <tensorflow.python.framework.func_graph.UnknownArgument object at 0x7ce7ae7bc050>, 137340650464128), {}).\n"
          ]
        },
        {
          "name": "stderr",
          "output_type": "stream",
          "text": [
            "INFO:tensorflow:Unsupported signature for serialization: ((TensorSpec(shape=(1392,), dtype=tf.float32, name='gradient'), <tensorflow.python.framework.func_graph.UnknownArgument object at 0x7ce7ae7bc050>, 137340650464128), {}).\n"
          ]
        },
        {
          "name": "stdout",
          "output_type": "stream",
          "text": [
            "INFO:tensorflow:Unsupported signature for serialization: ((TensorSpec(shape=(1, 1, 1392, 232), dtype=tf.float32, name='gradient'), <tensorflow.python.framework.func_graph.UnknownArgument object at 0x7ce7ac3fd2d0>, 137340649550160), {}).\n"
          ]
        },
        {
          "name": "stderr",
          "output_type": "stream",
          "text": [
            "INFO:tensorflow:Unsupported signature for serialization: ((TensorSpec(shape=(1, 1, 1392, 232), dtype=tf.float32, name='gradient'), <tensorflow.python.framework.func_graph.UnknownArgument object at 0x7ce7ac3fd2d0>, 137340649550160), {}).\n"
          ]
        },
        {
          "name": "stdout",
          "output_type": "stream",
          "text": [
            "INFO:tensorflow:Unsupported signature for serialization: ((TensorSpec(shape=(1, 1, 232, 1392), dtype=tf.float32, name='gradient'), <tensorflow.python.framework.func_graph.UnknownArgument object at 0x7ce802843e90>, 137340650462368), {}).\n"
          ]
        },
        {
          "name": "stderr",
          "output_type": "stream",
          "text": [
            "INFO:tensorflow:Unsupported signature for serialization: ((TensorSpec(shape=(1, 1, 232, 1392), dtype=tf.float32, name='gradient'), <tensorflow.python.framework.func_graph.UnknownArgument object at 0x7ce802843e90>, 137340650462368), {}).\n"
          ]
        },
        {
          "name": "stdout",
          "output_type": "stream",
          "text": [
            "INFO:tensorflow:Unsupported signature for serialization: ((TensorSpec(shape=(3, 3, 1392, 1), dtype=tf.float32, name='gradient'), <tensorflow.python.framework.func_graph.UnknownArgument object at 0x7ce801a52f90>, 137340650314640), {}).\n"
          ]
        },
        {
          "name": "stderr",
          "output_type": "stream",
          "text": [
            "INFO:tensorflow:Unsupported signature for serialization: ((TensorSpec(shape=(3, 3, 1392, 1), dtype=tf.float32, name='gradient'), <tensorflow.python.framework.func_graph.UnknownArgument object at 0x7ce801a52f90>, 137340650314640), {}).\n"
          ]
        },
        {
          "name": "stdout",
          "output_type": "stream",
          "text": [
            "INFO:tensorflow:Unsupported signature for serialization: ((TensorSpec(shape=(1, 1, 1392, 58), dtype=tf.float32, name='gradient'), <tensorflow.python.framework.func_graph.UnknownArgument object at 0x7ce801d8aed0>, 137340648625840), {}).\n"
          ]
        },
        {
          "name": "stderr",
          "output_type": "stream",
          "text": [
            "INFO:tensorflow:Unsupported signature for serialization: ((TensorSpec(shape=(1, 1, 1392, 58), dtype=tf.float32, name='gradient'), <tensorflow.python.framework.func_graph.UnknownArgument object at 0x7ce801d8aed0>, 137340648625840), {}).\n"
          ]
        },
        {
          "name": "stdout",
          "output_type": "stream",
          "text": [
            "INFO:tensorflow:Unsupported signature for serialization: ((TensorSpec(shape=(58,), dtype=tf.float32, name='gradient'), <tensorflow.python.framework.func_graph.UnknownArgument object at 0x7ce801009c90>, 137340648626400), {}).\n"
          ]
        },
        {
          "name": "stderr",
          "output_type": "stream",
          "text": [
            "INFO:tensorflow:Unsupported signature for serialization: ((TensorSpec(shape=(58,), dtype=tf.float32, name='gradient'), <tensorflow.python.framework.func_graph.UnknownArgument object at 0x7ce801009c90>, 137340648626400), {}).\n"
          ]
        },
        {
          "name": "stdout",
          "output_type": "stream",
          "text": [
            "INFO:tensorflow:Unsupported signature for serialization: ((TensorSpec(shape=(1, 1, 58, 1392), dtype=tf.float32, name='gradient'), <tensorflow.python.framework.func_graph.UnknownArgument object at 0x7ce80172c1d0>, 137340648631120), {}).\n"
          ]
        },
        {
          "name": "stderr",
          "output_type": "stream",
          "text": [
            "INFO:tensorflow:Unsupported signature for serialization: ((TensorSpec(shape=(1, 1, 58, 1392), dtype=tf.float32, name='gradient'), <tensorflow.python.framework.func_graph.UnknownArgument object at 0x7ce80172c1d0>, 137340648631120), {}).\n"
          ]
        },
        {
          "name": "stdout",
          "output_type": "stream",
          "text": [
            "INFO:tensorflow:Unsupported signature for serialization: ((TensorSpec(shape=(1392,), dtype=tf.float32, name='gradient'), <tensorflow.python.framework.func_graph.UnknownArgument object at 0x7ce800fb5510>, 137340648630720), {}).\n"
          ]
        },
        {
          "name": "stderr",
          "output_type": "stream",
          "text": [
            "INFO:tensorflow:Unsupported signature for serialization: ((TensorSpec(shape=(1392,), dtype=tf.float32, name='gradient'), <tensorflow.python.framework.func_graph.UnknownArgument object at 0x7ce800fb5510>, 137340648630720), {}).\n"
          ]
        },
        {
          "name": "stdout",
          "output_type": "stream",
          "text": [
            "INFO:tensorflow:Unsupported signature for serialization: ((TensorSpec(shape=(1, 1, 1392, 232), dtype=tf.float32, name='gradient'), <tensorflow.python.framework.func_graph.UnknownArgument object at 0x7ce802a16f10>, 137340650320304), {}).\n"
          ]
        },
        {
          "name": "stderr",
          "output_type": "stream",
          "text": [
            "INFO:tensorflow:Unsupported signature for serialization: ((TensorSpec(shape=(1, 1, 1392, 232), dtype=tf.float32, name='gradient'), <tensorflow.python.framework.func_graph.UnknownArgument object at 0x7ce802a16f10>, 137340650320304), {}).\n"
          ]
        },
        {
          "name": "stdout",
          "output_type": "stream",
          "text": [
            "INFO:tensorflow:Unsupported signature for serialization: ((TensorSpec(shape=(1, 1, 232, 1536), dtype=tf.float32, name='gradient'), <tensorflow.python.framework.func_graph.UnknownArgument object at 0x7ce91502a510>, 137340648730144), {}).\n"
          ]
        },
        {
          "name": "stderr",
          "output_type": "stream",
          "text": [
            "INFO:tensorflow:Unsupported signature for serialization: ((TensorSpec(shape=(1, 1, 232, 1536), dtype=tf.float32, name='gradient'), <tensorflow.python.framework.func_graph.UnknownArgument object at 0x7ce91502a510>, 137340648730144), {}).\n"
          ]
        },
        {
          "name": "stdout",
          "output_type": "stream",
          "text": [
            "INFO:tensorflow:Unsupported signature for serialization: ((TensorSpec(shape=(1536, 101), dtype=tf.float32, name='gradient'), <tensorflow.python.framework.func_graph.UnknownArgument object at 0x7ce914cc82d0>, 137340644431056), {}).\n"
          ]
        },
        {
          "name": "stderr",
          "output_type": "stream",
          "text": [
            "INFO:tensorflow:Unsupported signature for serialization: ((TensorSpec(shape=(1536, 101), dtype=tf.float32, name='gradient'), <tensorflow.python.framework.func_graph.UnknownArgument object at 0x7ce914cc82d0>, 137340644431056), {}).\n"
          ]
        },
        {
          "name": "stdout",
          "output_type": "stream",
          "text": [
            "INFO:tensorflow:Unsupported signature for serialization: ((TensorSpec(shape=(101,), dtype=tf.float32, name='gradient'), <tensorflow.python.framework.func_graph.UnknownArgument object at 0x7ce91553c8d0>, 137340644430416), {}).\n"
          ]
        },
        {
          "name": "stderr",
          "output_type": "stream",
          "text": [
            "INFO:tensorflow:Unsupported signature for serialization: ((TensorSpec(shape=(101,), dtype=tf.float32, name='gradient'), <tensorflow.python.framework.func_graph.UnknownArgument object at 0x7ce91553c8d0>, 137340644430416), {}).\n"
          ]
        },
        {
          "name": "stdout",
          "output_type": "stream",
          "text": [
            "INFO:tensorflow:Unsupported signature for serialization: ((TensorSpec(shape=(1, 1, 1392, 58), dtype=tf.float32, name='gradient'), <tensorflow.python.framework.func_graph.UnknownArgument object at 0x7ce8012c4a10>, 137340650305728), {}).\n"
          ]
        },
        {
          "name": "stderr",
          "output_type": "stream",
          "text": [
            "INFO:tensorflow:Unsupported signature for serialization: ((TensorSpec(shape=(1, 1, 1392, 58), dtype=tf.float32, name='gradient'), <tensorflow.python.framework.func_graph.UnknownArgument object at 0x7ce8012c4a10>, 137340650305728), {}).\n"
          ]
        },
        {
          "name": "stdout",
          "output_type": "stream",
          "text": [
            "INFO:tensorflow:Unsupported signature for serialization: ((TensorSpec(shape=(58,), dtype=tf.float32, name='gradient'), <tensorflow.python.framework.func_graph.UnknownArgument object at 0x7ce7ada646d0>, 137340650307248), {}).\n"
          ]
        },
        {
          "name": "stderr",
          "output_type": "stream",
          "text": [
            "INFO:tensorflow:Unsupported signature for serialization: ((TensorSpec(shape=(58,), dtype=tf.float32, name='gradient'), <tensorflow.python.framework.func_graph.UnknownArgument object at 0x7ce7ada646d0>, 137340650307248), {}).\n"
          ]
        },
        {
          "name": "stdout",
          "output_type": "stream",
          "text": [
            "INFO:tensorflow:Unsupported signature for serialization: ((TensorSpec(shape=(1, 1, 58, 1392), dtype=tf.float32, name='gradient'), <tensorflow.python.framework.func_graph.UnknownArgument object at 0x7ce7ada339d0>, 137340650464528), {}).\n"
          ]
        },
        {
          "name": "stderr",
          "output_type": "stream",
          "text": [
            "INFO:tensorflow:Unsupported signature for serialization: ((TensorSpec(shape=(1, 1, 58, 1392), dtype=tf.float32, name='gradient'), <tensorflow.python.framework.func_graph.UnknownArgument object at 0x7ce7ada339d0>, 137340650464528), {}).\n"
          ]
        },
        {
          "name": "stdout",
          "output_type": "stream",
          "text": [
            "INFO:tensorflow:Unsupported signature for serialization: ((TensorSpec(shape=(1392,), dtype=tf.float32, name='gradient'), <tensorflow.python.framework.func_graph.UnknownArgument object at 0x7ce7adbfa450>, 137340650464128), {}).\n"
          ]
        },
        {
          "name": "stderr",
          "output_type": "stream",
          "text": [
            "INFO:tensorflow:Unsupported signature for serialization: ((TensorSpec(shape=(1392,), dtype=tf.float32, name='gradient'), <tensorflow.python.framework.func_graph.UnknownArgument object at 0x7ce7adbfa450>, 137340650464128), {}).\n"
          ]
        },
        {
          "name": "stdout",
          "output_type": "stream",
          "text": [
            "INFO:tensorflow:Unsupported signature for serialization: ((TensorSpec(shape=(1, 1, 1392, 232), dtype=tf.float32, name='gradient'), <tensorflow.python.framework.func_graph.UnknownArgument object at 0x7ce7adbcb290>, 137340649550160), {}).\n"
          ]
        },
        {
          "name": "stderr",
          "output_type": "stream",
          "text": [
            "INFO:tensorflow:Unsupported signature for serialization: ((TensorSpec(shape=(1, 1, 1392, 232), dtype=tf.float32, name='gradient'), <tensorflow.python.framework.func_graph.UnknownArgument object at 0x7ce7adbcb290>, 137340649550160), {}).\n"
          ]
        },
        {
          "name": "stdout",
          "output_type": "stream",
          "text": [
            "INFO:tensorflow:Unsupported signature for serialization: ((TensorSpec(shape=(1, 1, 232, 1392), dtype=tf.float32, name='gradient'), <tensorflow.python.framework.func_graph.UnknownArgument object at 0x7ce7adb9fd50>, 137340650462368), {}).\n"
          ]
        },
        {
          "name": "stderr",
          "output_type": "stream",
          "text": [
            "INFO:tensorflow:Unsupported signature for serialization: ((TensorSpec(shape=(1, 1, 232, 1392), dtype=tf.float32, name='gradient'), <tensorflow.python.framework.func_graph.UnknownArgument object at 0x7ce7adb9fd50>, 137340650462368), {}).\n"
          ]
        },
        {
          "name": "stdout",
          "output_type": "stream",
          "text": [
            "INFO:tensorflow:Unsupported signature for serialization: ((TensorSpec(shape=(3, 3, 1392, 1), dtype=tf.float32, name='gradient'), <tensorflow.python.framework.func_graph.UnknownArgument object at 0x7ce7adb77950>, 137340650314640), {}).\n"
          ]
        },
        {
          "name": "stderr",
          "output_type": "stream",
          "text": [
            "INFO:tensorflow:Unsupported signature for serialization: ((TensorSpec(shape=(3, 3, 1392, 1), dtype=tf.float32, name='gradient'), <tensorflow.python.framework.func_graph.UnknownArgument object at 0x7ce7adb77950>, 137340650314640), {}).\n"
          ]
        },
        {
          "name": "stdout",
          "output_type": "stream",
          "text": [
            "INFO:tensorflow:Unsupported signature for serialization: ((TensorSpec(shape=(1, 1, 1392, 58), dtype=tf.float32, name='gradient'), <tensorflow.python.framework.func_graph.UnknownArgument object at 0x7ce7adb43a90>, 137340648625840), {}).\n"
          ]
        },
        {
          "name": "stderr",
          "output_type": "stream",
          "text": [
            "INFO:tensorflow:Unsupported signature for serialization: ((TensorSpec(shape=(1, 1, 1392, 58), dtype=tf.float32, name='gradient'), <tensorflow.python.framework.func_graph.UnknownArgument object at 0x7ce7adb43a90>, 137340648625840), {}).\n"
          ]
        },
        {
          "name": "stdout",
          "output_type": "stream",
          "text": [
            "INFO:tensorflow:Unsupported signature for serialization: ((TensorSpec(shape=(58,), dtype=tf.float32, name='gradient'), <tensorflow.python.framework.func_graph.UnknownArgument object at 0x7ce7adb2a790>, 137340648626400), {}).\n"
          ]
        },
        {
          "name": "stderr",
          "output_type": "stream",
          "text": [
            "INFO:tensorflow:Unsupported signature for serialization: ((TensorSpec(shape=(58,), dtype=tf.float32, name='gradient'), <tensorflow.python.framework.func_graph.UnknownArgument object at 0x7ce7adb2a790>, 137340648626400), {}).\n"
          ]
        },
        {
          "name": "stdout",
          "output_type": "stream",
          "text": [
            "INFO:tensorflow:Unsupported signature for serialization: ((TensorSpec(shape=(1, 1, 58, 1392), dtype=tf.float32, name='gradient'), <tensorflow.python.framework.func_graph.UnknownArgument object at 0x7ce7adcfc250>, 137340648631120), {}).\n"
          ]
        },
        {
          "name": "stderr",
          "output_type": "stream",
          "text": [
            "INFO:tensorflow:Unsupported signature for serialization: ((TensorSpec(shape=(1, 1, 58, 1392), dtype=tf.float32, name='gradient'), <tensorflow.python.framework.func_graph.UnknownArgument object at 0x7ce7adcfc250>, 137340648631120), {}).\n"
          ]
        },
        {
          "name": "stdout",
          "output_type": "stream",
          "text": [
            "INFO:tensorflow:Unsupported signature for serialization: ((TensorSpec(shape=(1392,), dtype=tf.float32, name='gradient'), <tensorflow.python.framework.func_graph.UnknownArgument object at 0x7ce7adcd7310>, 137340648630720), {}).\n"
          ]
        },
        {
          "name": "stderr",
          "output_type": "stream",
          "text": [
            "INFO:tensorflow:Unsupported signature for serialization: ((TensorSpec(shape=(1392,), dtype=tf.float32, name='gradient'), <tensorflow.python.framework.func_graph.UnknownArgument object at 0x7ce7adcd7310>, 137340648630720), {}).\n"
          ]
        },
        {
          "name": "stdout",
          "output_type": "stream",
          "text": [
            "INFO:tensorflow:Unsupported signature for serialization: ((TensorSpec(shape=(1, 1, 1392, 232), dtype=tf.float32, name='gradient'), <tensorflow.python.framework.func_graph.UnknownArgument object at 0x7ce7adc9bcd0>, 137340650320304), {}).\n"
          ]
        },
        {
          "name": "stderr",
          "output_type": "stream",
          "text": [
            "INFO:tensorflow:Unsupported signature for serialization: ((TensorSpec(shape=(1, 1, 1392, 232), dtype=tf.float32, name='gradient'), <tensorflow.python.framework.func_graph.UnknownArgument object at 0x7ce7adc9bcd0>, 137340650320304), {}).\n"
          ]
        },
        {
          "name": "stdout",
          "output_type": "stream",
          "text": [
            "INFO:tensorflow:Unsupported signature for serialization: ((TensorSpec(shape=(1, 1, 232, 1536), dtype=tf.float32, name='gradient'), <tensorflow.python.framework.func_graph.UnknownArgument object at 0x7ce7adc5bdd0>, 137340648730144), {}).\n"
          ]
        },
        {
          "name": "stderr",
          "output_type": "stream",
          "text": [
            "INFO:tensorflow:Unsupported signature for serialization: ((TensorSpec(shape=(1, 1, 232, 1536), dtype=tf.float32, name='gradient'), <tensorflow.python.framework.func_graph.UnknownArgument object at 0x7ce7adc5bdd0>, 137340648730144), {}).\n"
          ]
        },
        {
          "name": "stdout",
          "output_type": "stream",
          "text": [
            "INFO:tensorflow:Unsupported signature for serialization: ((TensorSpec(shape=(1536, 101), dtype=tf.float32, name='gradient'), <tensorflow.python.framework.func_graph.UnknownArgument object at 0x7ce7adc352d0>, 137340644431056), {}).\n"
          ]
        },
        {
          "name": "stderr",
          "output_type": "stream",
          "text": [
            "INFO:tensorflow:Unsupported signature for serialization: ((TensorSpec(shape=(1536, 101), dtype=tf.float32, name='gradient'), <tensorflow.python.framework.func_graph.UnknownArgument object at 0x7ce7adc352d0>, 137340644431056), {}).\n"
          ]
        },
        {
          "name": "stdout",
          "output_type": "stream",
          "text": [
            "INFO:tensorflow:Unsupported signature for serialization: ((TensorSpec(shape=(101,), dtype=tf.float32, name='gradient'), <tensorflow.python.framework.func_graph.UnknownArgument object at 0x7ce7addf8d50>, 137340644430416), {}).\n"
          ]
        },
        {
          "name": "stderr",
          "output_type": "stream",
          "text": [
            "INFO:tensorflow:Unsupported signature for serialization: ((TensorSpec(shape=(101,), dtype=tf.float32, name='gradient'), <tensorflow.python.framework.func_graph.UnknownArgument object at 0x7ce7addf8d50>, 137340644430416), {}).\n"
          ]
        },
        {
          "name": "stdout",
          "output_type": "stream",
          "text": [
            "INFO:tensorflow:Assets written to: fine_tune_checkpoints/assets\n"
          ]
        },
        {
          "name": "stderr",
          "output_type": "stream",
          "text": [
            "INFO:tensorflow:Assets written to: fine_tune_checkpoints/assets\n"
          ]
        },
        {
          "name": "stdout",
          "output_type": "stream",
          "text": [
            "1184/1184 [==============================] - 825s 693ms/step - loss: 0.5898 - accuracy: 0.8357 - val_loss: 0.5816 - val_accuracy: 0.8380 - lr: 5.0000e-04\n",
            "Epoch 8/100\n",
            "1184/1184 [==============================] - ETA: 0s - loss: 0.4134 - accuracy: 0.8817INFO:tensorflow:Unsupported signature for serialization: ((TensorSpec(shape=(1, 1, 1392, 58), dtype=tf.float32, name='gradient'), <tensorflow.python.framework.func_graph.UnknownArgument object at 0x7ce7ade0a890>, 137340650305728), {}).\n"
          ]
        },
        {
          "name": "stderr",
          "output_type": "stream",
          "text": [
            "INFO:tensorflow:Unsupported signature for serialization: ((TensorSpec(shape=(1, 1, 1392, 58), dtype=tf.float32, name='gradient'), <tensorflow.python.framework.func_graph.UnknownArgument object at 0x7ce7ade0a890>, 137340650305728), {}).\n"
          ]
        },
        {
          "name": "stdout",
          "output_type": "stream",
          "text": [
            "INFO:tensorflow:Unsupported signature for serialization: ((TensorSpec(shape=(58,), dtype=tf.float32, name='gradient'), <tensorflow.python.framework.func_graph.UnknownArgument object at 0x7ce7af18b090>, 137340650307248), {}).\n"
          ]
        },
        {
          "name": "stderr",
          "output_type": "stream",
          "text": [
            "INFO:tensorflow:Unsupported signature for serialization: ((TensorSpec(shape=(58,), dtype=tf.float32, name='gradient'), <tensorflow.python.framework.func_graph.UnknownArgument object at 0x7ce7af18b090>, 137340650307248), {}).\n"
          ]
        },
        {
          "name": "stdout",
          "output_type": "stream",
          "text": [
            "INFO:tensorflow:Unsupported signature for serialization: ((TensorSpec(shape=(1, 1, 58, 1392), dtype=tf.float32, name='gradient'), <tensorflow.python.framework.func_graph.UnknownArgument object at 0x7ce7af4ffb90>, 137340650464528), {}).\n"
          ]
        },
        {
          "name": "stderr",
          "output_type": "stream",
          "text": [
            "INFO:tensorflow:Unsupported signature for serialization: ((TensorSpec(shape=(1, 1, 58, 1392), dtype=tf.float32, name='gradient'), <tensorflow.python.framework.func_graph.UnknownArgument object at 0x7ce7af4ffb90>, 137340650464528), {}).\n"
          ]
        },
        {
          "name": "stdout",
          "output_type": "stream",
          "text": [
            "INFO:tensorflow:Unsupported signature for serialization: ((TensorSpec(shape=(1392,), dtype=tf.float32, name='gradient'), <tensorflow.python.framework.func_graph.UnknownArgument object at 0x7ce7ae7bc050>, 137340650464128), {}).\n"
          ]
        },
        {
          "name": "stderr",
          "output_type": "stream",
          "text": [
            "INFO:tensorflow:Unsupported signature for serialization: ((TensorSpec(shape=(1392,), dtype=tf.float32, name='gradient'), <tensorflow.python.framework.func_graph.UnknownArgument object at 0x7ce7ae7bc050>, 137340650464128), {}).\n"
          ]
        },
        {
          "name": "stdout",
          "output_type": "stream",
          "text": [
            "INFO:tensorflow:Unsupported signature for serialization: ((TensorSpec(shape=(1, 1, 1392, 232), dtype=tf.float32, name='gradient'), <tensorflow.python.framework.func_graph.UnknownArgument object at 0x7ce7ac3fd2d0>, 137340649550160), {}).\n"
          ]
        },
        {
          "name": "stderr",
          "output_type": "stream",
          "text": [
            "INFO:tensorflow:Unsupported signature for serialization: ((TensorSpec(shape=(1, 1, 1392, 232), dtype=tf.float32, name='gradient'), <tensorflow.python.framework.func_graph.UnknownArgument object at 0x7ce7ac3fd2d0>, 137340649550160), {}).\n"
          ]
        },
        {
          "name": "stdout",
          "output_type": "stream",
          "text": [
            "INFO:tensorflow:Unsupported signature for serialization: ((TensorSpec(shape=(1, 1, 232, 1392), dtype=tf.float32, name='gradient'), <tensorflow.python.framework.func_graph.UnknownArgument object at 0x7ce802843e90>, 137340650462368), {}).\n"
          ]
        },
        {
          "name": "stderr",
          "output_type": "stream",
          "text": [
            "INFO:tensorflow:Unsupported signature for serialization: ((TensorSpec(shape=(1, 1, 232, 1392), dtype=tf.float32, name='gradient'), <tensorflow.python.framework.func_graph.UnknownArgument object at 0x7ce802843e90>, 137340650462368), {}).\n"
          ]
        },
        {
          "name": "stdout",
          "output_type": "stream",
          "text": [
            "INFO:tensorflow:Unsupported signature for serialization: ((TensorSpec(shape=(3, 3, 1392, 1), dtype=tf.float32, name='gradient'), <tensorflow.python.framework.func_graph.UnknownArgument object at 0x7ce801a52f90>, 137340650314640), {}).\n"
          ]
        },
        {
          "name": "stderr",
          "output_type": "stream",
          "text": [
            "INFO:tensorflow:Unsupported signature for serialization: ((TensorSpec(shape=(3, 3, 1392, 1), dtype=tf.float32, name='gradient'), <tensorflow.python.framework.func_graph.UnknownArgument object at 0x7ce801a52f90>, 137340650314640), {}).\n"
          ]
        },
        {
          "name": "stdout",
          "output_type": "stream",
          "text": [
            "INFO:tensorflow:Unsupported signature for serialization: ((TensorSpec(shape=(1, 1, 1392, 58), dtype=tf.float32, name='gradient'), <tensorflow.python.framework.func_graph.UnknownArgument object at 0x7ce801d8aed0>, 137340648625840), {}).\n"
          ]
        },
        {
          "name": "stderr",
          "output_type": "stream",
          "text": [
            "INFO:tensorflow:Unsupported signature for serialization: ((TensorSpec(shape=(1, 1, 1392, 58), dtype=tf.float32, name='gradient'), <tensorflow.python.framework.func_graph.UnknownArgument object at 0x7ce801d8aed0>, 137340648625840), {}).\n"
          ]
        },
        {
          "name": "stdout",
          "output_type": "stream",
          "text": [
            "INFO:tensorflow:Unsupported signature for serialization: ((TensorSpec(shape=(58,), dtype=tf.float32, name='gradient'), <tensorflow.python.framework.func_graph.UnknownArgument object at 0x7ce801009c90>, 137340648626400), {}).\n"
          ]
        },
        {
          "name": "stderr",
          "output_type": "stream",
          "text": [
            "INFO:tensorflow:Unsupported signature for serialization: ((TensorSpec(shape=(58,), dtype=tf.float32, name='gradient'), <tensorflow.python.framework.func_graph.UnknownArgument object at 0x7ce801009c90>, 137340648626400), {}).\n"
          ]
        },
        {
          "name": "stdout",
          "output_type": "stream",
          "text": [
            "INFO:tensorflow:Unsupported signature for serialization: ((TensorSpec(shape=(1, 1, 58, 1392), dtype=tf.float32, name='gradient'), <tensorflow.python.framework.func_graph.UnknownArgument object at 0x7ce80172c1d0>, 137340648631120), {}).\n"
          ]
        },
        {
          "name": "stderr",
          "output_type": "stream",
          "text": [
            "INFO:tensorflow:Unsupported signature for serialization: ((TensorSpec(shape=(1, 1, 58, 1392), dtype=tf.float32, name='gradient'), <tensorflow.python.framework.func_graph.UnknownArgument object at 0x7ce80172c1d0>, 137340648631120), {}).\n"
          ]
        },
        {
          "name": "stdout",
          "output_type": "stream",
          "text": [
            "INFO:tensorflow:Unsupported signature for serialization: ((TensorSpec(shape=(1392,), dtype=tf.float32, name='gradient'), <tensorflow.python.framework.func_graph.UnknownArgument object at 0x7ce800fb5510>, 137340648630720), {}).\n"
          ]
        },
        {
          "name": "stderr",
          "output_type": "stream",
          "text": [
            "INFO:tensorflow:Unsupported signature for serialization: ((TensorSpec(shape=(1392,), dtype=tf.float32, name='gradient'), <tensorflow.python.framework.func_graph.UnknownArgument object at 0x7ce800fb5510>, 137340648630720), {}).\n"
          ]
        },
        {
          "name": "stdout",
          "output_type": "stream",
          "text": [
            "INFO:tensorflow:Unsupported signature for serialization: ((TensorSpec(shape=(1, 1, 1392, 232), dtype=tf.float32, name='gradient'), <tensorflow.python.framework.func_graph.UnknownArgument object at 0x7ce802a16f10>, 137340650320304), {}).\n"
          ]
        },
        {
          "name": "stderr",
          "output_type": "stream",
          "text": [
            "INFO:tensorflow:Unsupported signature for serialization: ((TensorSpec(shape=(1, 1, 1392, 232), dtype=tf.float32, name='gradient'), <tensorflow.python.framework.func_graph.UnknownArgument object at 0x7ce802a16f10>, 137340650320304), {}).\n"
          ]
        },
        {
          "name": "stdout",
          "output_type": "stream",
          "text": [
            "INFO:tensorflow:Unsupported signature for serialization: ((TensorSpec(shape=(1, 1, 232, 1536), dtype=tf.float32, name='gradient'), <tensorflow.python.framework.func_graph.UnknownArgument object at 0x7ce91502a510>, 137340648730144), {}).\n"
          ]
        },
        {
          "name": "stderr",
          "output_type": "stream",
          "text": [
            "INFO:tensorflow:Unsupported signature for serialization: ((TensorSpec(shape=(1, 1, 232, 1536), dtype=tf.float32, name='gradient'), <tensorflow.python.framework.func_graph.UnknownArgument object at 0x7ce91502a510>, 137340648730144), {}).\n"
          ]
        },
        {
          "name": "stdout",
          "output_type": "stream",
          "text": [
            "INFO:tensorflow:Unsupported signature for serialization: ((TensorSpec(shape=(1536, 101), dtype=tf.float32, name='gradient'), <tensorflow.python.framework.func_graph.UnknownArgument object at 0x7ce914cc82d0>, 137340644431056), {}).\n"
          ]
        },
        {
          "name": "stderr",
          "output_type": "stream",
          "text": [
            "INFO:tensorflow:Unsupported signature for serialization: ((TensorSpec(shape=(1536, 101), dtype=tf.float32, name='gradient'), <tensorflow.python.framework.func_graph.UnknownArgument object at 0x7ce914cc82d0>, 137340644431056), {}).\n"
          ]
        },
        {
          "name": "stdout",
          "output_type": "stream",
          "text": [
            "INFO:tensorflow:Unsupported signature for serialization: ((TensorSpec(shape=(101,), dtype=tf.float32, name='gradient'), <tensorflow.python.framework.func_graph.UnknownArgument object at 0x7ce91553c8d0>, 137340644430416), {}).\n"
          ]
        },
        {
          "name": "stderr",
          "output_type": "stream",
          "text": [
            "INFO:tensorflow:Unsupported signature for serialization: ((TensorSpec(shape=(101,), dtype=tf.float32, name='gradient'), <tensorflow.python.framework.func_graph.UnknownArgument object at 0x7ce91553c8d0>, 137340644430416), {}).\n"
          ]
        },
        {
          "name": "stdout",
          "output_type": "stream",
          "text": [
            "INFO:tensorflow:Unsupported signature for serialization: ((TensorSpec(shape=(1, 1, 1392, 58), dtype=tf.float32, name='gradient'), <tensorflow.python.framework.func_graph.UnknownArgument object at 0x7ce8012c4a10>, 137340650305728), {}).\n"
          ]
        },
        {
          "name": "stderr",
          "output_type": "stream",
          "text": [
            "INFO:tensorflow:Unsupported signature for serialization: ((TensorSpec(shape=(1, 1, 1392, 58), dtype=tf.float32, name='gradient'), <tensorflow.python.framework.func_graph.UnknownArgument object at 0x7ce8012c4a10>, 137340650305728), {}).\n"
          ]
        },
        {
          "name": "stdout",
          "output_type": "stream",
          "text": [
            "INFO:tensorflow:Unsupported signature for serialization: ((TensorSpec(shape=(58,), dtype=tf.float32, name='gradient'), <tensorflow.python.framework.func_graph.UnknownArgument object at 0x7ce7ada646d0>, 137340650307248), {}).\n"
          ]
        },
        {
          "name": "stderr",
          "output_type": "stream",
          "text": [
            "INFO:tensorflow:Unsupported signature for serialization: ((TensorSpec(shape=(58,), dtype=tf.float32, name='gradient'), <tensorflow.python.framework.func_graph.UnknownArgument object at 0x7ce7ada646d0>, 137340650307248), {}).\n"
          ]
        },
        {
          "name": "stdout",
          "output_type": "stream",
          "text": [
            "INFO:tensorflow:Unsupported signature for serialization: ((TensorSpec(shape=(1, 1, 58, 1392), dtype=tf.float32, name='gradient'), <tensorflow.python.framework.func_graph.UnknownArgument object at 0x7ce7ada339d0>, 137340650464528), {}).\n"
          ]
        },
        {
          "name": "stderr",
          "output_type": "stream",
          "text": [
            "INFO:tensorflow:Unsupported signature for serialization: ((TensorSpec(shape=(1, 1, 58, 1392), dtype=tf.float32, name='gradient'), <tensorflow.python.framework.func_graph.UnknownArgument object at 0x7ce7ada339d0>, 137340650464528), {}).\n"
          ]
        },
        {
          "name": "stdout",
          "output_type": "stream",
          "text": [
            "INFO:tensorflow:Unsupported signature for serialization: ((TensorSpec(shape=(1392,), dtype=tf.float32, name='gradient'), <tensorflow.python.framework.func_graph.UnknownArgument object at 0x7ce7adbfa450>, 137340650464128), {}).\n"
          ]
        },
        {
          "name": "stderr",
          "output_type": "stream",
          "text": [
            "INFO:tensorflow:Unsupported signature for serialization: ((TensorSpec(shape=(1392,), dtype=tf.float32, name='gradient'), <tensorflow.python.framework.func_graph.UnknownArgument object at 0x7ce7adbfa450>, 137340650464128), {}).\n"
          ]
        },
        {
          "name": "stdout",
          "output_type": "stream",
          "text": [
            "INFO:tensorflow:Unsupported signature for serialization: ((TensorSpec(shape=(1, 1, 1392, 232), dtype=tf.float32, name='gradient'), <tensorflow.python.framework.func_graph.UnknownArgument object at 0x7ce7adbcb290>, 137340649550160), {}).\n"
          ]
        },
        {
          "name": "stderr",
          "output_type": "stream",
          "text": [
            "INFO:tensorflow:Unsupported signature for serialization: ((TensorSpec(shape=(1, 1, 1392, 232), dtype=tf.float32, name='gradient'), <tensorflow.python.framework.func_graph.UnknownArgument object at 0x7ce7adbcb290>, 137340649550160), {}).\n"
          ]
        },
        {
          "name": "stdout",
          "output_type": "stream",
          "text": [
            "INFO:tensorflow:Unsupported signature for serialization: ((TensorSpec(shape=(1, 1, 232, 1392), dtype=tf.float32, name='gradient'), <tensorflow.python.framework.func_graph.UnknownArgument object at 0x7ce7adb9fd50>, 137340650462368), {}).\n"
          ]
        },
        {
          "name": "stderr",
          "output_type": "stream",
          "text": [
            "INFO:tensorflow:Unsupported signature for serialization: ((TensorSpec(shape=(1, 1, 232, 1392), dtype=tf.float32, name='gradient'), <tensorflow.python.framework.func_graph.UnknownArgument object at 0x7ce7adb9fd50>, 137340650462368), {}).\n"
          ]
        },
        {
          "name": "stdout",
          "output_type": "stream",
          "text": [
            "INFO:tensorflow:Unsupported signature for serialization: ((TensorSpec(shape=(3, 3, 1392, 1), dtype=tf.float32, name='gradient'), <tensorflow.python.framework.func_graph.UnknownArgument object at 0x7ce7adb77950>, 137340650314640), {}).\n"
          ]
        },
        {
          "name": "stderr",
          "output_type": "stream",
          "text": [
            "INFO:tensorflow:Unsupported signature for serialization: ((TensorSpec(shape=(3, 3, 1392, 1), dtype=tf.float32, name='gradient'), <tensorflow.python.framework.func_graph.UnknownArgument object at 0x7ce7adb77950>, 137340650314640), {}).\n"
          ]
        },
        {
          "name": "stdout",
          "output_type": "stream",
          "text": [
            "INFO:tensorflow:Unsupported signature for serialization: ((TensorSpec(shape=(1, 1, 1392, 58), dtype=tf.float32, name='gradient'), <tensorflow.python.framework.func_graph.UnknownArgument object at 0x7ce7adb43a90>, 137340648625840), {}).\n"
          ]
        },
        {
          "name": "stderr",
          "output_type": "stream",
          "text": [
            "INFO:tensorflow:Unsupported signature for serialization: ((TensorSpec(shape=(1, 1, 1392, 58), dtype=tf.float32, name='gradient'), <tensorflow.python.framework.func_graph.UnknownArgument object at 0x7ce7adb43a90>, 137340648625840), {}).\n"
          ]
        },
        {
          "name": "stdout",
          "output_type": "stream",
          "text": [
            "INFO:tensorflow:Unsupported signature for serialization: ((TensorSpec(shape=(58,), dtype=tf.float32, name='gradient'), <tensorflow.python.framework.func_graph.UnknownArgument object at 0x7ce7adb2a790>, 137340648626400), {}).\n"
          ]
        },
        {
          "name": "stderr",
          "output_type": "stream",
          "text": [
            "INFO:tensorflow:Unsupported signature for serialization: ((TensorSpec(shape=(58,), dtype=tf.float32, name='gradient'), <tensorflow.python.framework.func_graph.UnknownArgument object at 0x7ce7adb2a790>, 137340648626400), {}).\n"
          ]
        },
        {
          "name": "stdout",
          "output_type": "stream",
          "text": [
            "INFO:tensorflow:Unsupported signature for serialization: ((TensorSpec(shape=(1, 1, 58, 1392), dtype=tf.float32, name='gradient'), <tensorflow.python.framework.func_graph.UnknownArgument object at 0x7ce7adcfc250>, 137340648631120), {}).\n"
          ]
        },
        {
          "name": "stderr",
          "output_type": "stream",
          "text": [
            "INFO:tensorflow:Unsupported signature for serialization: ((TensorSpec(shape=(1, 1, 58, 1392), dtype=tf.float32, name='gradient'), <tensorflow.python.framework.func_graph.UnknownArgument object at 0x7ce7adcfc250>, 137340648631120), {}).\n"
          ]
        },
        {
          "name": "stdout",
          "output_type": "stream",
          "text": [
            "INFO:tensorflow:Unsupported signature for serialization: ((TensorSpec(shape=(1392,), dtype=tf.float32, name='gradient'), <tensorflow.python.framework.func_graph.UnknownArgument object at 0x7ce7adcd7310>, 137340648630720), {}).\n"
          ]
        },
        {
          "name": "stderr",
          "output_type": "stream",
          "text": [
            "INFO:tensorflow:Unsupported signature for serialization: ((TensorSpec(shape=(1392,), dtype=tf.float32, name='gradient'), <tensorflow.python.framework.func_graph.UnknownArgument object at 0x7ce7adcd7310>, 137340648630720), {}).\n"
          ]
        },
        {
          "name": "stdout",
          "output_type": "stream",
          "text": [
            "INFO:tensorflow:Unsupported signature for serialization: ((TensorSpec(shape=(1, 1, 1392, 232), dtype=tf.float32, name='gradient'), <tensorflow.python.framework.func_graph.UnknownArgument object at 0x7ce7adc9bcd0>, 137340650320304), {}).\n"
          ]
        },
        {
          "name": "stderr",
          "output_type": "stream",
          "text": [
            "INFO:tensorflow:Unsupported signature for serialization: ((TensorSpec(shape=(1, 1, 1392, 232), dtype=tf.float32, name='gradient'), <tensorflow.python.framework.func_graph.UnknownArgument object at 0x7ce7adc9bcd0>, 137340650320304), {}).\n"
          ]
        },
        {
          "name": "stdout",
          "output_type": "stream",
          "text": [
            "INFO:tensorflow:Unsupported signature for serialization: ((TensorSpec(shape=(1, 1, 232, 1536), dtype=tf.float32, name='gradient'), <tensorflow.python.framework.func_graph.UnknownArgument object at 0x7ce7adc5bdd0>, 137340648730144), {}).\n"
          ]
        },
        {
          "name": "stderr",
          "output_type": "stream",
          "text": [
            "INFO:tensorflow:Unsupported signature for serialization: ((TensorSpec(shape=(1, 1, 232, 1536), dtype=tf.float32, name='gradient'), <tensorflow.python.framework.func_graph.UnknownArgument object at 0x7ce7adc5bdd0>, 137340648730144), {}).\n"
          ]
        },
        {
          "name": "stdout",
          "output_type": "stream",
          "text": [
            "INFO:tensorflow:Unsupported signature for serialization: ((TensorSpec(shape=(1536, 101), dtype=tf.float32, name='gradient'), <tensorflow.python.framework.func_graph.UnknownArgument object at 0x7ce7adc352d0>, 137340644431056), {}).\n"
          ]
        },
        {
          "name": "stderr",
          "output_type": "stream",
          "text": [
            "INFO:tensorflow:Unsupported signature for serialization: ((TensorSpec(shape=(1536, 101), dtype=tf.float32, name='gradient'), <tensorflow.python.framework.func_graph.UnknownArgument object at 0x7ce7adc352d0>, 137340644431056), {}).\n"
          ]
        },
        {
          "name": "stdout",
          "output_type": "stream",
          "text": [
            "INFO:tensorflow:Unsupported signature for serialization: ((TensorSpec(shape=(101,), dtype=tf.float32, name='gradient'), <tensorflow.python.framework.func_graph.UnknownArgument object at 0x7ce7addf8d50>, 137340644430416), {}).\n"
          ]
        },
        {
          "name": "stderr",
          "output_type": "stream",
          "text": [
            "INFO:tensorflow:Unsupported signature for serialization: ((TensorSpec(shape=(101,), dtype=tf.float32, name='gradient'), <tensorflow.python.framework.func_graph.UnknownArgument object at 0x7ce7addf8d50>, 137340644430416), {}).\n"
          ]
        },
        {
          "name": "stdout",
          "output_type": "stream",
          "text": [
            "INFO:tensorflow:Unsupported signature for serialization: ((TensorSpec(shape=(1, 1, 1392, 58), dtype=tf.float32, name='gradient'), <tensorflow.python.framework.func_graph.UnknownArgument object at 0x7ce7ade0a890>, 137340650305728), {}).\n"
          ]
        },
        {
          "name": "stderr",
          "output_type": "stream",
          "text": [
            "INFO:tensorflow:Unsupported signature for serialization: ((TensorSpec(shape=(1, 1, 1392, 58), dtype=tf.float32, name='gradient'), <tensorflow.python.framework.func_graph.UnknownArgument object at 0x7ce7ade0a890>, 137340650305728), {}).\n"
          ]
        },
        {
          "name": "stdout",
          "output_type": "stream",
          "text": [
            "INFO:tensorflow:Unsupported signature for serialization: ((TensorSpec(shape=(58,), dtype=tf.float32, name='gradient'), <tensorflow.python.framework.func_graph.UnknownArgument object at 0x7ce7af18b090>, 137340650307248), {}).\n"
          ]
        },
        {
          "name": "stderr",
          "output_type": "stream",
          "text": [
            "INFO:tensorflow:Unsupported signature for serialization: ((TensorSpec(shape=(58,), dtype=tf.float32, name='gradient'), <tensorflow.python.framework.func_graph.UnknownArgument object at 0x7ce7af18b090>, 137340650307248), {}).\n"
          ]
        },
        {
          "name": "stdout",
          "output_type": "stream",
          "text": [
            "INFO:tensorflow:Unsupported signature for serialization: ((TensorSpec(shape=(1, 1, 58, 1392), dtype=tf.float32, name='gradient'), <tensorflow.python.framework.func_graph.UnknownArgument object at 0x7ce7af4ffb90>, 137340650464528), {}).\n"
          ]
        },
        {
          "name": "stderr",
          "output_type": "stream",
          "text": [
            "INFO:tensorflow:Unsupported signature for serialization: ((TensorSpec(shape=(1, 1, 58, 1392), dtype=tf.float32, name='gradient'), <tensorflow.python.framework.func_graph.UnknownArgument object at 0x7ce7af4ffb90>, 137340650464528), {}).\n"
          ]
        },
        {
          "name": "stdout",
          "output_type": "stream",
          "text": [
            "INFO:tensorflow:Unsupported signature for serialization: ((TensorSpec(shape=(1392,), dtype=tf.float32, name='gradient'), <tensorflow.python.framework.func_graph.UnknownArgument object at 0x7ce7ae7bc050>, 137340650464128), {}).\n"
          ]
        },
        {
          "name": "stderr",
          "output_type": "stream",
          "text": [
            "INFO:tensorflow:Unsupported signature for serialization: ((TensorSpec(shape=(1392,), dtype=tf.float32, name='gradient'), <tensorflow.python.framework.func_graph.UnknownArgument object at 0x7ce7ae7bc050>, 137340650464128), {}).\n"
          ]
        },
        {
          "name": "stdout",
          "output_type": "stream",
          "text": [
            "INFO:tensorflow:Unsupported signature for serialization: ((TensorSpec(shape=(1, 1, 1392, 232), dtype=tf.float32, name='gradient'), <tensorflow.python.framework.func_graph.UnknownArgument object at 0x7ce7ac3fd2d0>, 137340649550160), {}).\n"
          ]
        },
        {
          "name": "stderr",
          "output_type": "stream",
          "text": [
            "INFO:tensorflow:Unsupported signature for serialization: ((TensorSpec(shape=(1, 1, 1392, 232), dtype=tf.float32, name='gradient'), <tensorflow.python.framework.func_graph.UnknownArgument object at 0x7ce7ac3fd2d0>, 137340649550160), {}).\n"
          ]
        },
        {
          "name": "stdout",
          "output_type": "stream",
          "text": [
            "INFO:tensorflow:Unsupported signature for serialization: ((TensorSpec(shape=(1, 1, 232, 1392), dtype=tf.float32, name='gradient'), <tensorflow.python.framework.func_graph.UnknownArgument object at 0x7ce802843e90>, 137340650462368), {}).\n"
          ]
        },
        {
          "name": "stderr",
          "output_type": "stream",
          "text": [
            "INFO:tensorflow:Unsupported signature for serialization: ((TensorSpec(shape=(1, 1, 232, 1392), dtype=tf.float32, name='gradient'), <tensorflow.python.framework.func_graph.UnknownArgument object at 0x7ce802843e90>, 137340650462368), {}).\n"
          ]
        },
        {
          "name": "stdout",
          "output_type": "stream",
          "text": [
            "INFO:tensorflow:Unsupported signature for serialization: ((TensorSpec(shape=(3, 3, 1392, 1), dtype=tf.float32, name='gradient'), <tensorflow.python.framework.func_graph.UnknownArgument object at 0x7ce801a52f90>, 137340650314640), {}).\n"
          ]
        },
        {
          "name": "stderr",
          "output_type": "stream",
          "text": [
            "INFO:tensorflow:Unsupported signature for serialization: ((TensorSpec(shape=(3, 3, 1392, 1), dtype=tf.float32, name='gradient'), <tensorflow.python.framework.func_graph.UnknownArgument object at 0x7ce801a52f90>, 137340650314640), {}).\n"
          ]
        },
        {
          "name": "stdout",
          "output_type": "stream",
          "text": [
            "INFO:tensorflow:Unsupported signature for serialization: ((TensorSpec(shape=(1, 1, 1392, 58), dtype=tf.float32, name='gradient'), <tensorflow.python.framework.func_graph.UnknownArgument object at 0x7ce801d8aed0>, 137340648625840), {}).\n"
          ]
        },
        {
          "name": "stderr",
          "output_type": "stream",
          "text": [
            "INFO:tensorflow:Unsupported signature for serialization: ((TensorSpec(shape=(1, 1, 1392, 58), dtype=tf.float32, name='gradient'), <tensorflow.python.framework.func_graph.UnknownArgument object at 0x7ce801d8aed0>, 137340648625840), {}).\n"
          ]
        },
        {
          "name": "stdout",
          "output_type": "stream",
          "text": [
            "INFO:tensorflow:Unsupported signature for serialization: ((TensorSpec(shape=(58,), dtype=tf.float32, name='gradient'), <tensorflow.python.framework.func_graph.UnknownArgument object at 0x7ce801009c90>, 137340648626400), {}).\n"
          ]
        },
        {
          "name": "stderr",
          "output_type": "stream",
          "text": [
            "INFO:tensorflow:Unsupported signature for serialization: ((TensorSpec(shape=(58,), dtype=tf.float32, name='gradient'), <tensorflow.python.framework.func_graph.UnknownArgument object at 0x7ce801009c90>, 137340648626400), {}).\n"
          ]
        },
        {
          "name": "stdout",
          "output_type": "stream",
          "text": [
            "INFO:tensorflow:Unsupported signature for serialization: ((TensorSpec(shape=(1, 1, 58, 1392), dtype=tf.float32, name='gradient'), <tensorflow.python.framework.func_graph.UnknownArgument object at 0x7ce80172c1d0>, 137340648631120), {}).\n"
          ]
        },
        {
          "name": "stderr",
          "output_type": "stream",
          "text": [
            "INFO:tensorflow:Unsupported signature for serialization: ((TensorSpec(shape=(1, 1, 58, 1392), dtype=tf.float32, name='gradient'), <tensorflow.python.framework.func_graph.UnknownArgument object at 0x7ce80172c1d0>, 137340648631120), {}).\n"
          ]
        },
        {
          "name": "stdout",
          "output_type": "stream",
          "text": [
            "INFO:tensorflow:Unsupported signature for serialization: ((TensorSpec(shape=(1392,), dtype=tf.float32, name='gradient'), <tensorflow.python.framework.func_graph.UnknownArgument object at 0x7ce800fb5510>, 137340648630720), {}).\n"
          ]
        },
        {
          "name": "stderr",
          "output_type": "stream",
          "text": [
            "INFO:tensorflow:Unsupported signature for serialization: ((TensorSpec(shape=(1392,), dtype=tf.float32, name='gradient'), <tensorflow.python.framework.func_graph.UnknownArgument object at 0x7ce800fb5510>, 137340648630720), {}).\n"
          ]
        },
        {
          "name": "stdout",
          "output_type": "stream",
          "text": [
            "INFO:tensorflow:Unsupported signature for serialization: ((TensorSpec(shape=(1, 1, 1392, 232), dtype=tf.float32, name='gradient'), <tensorflow.python.framework.func_graph.UnknownArgument object at 0x7ce802a16f10>, 137340650320304), {}).\n"
          ]
        },
        {
          "name": "stderr",
          "output_type": "stream",
          "text": [
            "INFO:tensorflow:Unsupported signature for serialization: ((TensorSpec(shape=(1, 1, 1392, 232), dtype=tf.float32, name='gradient'), <tensorflow.python.framework.func_graph.UnknownArgument object at 0x7ce802a16f10>, 137340650320304), {}).\n"
          ]
        },
        {
          "name": "stdout",
          "output_type": "stream",
          "text": [
            "INFO:tensorflow:Unsupported signature for serialization: ((TensorSpec(shape=(1, 1, 232, 1536), dtype=tf.float32, name='gradient'), <tensorflow.python.framework.func_graph.UnknownArgument object at 0x7ce91502a510>, 137340648730144), {}).\n"
          ]
        },
        {
          "name": "stderr",
          "output_type": "stream",
          "text": [
            "INFO:tensorflow:Unsupported signature for serialization: ((TensorSpec(shape=(1, 1, 232, 1536), dtype=tf.float32, name='gradient'), <tensorflow.python.framework.func_graph.UnknownArgument object at 0x7ce91502a510>, 137340648730144), {}).\n"
          ]
        },
        {
          "name": "stdout",
          "output_type": "stream",
          "text": [
            "INFO:tensorflow:Unsupported signature for serialization: ((TensorSpec(shape=(1536, 101), dtype=tf.float32, name='gradient'), <tensorflow.python.framework.func_graph.UnknownArgument object at 0x7ce914cc82d0>, 137340644431056), {}).\n"
          ]
        },
        {
          "name": "stderr",
          "output_type": "stream",
          "text": [
            "INFO:tensorflow:Unsupported signature for serialization: ((TensorSpec(shape=(1536, 101), dtype=tf.float32, name='gradient'), <tensorflow.python.framework.func_graph.UnknownArgument object at 0x7ce914cc82d0>, 137340644431056), {}).\n"
          ]
        },
        {
          "name": "stdout",
          "output_type": "stream",
          "text": [
            "INFO:tensorflow:Unsupported signature for serialization: ((TensorSpec(shape=(101,), dtype=tf.float32, name='gradient'), <tensorflow.python.framework.func_graph.UnknownArgument object at 0x7ce91553c8d0>, 137340644430416), {}).\n"
          ]
        },
        {
          "name": "stderr",
          "output_type": "stream",
          "text": [
            "INFO:tensorflow:Unsupported signature for serialization: ((TensorSpec(shape=(101,), dtype=tf.float32, name='gradient'), <tensorflow.python.framework.func_graph.UnknownArgument object at 0x7ce91553c8d0>, 137340644430416), {}).\n"
          ]
        },
        {
          "name": "stdout",
          "output_type": "stream",
          "text": [
            "INFO:tensorflow:Unsupported signature for serialization: ((TensorSpec(shape=(1, 1, 1392, 58), dtype=tf.float32, name='gradient'), <tensorflow.python.framework.func_graph.UnknownArgument object at 0x7ce8012c4a10>, 137340650305728), {}).\n"
          ]
        },
        {
          "name": "stderr",
          "output_type": "stream",
          "text": [
            "INFO:tensorflow:Unsupported signature for serialization: ((TensorSpec(shape=(1, 1, 1392, 58), dtype=tf.float32, name='gradient'), <tensorflow.python.framework.func_graph.UnknownArgument object at 0x7ce8012c4a10>, 137340650305728), {}).\n"
          ]
        },
        {
          "name": "stdout",
          "output_type": "stream",
          "text": [
            "INFO:tensorflow:Unsupported signature for serialization: ((TensorSpec(shape=(58,), dtype=tf.float32, name='gradient'), <tensorflow.python.framework.func_graph.UnknownArgument object at 0x7ce7ada646d0>, 137340650307248), {}).\n"
          ]
        },
        {
          "name": "stderr",
          "output_type": "stream",
          "text": [
            "INFO:tensorflow:Unsupported signature for serialization: ((TensorSpec(shape=(58,), dtype=tf.float32, name='gradient'), <tensorflow.python.framework.func_graph.UnknownArgument object at 0x7ce7ada646d0>, 137340650307248), {}).\n"
          ]
        },
        {
          "name": "stdout",
          "output_type": "stream",
          "text": [
            "INFO:tensorflow:Unsupported signature for serialization: ((TensorSpec(shape=(1, 1, 58, 1392), dtype=tf.float32, name='gradient'), <tensorflow.python.framework.func_graph.UnknownArgument object at 0x7ce7ada339d0>, 137340650464528), {}).\n"
          ]
        },
        {
          "name": "stderr",
          "output_type": "stream",
          "text": [
            "INFO:tensorflow:Unsupported signature for serialization: ((TensorSpec(shape=(1, 1, 58, 1392), dtype=tf.float32, name='gradient'), <tensorflow.python.framework.func_graph.UnknownArgument object at 0x7ce7ada339d0>, 137340650464528), {}).\n"
          ]
        },
        {
          "name": "stdout",
          "output_type": "stream",
          "text": [
            "INFO:tensorflow:Unsupported signature for serialization: ((TensorSpec(shape=(1392,), dtype=tf.float32, name='gradient'), <tensorflow.python.framework.func_graph.UnknownArgument object at 0x7ce7adbfa450>, 137340650464128), {}).\n"
          ]
        },
        {
          "name": "stderr",
          "output_type": "stream",
          "text": [
            "INFO:tensorflow:Unsupported signature for serialization: ((TensorSpec(shape=(1392,), dtype=tf.float32, name='gradient'), <tensorflow.python.framework.func_graph.UnknownArgument object at 0x7ce7adbfa450>, 137340650464128), {}).\n"
          ]
        },
        {
          "name": "stdout",
          "output_type": "stream",
          "text": [
            "INFO:tensorflow:Unsupported signature for serialization: ((TensorSpec(shape=(1, 1, 1392, 232), dtype=tf.float32, name='gradient'), <tensorflow.python.framework.func_graph.UnknownArgument object at 0x7ce7adbcb290>, 137340649550160), {}).\n"
          ]
        },
        {
          "name": "stderr",
          "output_type": "stream",
          "text": [
            "INFO:tensorflow:Unsupported signature for serialization: ((TensorSpec(shape=(1, 1, 1392, 232), dtype=tf.float32, name='gradient'), <tensorflow.python.framework.func_graph.UnknownArgument object at 0x7ce7adbcb290>, 137340649550160), {}).\n"
          ]
        },
        {
          "name": "stdout",
          "output_type": "stream",
          "text": [
            "INFO:tensorflow:Unsupported signature for serialization: ((TensorSpec(shape=(1, 1, 232, 1392), dtype=tf.float32, name='gradient'), <tensorflow.python.framework.func_graph.UnknownArgument object at 0x7ce7adb9fd50>, 137340650462368), {}).\n"
          ]
        },
        {
          "name": "stderr",
          "output_type": "stream",
          "text": [
            "INFO:tensorflow:Unsupported signature for serialization: ((TensorSpec(shape=(1, 1, 232, 1392), dtype=tf.float32, name='gradient'), <tensorflow.python.framework.func_graph.UnknownArgument object at 0x7ce7adb9fd50>, 137340650462368), {}).\n"
          ]
        },
        {
          "name": "stdout",
          "output_type": "stream",
          "text": [
            "INFO:tensorflow:Unsupported signature for serialization: ((TensorSpec(shape=(3, 3, 1392, 1), dtype=tf.float32, name='gradient'), <tensorflow.python.framework.func_graph.UnknownArgument object at 0x7ce7adb77950>, 137340650314640), {}).\n"
          ]
        },
        {
          "name": "stderr",
          "output_type": "stream",
          "text": [
            "INFO:tensorflow:Unsupported signature for serialization: ((TensorSpec(shape=(3, 3, 1392, 1), dtype=tf.float32, name='gradient'), <tensorflow.python.framework.func_graph.UnknownArgument object at 0x7ce7adb77950>, 137340650314640), {}).\n"
          ]
        },
        {
          "name": "stdout",
          "output_type": "stream",
          "text": [
            "INFO:tensorflow:Unsupported signature for serialization: ((TensorSpec(shape=(1, 1, 1392, 58), dtype=tf.float32, name='gradient'), <tensorflow.python.framework.func_graph.UnknownArgument object at 0x7ce7adb43a90>, 137340648625840), {}).\n"
          ]
        },
        {
          "name": "stderr",
          "output_type": "stream",
          "text": [
            "INFO:tensorflow:Unsupported signature for serialization: ((TensorSpec(shape=(1, 1, 1392, 58), dtype=tf.float32, name='gradient'), <tensorflow.python.framework.func_graph.UnknownArgument object at 0x7ce7adb43a90>, 137340648625840), {}).\n"
          ]
        },
        {
          "name": "stdout",
          "output_type": "stream",
          "text": [
            "INFO:tensorflow:Unsupported signature for serialization: ((TensorSpec(shape=(58,), dtype=tf.float32, name='gradient'), <tensorflow.python.framework.func_graph.UnknownArgument object at 0x7ce7adb2a790>, 137340648626400), {}).\n"
          ]
        },
        {
          "name": "stderr",
          "output_type": "stream",
          "text": [
            "INFO:tensorflow:Unsupported signature for serialization: ((TensorSpec(shape=(58,), dtype=tf.float32, name='gradient'), <tensorflow.python.framework.func_graph.UnknownArgument object at 0x7ce7adb2a790>, 137340648626400), {}).\n"
          ]
        },
        {
          "name": "stdout",
          "output_type": "stream",
          "text": [
            "INFO:tensorflow:Unsupported signature for serialization: ((TensorSpec(shape=(1, 1, 58, 1392), dtype=tf.float32, name='gradient'), <tensorflow.python.framework.func_graph.UnknownArgument object at 0x7ce7adcfc250>, 137340648631120), {}).\n"
          ]
        },
        {
          "name": "stderr",
          "output_type": "stream",
          "text": [
            "INFO:tensorflow:Unsupported signature for serialization: ((TensorSpec(shape=(1, 1, 58, 1392), dtype=tf.float32, name='gradient'), <tensorflow.python.framework.func_graph.UnknownArgument object at 0x7ce7adcfc250>, 137340648631120), {}).\n"
          ]
        },
        {
          "name": "stdout",
          "output_type": "stream",
          "text": [
            "INFO:tensorflow:Unsupported signature for serialization: ((TensorSpec(shape=(1392,), dtype=tf.float32, name='gradient'), <tensorflow.python.framework.func_graph.UnknownArgument object at 0x7ce7adcd7310>, 137340648630720), {}).\n"
          ]
        },
        {
          "name": "stderr",
          "output_type": "stream",
          "text": [
            "INFO:tensorflow:Unsupported signature for serialization: ((TensorSpec(shape=(1392,), dtype=tf.float32, name='gradient'), <tensorflow.python.framework.func_graph.UnknownArgument object at 0x7ce7adcd7310>, 137340648630720), {}).\n"
          ]
        },
        {
          "name": "stdout",
          "output_type": "stream",
          "text": [
            "INFO:tensorflow:Unsupported signature for serialization: ((TensorSpec(shape=(1, 1, 1392, 232), dtype=tf.float32, name='gradient'), <tensorflow.python.framework.func_graph.UnknownArgument object at 0x7ce7adc9bcd0>, 137340650320304), {}).\n"
          ]
        },
        {
          "name": "stderr",
          "output_type": "stream",
          "text": [
            "INFO:tensorflow:Unsupported signature for serialization: ((TensorSpec(shape=(1, 1, 1392, 232), dtype=tf.float32, name='gradient'), <tensorflow.python.framework.func_graph.UnknownArgument object at 0x7ce7adc9bcd0>, 137340650320304), {}).\n"
          ]
        },
        {
          "name": "stdout",
          "output_type": "stream",
          "text": [
            "INFO:tensorflow:Unsupported signature for serialization: ((TensorSpec(shape=(1, 1, 232, 1536), dtype=tf.float32, name='gradient'), <tensorflow.python.framework.func_graph.UnknownArgument object at 0x7ce7adc5bdd0>, 137340648730144), {}).\n"
          ]
        },
        {
          "name": "stderr",
          "output_type": "stream",
          "text": [
            "INFO:tensorflow:Unsupported signature for serialization: ((TensorSpec(shape=(1, 1, 232, 1536), dtype=tf.float32, name='gradient'), <tensorflow.python.framework.func_graph.UnknownArgument object at 0x7ce7adc5bdd0>, 137340648730144), {}).\n"
          ]
        },
        {
          "name": "stdout",
          "output_type": "stream",
          "text": [
            "INFO:tensorflow:Unsupported signature for serialization: ((TensorSpec(shape=(1536, 101), dtype=tf.float32, name='gradient'), <tensorflow.python.framework.func_graph.UnknownArgument object at 0x7ce7adc352d0>, 137340644431056), {}).\n"
          ]
        },
        {
          "name": "stderr",
          "output_type": "stream",
          "text": [
            "INFO:tensorflow:Unsupported signature for serialization: ((TensorSpec(shape=(1536, 101), dtype=tf.float32, name='gradient'), <tensorflow.python.framework.func_graph.UnknownArgument object at 0x7ce7adc352d0>, 137340644431056), {}).\n"
          ]
        },
        {
          "name": "stdout",
          "output_type": "stream",
          "text": [
            "INFO:tensorflow:Unsupported signature for serialization: ((TensorSpec(shape=(101,), dtype=tf.float32, name='gradient'), <tensorflow.python.framework.func_graph.UnknownArgument object at 0x7ce7addf8d50>, 137340644430416), {}).\n"
          ]
        },
        {
          "name": "stderr",
          "output_type": "stream",
          "text": [
            "INFO:tensorflow:Unsupported signature for serialization: ((TensorSpec(shape=(101,), dtype=tf.float32, name='gradient'), <tensorflow.python.framework.func_graph.UnknownArgument object at 0x7ce7addf8d50>, 137340644430416), {}).\n"
          ]
        },
        {
          "name": "stdout",
          "output_type": "stream",
          "text": [
            "INFO:tensorflow:Assets written to: fine_tune_checkpoints/assets\n"
          ]
        },
        {
          "name": "stderr",
          "output_type": "stream",
          "text": [
            "INFO:tensorflow:Assets written to: fine_tune_checkpoints/assets\n"
          ]
        },
        {
          "name": "stdout",
          "output_type": "stream",
          "text": [
            "1184/1184 [==============================] - 833s 698ms/step - loss: 0.4134 - accuracy: 0.8817 - val_loss: 0.5745 - val_accuracy: 0.8367 - lr: 5.0000e-04\n",
            "Epoch 9/100\n",
            "1184/1184 [==============================] - ETA: 0s - loss: 0.2738 - accuracy: 0.9201\n",
            "Epoch 9: ReduceLROnPlateau reducing learning rate to 0.00010000000474974513.\n",
            "1184/1184 [==============================] - 772s 648ms/step - loss: 0.2738 - accuracy: 0.9201 - val_loss: 0.6153 - val_accuracy: 0.8399 - lr: 5.0000e-04\n",
            "Epoch 10/100\n",
            "1184/1184 [==============================] - ETA: 0s - loss: 0.1021 - accuracy: 0.9718\n",
            "Epoch 10: ReduceLROnPlateau reducing learning rate to 2.0000000949949027e-05.\n",
            "1184/1184 [==============================] - 769s 649ms/step - loss: 0.1021 - accuracy: 0.9718 - val_loss: 0.6290 - val_accuracy: 0.8536 - lr: 1.0000e-04\n",
            "Epoch 11/100\n",
            "1184/1184 [==============================] - ETA: 0s - loss: 0.0536 - accuracy: 0.9871\n",
            "Epoch 11: ReduceLROnPlateau reducing learning rate to 4.000000262749381e-06.\n",
            "1184/1184 [==============================] - 770s 650ms/step - loss: 0.0536 - accuracy: 0.9871 - val_loss: 0.6488 - val_accuracy: 0.8533 - lr: 2.0000e-05\n"
          ]
        }
      ],
      "source": [
        "history_101_food_classes_all_data_fine_tune = model.fit(train_data,\n",
        "                                                        epochs=100,\n",
        "                                                        initial_epoch = history_101_food_classes_feature_extract.epoch[-1] + 1,\n",
        "                                                        steps_per_epoch=len(train_data),\n",
        "                                                        validation_data=test_data,\n",
        "                                                        validation_steps=int(0.25 * len(test_data)),\n",
        "                                                        callbacks=[model_checkpoint,\n",
        "                                                                   early_stopping,\n",
        "                                                                   reduce_lr])"
      ]
    },
    {
      "cell_type": "code",
      "execution_count": 27,
      "metadata": {
        "colab": {
          "base_uri": "https://localhost:8080/"
        },
        "id": "7Y_QeptYlcIP",
        "outputId": "fd16a2a1-6510-4399-bf69-5bdba8bd1fe8"
      },
      "outputs": [
        {
          "name": "stdout",
          "output_type": "stream",
          "text": [
            "395/395 [==============================] - 208s 518ms/step - loss: 0.6621 - accuracy: 0.8490\n"
          ]
        },
        {
          "data": {
            "text/plain": [
              "[0.6621426343917847, 0.8489505052566528]"
            ]
          },
          "execution_count": 27,
          "metadata": {},
          "output_type": "execute_result"
        }
      ],
      "source": [
        "model.evaluate(test_data)"
      ]
    },
    {
      "cell_type": "code",
      "execution_count": 26,
      "metadata": {},
      "outputs": [
        {
          "data": {
            "text/plain": [
              "<Axes: >"
            ]
          },
          "execution_count": 26,
          "metadata": {},
          "output_type": "execute_result"
        },
        {
          "data": {
            "image/png": "[encoded data removed]",
            "text/plain": [
              "<Figure size 640x480 with 1 Axes>"
            ]
          },
          "metadata": {},
          "output_type": "display_data"
        }
      ],
      "source": [
        "import pandas as pd\n",
        "pd.DataFrame(history_101_food_classes_all_data_fine_tune.history).plot()"
      ]
    }
  ],
  "metadata": {
    "accelerator": "GPU",
    "colab": {
      "gpuType": "T4",
      "provenance": []
    },
    "kernelspec": {
      "display_name": "Python 3",
      "name": "python3"
    },
    "language_info": {
      "codemirror_mode": {
        "name": "ipython",
        "version": 3
      },
      "file_extension": ".py",
      "mimetype": "text/x-python",
      "name": "python",
      "nbconvert_exporter": "python",
      "pygments_lexer": "ipython3",
      "version": "3.11.7"
    },
    "widgets": {
      "application/vnd.jupyter.widget-state+json": {
        "030e0ff2c0d94043a590aa065ec3a087": {
          "model_module": "@jupyter-widgets/controls",
          "model_module_version": "1.5.0",
          "model_name": "HTMLModel",
          "state": {
            "_dom_classes": [],
            "_model_module": "@jupyter-widgets/controls",
            "_model_module_version": "1.5.0",
            "_model_name": "HTMLModel",
            "_view_count": null,
            "_view_module": "@jupyter-widgets/controls",
            "_view_module_version": "1.5.0",
            "_view_name": "HTMLView",
            "description": "",
            "description_tooltip": null,
            "layout": "IPY_MODEL_68049f8590b1467bb966882f7bf1f1c5",
            "placeholder": "​",
            "style": "IPY_MODEL_d9100aac3656427eb14b1844e5c996d4",
            "value": " 25100/25250 [00:11&lt;00:00, 612.61 examples/s]"
          }
        },
        "0b366cf33479421dafff2ec3eb78dbee": {
          "model_module": "@jupyter-widgets/base",
          "model_module_version": "1.2.0",
          "model_name": "LayoutModel",
          "state": {
            "_model_module": "@jupyter-widgets/base",
            "_model_module_version": "1.2.0",
            "_model_name": "LayoutModel",
            "_view_count": null,
            "_view_module": "@jupyter-widgets/base",
            "_view_module_version": "1.2.0",
            "_view_name": "LayoutView",
            "align_content": null,
            "align_items": null,
            "align_self": null,
            "border": null,
            "bottom": null,
            "display": null,
            "flex": null,
            "flex_flow": null,
            "grid_area": null,
            "grid_auto_columns": null,
            "grid_auto_flow": null,
            "grid_auto_rows": null,
            "grid_column": null,
            "grid_gap": null,
            "grid_row": null,
            "grid_template_areas": null,
            "grid_template_columns": null,
            "grid_template_rows": null,
            "height": null,
            "justify_content": null,
            "justify_items": null,
            "left": null,
            "margin": null,
            "max_height": null,
            "max_width": null,
            "min_height": null,
            "min_width": null,
            "object_fit": null,
            "object_position": null,
            "order": null,
            "overflow": null,
            "overflow_x": null,
            "overflow_y": null,
            "padding": null,
            "right": null,
            "top": null,
            "visibility": null,
            "width": null
          }
        },
        "0eb3c62915534982a13709f257c960d9": {
          "model_module": "@jupyter-widgets/controls",
          "model_module_version": "1.5.0",
          "model_name": "HBoxModel",
          "state": {
            "_dom_classes": [],
            "_model_module": "@jupyter-widgets/controls",
            "_model_module_version": "1.5.0",
            "_model_name": "HBoxModel",
            "_view_count": null,
            "_view_module": "@jupyter-widgets/controls",
            "_view_module_version": "1.5.0",
            "_view_name": "HBoxView",
            "box_style": "",
            "children": [
              "IPY_MODEL_71fdc4a584c54b6b99873626a7c6017a",
              "IPY_MODEL_1c6d9f5d95cb4d4599d28217f110af2f",
              "IPY_MODEL_b697a5e68cfb493080221d615f27a679"
            ],
            "layout": "IPY_MODEL_6b4a27e63e3c41d48c7701ac911ec4ae"
          }
        },
        "147477e92ff5485885e81d00a13e7a68": {
          "model_module": "@jupyter-widgets/base",
          "model_module_version": "1.2.0",
          "model_name": "LayoutModel",
          "state": {
            "_model_module": "@jupyter-widgets/base",
            "_model_module_version": "1.2.0",
            "_model_name": "LayoutModel",
            "_view_count": null,
            "_view_module": "@jupyter-widgets/base",
            "_view_module_version": "1.2.0",
            "_view_name": "LayoutView",
            "align_content": null,
            "align_items": null,
            "align_self": null,
            "border": null,
            "bottom": null,
            "display": null,
            "flex": null,
            "flex_flow": null,
            "grid_area": null,
            "grid_auto_columns": null,
            "grid_auto_flow": null,
            "grid_auto_rows": null,
            "grid_column": null,
            "grid_gap": null,
            "grid_row": null,
            "grid_template_areas": null,
            "grid_template_columns": null,
            "grid_template_rows": null,
            "height": null,
            "justify_content": null,
            "justify_items": null,
            "left": null,
            "margin": null,
            "max_height": null,
            "max_width": null,
            "min_height": null,
            "min_width": null,
            "object_fit": null,
            "object_position": null,
            "order": null,
            "overflow": null,
            "overflow_x": null,
            "overflow_y": null,
            "padding": null,
            "right": null,
            "top": null,
            "visibility": null,
            "width": null
          }
        },
        "1a32549cb5184873bcfc78b451f1de9e": {
          "model_module": "@jupyter-widgets/base",
          "model_module_version": "1.2.0",
          "model_name": "LayoutModel",
          "state": {
            "_model_module": "@jupyter-widgets/base",
            "_model_module_version": "1.2.0",
            "_model_name": "LayoutModel",
            "_view_count": null,
            "_view_module": "@jupyter-widgets/base",
            "_view_module_version": "1.2.0",
            "_view_name": "LayoutView",
            "align_content": null,
            "align_items": null,
            "align_self": null,
            "border": null,
            "bottom": null,
            "display": null,
            "flex": null,
            "flex_flow": null,
            "grid_area": null,
            "grid_auto_columns": null,
            "grid_auto_flow": null,
            "grid_auto_rows": null,
            "grid_column": null,
            "grid_gap": null,
            "grid_row": null,
            "grid_template_areas": null,
            "grid_template_columns": null,
            "grid_template_rows": null,
            "height": null,
            "justify_content": null,
            "justify_items": null,
            "left": null,
            "margin": null,
            "max_height": null,
            "max_width": null,
            "min_height": null,
            "min_width": null,
            "object_fit": null,
            "object_position": null,
            "order": null,
            "overflow": null,
            "overflow_x": null,
            "overflow_y": null,
            "padding": null,
            "right": null,
            "top": null,
            "visibility": null,
            "width": null
          }
        },
        "1c4ccd7777b14e1ea63dbe50c290be52": {
          "model_module": "@jupyter-widgets/base",
          "model_module_version": "1.2.0",
          "model_name": "LayoutModel",
          "state": {
            "_model_module": "@jupyter-widgets/base",
            "_model_module_version": "1.2.0",
            "_model_name": "LayoutModel",
            "_view_count": null,
            "_view_module": "@jupyter-widgets/base",
            "_view_module_version": "1.2.0",
            "_view_name": "LayoutView",
            "align_content": null,
            "align_items": null,
            "align_self": null,
            "border": null,
            "bottom": null,
            "display": null,
            "flex": null,
            "flex_flow": null,
            "grid_area": null,
            "grid_auto_columns": null,
            "grid_auto_flow": null,
            "grid_auto_rows": null,
            "grid_column": null,
            "grid_gap": null,
            "grid_row": null,
            "grid_template_areas": null,
            "grid_template_columns": null,
            "grid_template_rows": null,
            "height": null,
            "justify_content": null,
            "justify_items": null,
            "left": null,
            "margin": null,
            "max_height": null,
            "max_width": null,
            "min_height": null,
            "min_width": null,
            "object_fit": null,
            "object_position": null,
            "order": null,
            "overflow": null,
            "overflow_x": null,
            "overflow_y": null,
            "padding": null,
            "right": null,
            "top": null,
            "visibility": null,
            "width": null
          }
        },
        "1c6d9f5d95cb4d4599d28217f110af2f": {
          "model_module": "@jupyter-widgets/controls",
          "model_module_version": "1.5.0",
          "model_name": "FloatProgressModel",
          "state": {
            "_dom_classes": [],
            "_model_module": "@jupyter-widgets/controls",
            "_model_module_version": "1.5.0",
            "_model_name": "FloatProgressModel",
            "_view_count": null,
            "_view_module": "@jupyter-widgets/controls",
            "_view_module_version": "1.5.0",
            "_view_name": "ProgressView",
            "bar_style": "",
            "description": "",
            "description_tooltip": null,
            "layout": "IPY_MODEL_63597864775d4a498ef8b156eacd8918",
            "max": 2,
            "min": 0,
            "orientation": "horizontal",
            "style": "IPY_MODEL_b946aa199f964cd086b25f1826236c6e",
            "value": 2
          }
        },
        "1e02edc041174408ade62abcf04b188e": {
          "model_module": "@jupyter-widgets/base",
          "model_module_version": "1.2.0",
          "model_name": "LayoutModel",
          "state": {
            "_model_module": "@jupyter-widgets/base",
            "_model_module_version": "1.2.0",
            "_model_name": "LayoutModel",
            "_view_count": null,
            "_view_module": "@jupyter-widgets/base",
            "_view_module_version": "1.2.0",
            "_view_name": "LayoutView",
            "align_content": null,
            "align_items": null,
            "align_self": null,
            "border": null,
            "bottom": null,
            "display": null,
            "flex": null,
            "flex_flow": null,
            "grid_area": null,
            "grid_auto_columns": null,
            "grid_auto_flow": null,
            "grid_auto_rows": null,
            "grid_column": null,
            "grid_gap": null,
            "grid_row": null,
            "grid_template_areas": null,
            "grid_template_columns": null,
            "grid_template_rows": null,
            "height": null,
            "justify_content": null,
            "justify_items": null,
            "left": null,
            "margin": null,
            "max_height": null,
            "max_width": null,
            "min_height": null,
            "min_width": null,
            "object_fit": null,
            "object_position": null,
            "order": null,
            "overflow": null,
            "overflow_x": null,
            "overflow_y": null,
            "padding": null,
            "right": null,
            "top": null,
            "visibility": null,
            "width": null
          }
        },
        "1f98a5ef85fb4ea8bfb9e2aca51d6165": {
          "model_module": "@jupyter-widgets/controls",
          "model_module_version": "1.5.0",
          "model_name": "HTMLModel",
          "state": {
            "_dom_classes": [],
            "_model_module": "@jupyter-widgets/controls",
            "_model_module_version": "1.5.0",
            "_model_name": "HTMLModel",
            "_view_count": null,
            "_view_module": "@jupyter-widgets/controls",
            "_view_module_version": "1.5.0",
            "_view_name": "HTMLView",
            "description": "",
            "description_tooltip": null,
            "layout": "IPY_MODEL_df9379de840842a495203742d2f0bfc2",
            "placeholder": "​",
            "style": "IPY_MODEL_9b07e099c1794b00bc7261ef91b2dddc",
            "value": "Extraction completed...: 100%"
          }
        },
        "285627f04e2b4f90baaf38f4ca58eff2": {
          "model_module": "@jupyter-widgets/controls",
          "model_module_version": "1.5.0",
          "model_name": "DescriptionStyleModel",
          "state": {
            "_model_module": "@jupyter-widgets/controls",
            "_model_module_version": "1.5.0",
            "_model_name": "DescriptionStyleModel",
            "_view_count": null,
            "_view_module": "@jupyter-widgets/base",
            "_view_module_version": "1.2.0",
            "_view_name": "StyleView",
            "description_width": ""
          }
        },
        "2e9a9449e275448db4650dd31341d531": {
          "model_module": "@jupyter-widgets/base",
          "model_module_version": "1.2.0",
          "model_name": "LayoutModel",
          "state": {
            "_model_module": "@jupyter-widgets/base",
            "_model_module_version": "1.2.0",
            "_model_name": "LayoutModel",
            "_view_count": null,
            "_view_module": "@jupyter-widgets/base",
            "_view_module_version": "1.2.0",
            "_view_name": "LayoutView",
            "align_content": null,
            "align_items": null,
            "align_self": null,
            "border": null,
            "bottom": null,
            "display": null,
            "flex": null,
            "flex_flow": null,
            "grid_area": null,
            "grid_auto_columns": null,
            "grid_auto_flow": null,
            "grid_auto_rows": null,
            "grid_column": null,
            "grid_gap": null,
            "grid_row": null,
            "grid_template_areas": null,
            "grid_template_columns": null,
            "grid_template_rows": null,
            "height": null,
            "justify_content": null,
            "justify_items": null,
            "left": null,
            "margin": null,
            "max_height": null,
            "max_width": null,
            "min_height": null,
            "min_width": null,
            "object_fit": null,
            "object_position": null,
            "order": null,
            "overflow": null,
            "overflow_x": null,
            "overflow_y": null,
            "padding": null,
            "right": null,
            "top": null,
            "visibility": null,
            "width": "20px"
          }
        },
        "3227d62d5a564026848530e9366213c1": {
          "model_module": "@jupyter-widgets/base",
          "model_module_version": "1.2.0",
          "model_name": "LayoutModel",
          "state": {
            "_model_module": "@jupyter-widgets/base",
            "_model_module_version": "1.2.0",
            "_model_name": "LayoutModel",
            "_view_count": null,
            "_view_module": "@jupyter-widgets/base",
            "_view_module_version": "1.2.0",
            "_view_name": "LayoutView",
            "align_content": null,
            "align_items": null,
            "align_self": null,
            "border": null,
            "bottom": null,
            "display": null,
            "flex": null,
            "flex_flow": null,
            "grid_area": null,
            "grid_auto_columns": null,
            "grid_auto_flow": null,
            "grid_auto_rows": null,
            "grid_column": null,
            "grid_gap": null,
            "grid_row": null,
            "grid_template_areas": null,
            "grid_template_columns": null,
            "grid_template_rows": null,
            "height": null,
            "justify_content": null,
            "justify_items": null,
            "left": null,
            "margin": null,
            "max_height": null,
            "max_width": null,
            "min_height": null,
            "min_width": null,
            "object_fit": null,
            "object_position": null,
            "order": null,
            "overflow": null,
            "overflow_x": null,
            "overflow_y": null,
            "padding": null,
            "right": null,
            "top": null,
            "visibility": "hidden",
            "width": null
          }
        },
        "340644f3050942e4a9224a85cf12be10": {
          "model_module": "@jupyter-widgets/controls",
          "model_module_version": "1.5.0",
          "model_name": "HTMLModel",
          "state": {
            "_dom_classes": [],
            "_model_module": "@jupyter-widgets/controls",
            "_model_module_version": "1.5.0",
            "_model_name": "HTMLModel",
            "_view_count": null,
            "_view_module": "@jupyter-widgets/controls",
            "_view_module_version": "1.5.0",
            "_view_name": "HTMLView",
            "description": "",
            "description_tooltip": null,
            "layout": "IPY_MODEL_4cc55a1650284d61b5d16d74cbc43622",
            "placeholder": "​",
            "style": "IPY_MODEL_60ebd56383e74a24a193cb1583404945",
            "value": "Dl Completed...: 100%"
          }
        },
        "39ac1f45d3ad4b3fbc9f98891447d66d": {
          "model_module": "@jupyter-widgets/controls",
          "model_module_version": "1.5.0",
          "model_name": "DescriptionStyleModel",
          "state": {
            "_model_module": "@jupyter-widgets/controls",
            "_model_module_version": "1.5.0",
            "_model_name": "DescriptionStyleModel",
            "_view_count": null,
            "_view_module": "@jupyter-widgets/base",
            "_view_module_version": "1.2.0",
            "_view_name": "StyleView",
            "description_width": ""
          }
        },
        "3c076cbb503340ef85690bba67b63625": {
          "model_module": "@jupyter-widgets/controls",
          "model_module_version": "1.5.0",
          "model_name": "FloatProgressModel",
          "state": {
            "_dom_classes": [],
            "_model_module": "@jupyter-widgets/controls",
            "_model_module_version": "1.5.0",
            "_model_name": "FloatProgressModel",
            "_view_count": null,
            "_view_module": "@jupyter-widgets/controls",
            "_view_module_version": "1.5.0",
            "_view_name": "ProgressView",
            "bar_style": "success",
            "description": "",
            "description_tooltip": null,
            "layout": "IPY_MODEL_b9d65a991dc44076bb425c70a1a6983a",
            "max": 1,
            "min": 0,
            "orientation": "horizontal",
            "style": "IPY_MODEL_bbc25af983204b61b8823bd5e9b539c2",
            "value": 1
          }
        },
        "3cd96e87dbd947a3ac657b25096b6733": {
          "model_module": "@jupyter-widgets/base",
          "model_module_version": "1.2.0",
          "model_name": "LayoutModel",
          "state": {
            "_model_module": "@jupyter-widgets/base",
            "_model_module_version": "1.2.0",
            "_model_name": "LayoutModel",
            "_view_count": null,
            "_view_module": "@jupyter-widgets/base",
            "_view_module_version": "1.2.0",
            "_view_name": "LayoutView",
            "align_content": null,
            "align_items": null,
            "align_self": null,
            "border": null,
            "bottom": null,
            "display": null,
            "flex": null,
            "flex_flow": null,
            "grid_area": null,
            "grid_auto_columns": null,
            "grid_auto_flow": null,
            "grid_auto_rows": null,
            "grid_column": null,
            "grid_gap": null,
            "grid_row": null,
            "grid_template_areas": null,
            "grid_template_columns": null,
            "grid_template_rows": null,
            "height": null,
            "justify_content": null,
            "justify_items": null,
            "left": null,
            "margin": null,
            "max_height": null,
            "max_width": null,
            "min_height": null,
            "min_width": null,
            "object_fit": null,
            "object_position": null,
            "order": null,
            "overflow": null,
            "overflow_x": null,
            "overflow_y": null,
            "padding": null,
            "right": null,
            "top": null,
            "visibility": null,
            "width": null
          }
        },
        "43a2b9e5481b4558b8c455930fc607e8": {
          "model_module": "@jupyter-widgets/controls",
          "model_module_version": "1.5.0",
          "model_name": "FloatProgressModel",
          "state": {
            "_dom_classes": [],
            "_model_module": "@jupyter-widgets/controls",
            "_model_module_version": "1.5.0",
            "_model_name": "FloatProgressModel",
            "_view_count": null,
            "_view_module": "@jupyter-widgets/controls",
            "_view_module_version": "1.5.0",
            "_view_name": "ProgressView",
            "bar_style": "",
            "description": "",
            "description_tooltip": null,
            "layout": "IPY_MODEL_9d97d514db914a32a356972463854f40",
            "max": 75750,
            "min": 0,
            "orientation": "horizontal",
            "style": "IPY_MODEL_b85c79da8cb64f59b0e173b025191570",
            "value": 75750
          }
        },
        "43e01c89a2dc4191b8059582c43f8b06": {
          "model_module": "@jupyter-widgets/controls",
          "model_module_version": "1.5.0",
          "model_name": "DescriptionStyleModel",
          "state": {
            "_model_module": "@jupyter-widgets/controls",
            "_model_module_version": "1.5.0",
            "_model_name": "DescriptionStyleModel",
            "_view_count": null,
            "_view_module": "@jupyter-widgets/base",
            "_view_module_version": "1.2.0",
            "_view_name": "StyleView",
            "description_width": ""
          }
        },
        "43e2543697d9454e901ab92c3c1c65e9": {
          "model_module": "@jupyter-widgets/base",
          "model_module_version": "1.2.0",
          "model_name": "LayoutModel",
          "state": {
            "_model_module": "@jupyter-widgets/base",
            "_model_module_version": "1.2.0",
            "_model_name": "LayoutModel",
            "_view_count": null,
            "_view_module": "@jupyter-widgets/base",
            "_view_module_version": "1.2.0",
            "_view_name": "LayoutView",
            "align_content": null,
            "align_items": null,
            "align_self": null,
            "border": null,
            "bottom": null,
            "display": null,
            "flex": null,
            "flex_flow": null,
            "grid_area": null,
            "grid_auto_columns": null,
            "grid_auto_flow": null,
            "grid_auto_rows": null,
            "grid_column": null,
            "grid_gap": null,
            "grid_row": null,
            "grid_template_areas": null,
            "grid_template_columns": null,
            "grid_template_rows": null,
            "height": null,
            "justify_content": null,
            "justify_items": null,
            "left": null,
            "margin": null,
            "max_height": null,
            "max_width": null,
            "min_height": null,
            "min_width": null,
            "object_fit": null,
            "object_position": null,
            "order": null,
            "overflow": null,
            "overflow_x": null,
            "overflow_y": null,
            "padding": null,
            "right": null,
            "top": null,
            "visibility": null,
            "width": null
          }
        },
        "43eac5e99e4545bf87d7ae61f6895437": {
          "model_module": "@jupyter-widgets/base",
          "model_module_version": "1.2.0",
          "model_name": "LayoutModel",
          "state": {
            "_model_module": "@jupyter-widgets/base",
            "_model_module_version": "1.2.0",
            "_model_name": "LayoutModel",
            "_view_count": null,
            "_view_module": "@jupyter-widgets/base",
            "_view_module_version": "1.2.0",
            "_view_name": "LayoutView",
            "align_content": null,
            "align_items": null,
            "align_self": null,
            "border": null,
            "bottom": null,
            "display": null,
            "flex": null,
            "flex_flow": null,
            "grid_area": null,
            "grid_auto_columns": null,
            "grid_auto_flow": null,
            "grid_auto_rows": null,
            "grid_column": null,
            "grid_gap": null,
            "grid_row": null,
            "grid_template_areas": null,
            "grid_template_columns": null,
            "grid_template_rows": null,
            "height": null,
            "justify_content": null,
            "justify_items": null,
            "left": null,
            "margin": null,
            "max_height": null,
            "max_width": null,
            "min_height": null,
            "min_width": null,
            "object_fit": null,
            "object_position": null,
            "order": null,
            "overflow": null,
            "overflow_x": null,
            "overflow_y": null,
            "padding": null,
            "right": null,
            "top": null,
            "visibility": null,
            "width": null
          }
        },
        "49f28ac630474688896a16d3eb0ed60e": {
          "model_module": "@jupyter-widgets/base",
          "model_module_version": "1.2.0",
          "model_name": "LayoutModel",
          "state": {
            "_model_module": "@jupyter-widgets/base",
            "_model_module_version": "1.2.0",
            "_model_name": "LayoutModel",
            "_view_count": null,
            "_view_module": "@jupyter-widgets/base",
            "_view_module_version": "1.2.0",
            "_view_name": "LayoutView",
            "align_content": null,
            "align_items": null,
            "align_self": null,
            "border": null,
            "bottom": null,
            "display": null,
            "flex": null,
            "flex_flow": null,
            "grid_area": null,
            "grid_auto_columns": null,
            "grid_auto_flow": null,
            "grid_auto_rows": null,
            "grid_column": null,
            "grid_gap": null,
            "grid_row": null,
            "grid_template_areas": null,
            "grid_template_columns": null,
            "grid_template_rows": null,
            "height": null,
            "justify_content": null,
            "justify_items": null,
            "left": null,
            "margin": null,
            "max_height": null,
            "max_width": null,
            "min_height": null,
            "min_width": null,
            "object_fit": null,
            "object_position": null,
            "order": null,
            "overflow": null,
            "overflow_x": null,
            "overflow_y": null,
            "padding": null,
            "right": null,
            "top": null,
            "visibility": "hidden",
            "width": null
          }
        },
        "4bcce641a9fd498194079800f6175670": {
          "model_module": "@jupyter-widgets/controls",
          "model_module_version": "1.5.0",
          "model_name": "ProgressStyleModel",
          "state": {
            "_model_module": "@jupyter-widgets/controls",
            "_model_module_version": "1.5.0",
            "_model_name": "ProgressStyleModel",
            "_view_count": null,
            "_view_module": "@jupyter-widgets/base",
            "_view_module_version": "1.2.0",
            "_view_name": "StyleView",
            "bar_color": null,
            "description_width": ""
          }
        },
        "4cc55a1650284d61b5d16d74cbc43622": {
          "model_module": "@jupyter-widgets/base",
          "model_module_version": "1.2.0",
          "model_name": "LayoutModel",
          "state": {
            "_model_module": "@jupyter-widgets/base",
            "_model_module_version": "1.2.0",
            "_model_name": "LayoutModel",
            "_view_count": null,
            "_view_module": "@jupyter-widgets/base",
            "_view_module_version": "1.2.0",
            "_view_name": "LayoutView",
            "align_content": null,
            "align_items": null,
            "align_self": null,
            "border": null,
            "bottom": null,
            "display": null,
            "flex": null,
            "flex_flow": null,
            "grid_area": null,
            "grid_auto_columns": null,
            "grid_auto_flow": null,
            "grid_auto_rows": null,
            "grid_column": null,
            "grid_gap": null,
            "grid_row": null,
            "grid_template_areas": null,
            "grid_template_columns": null,
            "grid_template_rows": null,
            "height": null,
            "justify_content": null,
            "justify_items": null,
            "left": null,
            "margin": null,
            "max_height": null,
            "max_width": null,
            "min_height": null,
            "min_width": null,
            "object_fit": null,
            "object_position": null,
            "order": null,
            "overflow": null,
            "overflow_x": null,
            "overflow_y": null,
            "padding": null,
            "right": null,
            "top": null,
            "visibility": null,
            "width": null
          }
        },
        "4ce764f9620247ba9b7e30d7fe9d9dbc": {
          "model_module": "@jupyter-widgets/controls",
          "model_module_version": "1.5.0",
          "model_name": "HTMLModel",
          "state": {
            "_dom_classes": [],
            "_model_module": "@jupyter-widgets/controls",
            "_model_module_version": "1.5.0",
            "_model_name": "HTMLModel",
            "_view_count": null,
            "_view_module": "@jupyter-widgets/controls",
            "_view_module_version": "1.5.0",
            "_view_name": "HTMLView",
            "description": "",
            "description_tooltip": null,
            "layout": "IPY_MODEL_aaf7fe6e86b84d75a735ee00dc025cda",
            "placeholder": "​",
            "style": "IPY_MODEL_f520a9504aac41cc8b5fc5b2006f301b",
            "value": "Generating validation examples...:  99%"
          }
        },
        "4f6e3410a7d04b15b33b37eae1e0779b": {
          "model_module": "@jupyter-widgets/controls",
          "model_module_version": "1.5.0",
          "model_name": "HBoxModel",
          "state": {
            "_dom_classes": [],
            "_model_module": "@jupyter-widgets/controls",
            "_model_module_version": "1.5.0",
            "_model_name": "HBoxModel",
            "_view_count": null,
            "_view_module": "@jupyter-widgets/controls",
            "_view_module_version": "1.5.0",
            "_view_name": "HBoxView",
            "box_style": "",
            "children": [
              "IPY_MODEL_1f98a5ef85fb4ea8bfb9e2aca51d6165",
              "IPY_MODEL_3c076cbb503340ef85690bba67b63625",
              "IPY_MODEL_a940c53d4094475cb2229a4203710006"
            ],
            "layout": "IPY_MODEL_3cd96e87dbd947a3ac657b25096b6733"
          }
        },
        "50dd9af976454e74b6ec6a7655533493": {
          "model_module": "@jupyter-widgets/controls",
          "model_module_version": "1.5.0",
          "model_name": "HBoxModel",
          "state": {
            "_dom_classes": [],
            "_model_module": "@jupyter-widgets/controls",
            "_model_module_version": "1.5.0",
            "_model_name": "HBoxModel",
            "_view_count": null,
            "_view_module": "@jupyter-widgets/controls",
            "_view_module_version": "1.5.0",
            "_view_name": "HBoxView",
            "box_style": "",
            "children": [
              "IPY_MODEL_cbf3da255d3b41e9aefd95d80c85ed17",
              "IPY_MODEL_fd9757b480ab410ebdc5eeb385771fc7",
              "IPY_MODEL_030e0ff2c0d94043a590aa065ec3a087"
            ],
            "layout": "IPY_MODEL_3227d62d5a564026848530e9366213c1"
          }
        },
        "51b1f7cb61ab4f1188c8e28e0e10adc5": {
          "model_module": "@jupyter-widgets/controls",
          "model_module_version": "1.5.0",
          "model_name": "DescriptionStyleModel",
          "state": {
            "_model_module": "@jupyter-widgets/controls",
            "_model_module_version": "1.5.0",
            "_model_name": "DescriptionStyleModel",
            "_view_count": null,
            "_view_module": "@jupyter-widgets/base",
            "_view_module_version": "1.2.0",
            "_view_name": "StyleView",
            "description_width": ""
          }
        },
        "53617db41445480cb90912b6ce2b4c82": {
          "model_module": "@jupyter-widgets/controls",
          "model_module_version": "1.5.0",
          "model_name": "HBoxModel",
          "state": {
            "_dom_classes": [],
            "_model_module": "@jupyter-widgets/controls",
            "_model_module_version": "1.5.0",
            "_model_name": "HBoxModel",
            "_view_count": null,
            "_view_module": "@jupyter-widgets/controls",
            "_view_module_version": "1.5.0",
            "_view_name": "HBoxView",
            "box_style": "",
            "children": [
              "IPY_MODEL_573a28bc3e5a406b961912737a96f7bc",
              "IPY_MODEL_43a2b9e5481b4558b8c455930fc607e8",
              "IPY_MODEL_7c7dae0c934048e283aa533b5155d13a"
            ],
            "layout": "IPY_MODEL_bc3625f73778417ea7b9cb82848c7807"
          }
        },
        "53dddd2daaae4e21b1e95a1ead94647b": {
          "model_module": "@jupyter-widgets/base",
          "model_module_version": "1.2.0",
          "model_name": "LayoutModel",
          "state": {
            "_model_module": "@jupyter-widgets/base",
            "_model_module_version": "1.2.0",
            "_model_name": "LayoutModel",
            "_view_count": null,
            "_view_module": "@jupyter-widgets/base",
            "_view_module_version": "1.2.0",
            "_view_name": "LayoutView",
            "align_content": null,
            "align_items": null,
            "align_self": null,
            "border": null,
            "bottom": null,
            "display": null,
            "flex": null,
            "flex_flow": null,
            "grid_area": null,
            "grid_auto_columns": null,
            "grid_auto_flow": null,
            "grid_auto_rows": null,
            "grid_column": null,
            "grid_gap": null,
            "grid_row": null,
            "grid_template_areas": null,
            "grid_template_columns": null,
            "grid_template_rows": null,
            "height": null,
            "justify_content": null,
            "justify_items": null,
            "left": null,
            "margin": null,
            "max_height": null,
            "max_width": null,
            "min_height": null,
            "min_width": null,
            "object_fit": null,
            "object_position": null,
            "order": null,
            "overflow": null,
            "overflow_x": null,
            "overflow_y": null,
            "padding": null,
            "right": null,
            "top": null,
            "visibility": null,
            "width": null
          }
        },
        "5496e9040ac04167ac5f9616e4de1a6a": {
          "model_module": "@jupyter-widgets/controls",
          "model_module_version": "1.5.0",
          "model_name": "DescriptionStyleModel",
          "state": {
            "_model_module": "@jupyter-widgets/controls",
            "_model_module_version": "1.5.0",
            "_model_name": "DescriptionStyleModel",
            "_view_count": null,
            "_view_module": "@jupyter-widgets/base",
            "_view_module_version": "1.2.0",
            "_view_name": "StyleView",
            "description_width": ""
          }
        },
        "557e510f5c2547d2ac2974b5b99a411e": {
          "model_module": "@jupyter-widgets/controls",
          "model_module_version": "1.5.0",
          "model_name": "DescriptionStyleModel",
          "state": {
            "_model_module": "@jupyter-widgets/controls",
            "_model_module_version": "1.5.0",
            "_model_name": "DescriptionStyleModel",
            "_view_count": null,
            "_view_module": "@jupyter-widgets/base",
            "_view_module_version": "1.2.0",
            "_view_name": "StyleView",
            "description_width": ""
          }
        },
        "573a28bc3e5a406b961912737a96f7bc": {
          "model_module": "@jupyter-widgets/controls",
          "model_module_version": "1.5.0",
          "model_name": "HTMLModel",
          "state": {
            "_dom_classes": [],
            "_model_module": "@jupyter-widgets/controls",
            "_model_module_version": "1.5.0",
            "_model_name": "HTMLModel",
            "_view_count": null,
            "_view_module": "@jupyter-widgets/controls",
            "_view_module_version": "1.5.0",
            "_view_name": "HTMLView",
            "description": "",
            "description_tooltip": null,
            "layout": "IPY_MODEL_43e2543697d9454e901ab92c3c1c65e9",
            "placeholder": "​",
            "style": "IPY_MODEL_51b1f7cb61ab4f1188c8e28e0e10adc5",
            "value": "Shuffling /root/tensorflow_datasets/food101/2.0.0.incomplete3IJKC7/food101-train.tfrecord*...: 100%"
          }
        },
        "58a23849cc6d43aba903c0b2b73dbcb8": {
          "model_module": "@jupyter-widgets/base",
          "model_module_version": "1.2.0",
          "model_name": "LayoutModel",
          "state": {
            "_model_module": "@jupyter-widgets/base",
            "_model_module_version": "1.2.0",
            "_model_name": "LayoutModel",
            "_view_count": null,
            "_view_module": "@jupyter-widgets/base",
            "_view_module_version": "1.2.0",
            "_view_name": "LayoutView",
            "align_content": null,
            "align_items": null,
            "align_self": null,
            "border": null,
            "bottom": null,
            "display": null,
            "flex": null,
            "flex_flow": null,
            "grid_area": null,
            "grid_auto_columns": null,
            "grid_auto_flow": null,
            "grid_auto_rows": null,
            "grid_column": null,
            "grid_gap": null,
            "grid_row": null,
            "grid_template_areas": null,
            "grid_template_columns": null,
            "grid_template_rows": null,
            "height": null,
            "justify_content": null,
            "justify_items": null,
            "left": null,
            "margin": null,
            "max_height": null,
            "max_width": null,
            "min_height": null,
            "min_width": null,
            "object_fit": null,
            "object_position": null,
            "order": null,
            "overflow": null,
            "overflow_x": null,
            "overflow_y": null,
            "padding": null,
            "right": null,
            "top": null,
            "visibility": null,
            "width": null
          }
        },
        "60ebd56383e74a24a193cb1583404945": {
          "model_module": "@jupyter-widgets/controls",
          "model_module_version": "1.5.0",
          "model_name": "DescriptionStyleModel",
          "state": {
            "_model_module": "@jupyter-widgets/controls",
            "_model_module_version": "1.5.0",
            "_model_name": "DescriptionStyleModel",
            "_view_count": null,
            "_view_module": "@jupyter-widgets/base",
            "_view_module_version": "1.2.0",
            "_view_name": "StyleView",
            "description_width": ""
          }
        },
        "63597864775d4a498ef8b156eacd8918": {
          "model_module": "@jupyter-widgets/base",
          "model_module_version": "1.2.0",
          "model_name": "LayoutModel",
          "state": {
            "_model_module": "@jupyter-widgets/base",
            "_model_module_version": "1.2.0",
            "_model_name": "LayoutModel",
            "_view_count": null,
            "_view_module": "@jupyter-widgets/base",
            "_view_module_version": "1.2.0",
            "_view_name": "LayoutView",
            "align_content": null,
            "align_items": null,
            "align_self": null,
            "border": null,
            "bottom": null,
            "display": null,
            "flex": null,
            "flex_flow": null,
            "grid_area": null,
            "grid_auto_columns": null,
            "grid_auto_flow": null,
            "grid_auto_rows": null,
            "grid_column": null,
            "grid_gap": null,
            "grid_row": null,
            "grid_template_areas": null,
            "grid_template_columns": null,
            "grid_template_rows": null,
            "height": null,
            "justify_content": null,
            "justify_items": null,
            "left": null,
            "margin": null,
            "max_height": null,
            "max_width": null,
            "min_height": null,
            "min_width": null,
            "object_fit": null,
            "object_position": null,
            "order": null,
            "overflow": null,
            "overflow_x": null,
            "overflow_y": null,
            "padding": null,
            "right": null,
            "top": null,
            "visibility": null,
            "width": null
          }
        },
        "68049f8590b1467bb966882f7bf1f1c5": {
          "model_module": "@jupyter-widgets/base",
          "model_module_version": "1.2.0",
          "model_name": "LayoutModel",
          "state": {
            "_model_module": "@jupyter-widgets/base",
            "_model_module_version": "1.2.0",
            "_model_name": "LayoutModel",
            "_view_count": null,
            "_view_module": "@jupyter-widgets/base",
            "_view_module_version": "1.2.0",
            "_view_name": "LayoutView",
            "align_content": null,
            "align_items": null,
            "align_self": null,
            "border": null,
            "bottom": null,
            "display": null,
            "flex": null,
            "flex_flow": null,
            "grid_area": null,
            "grid_auto_columns": null,
            "grid_auto_flow": null,
            "grid_auto_rows": null,
            "grid_column": null,
            "grid_gap": null,
            "grid_row": null,
            "grid_template_areas": null,
            "grid_template_columns": null,
            "grid_template_rows": null,
            "height": null,
            "justify_content": null,
            "justify_items": null,
            "left": null,
            "margin": null,
            "max_height": null,
            "max_width": null,
            "min_height": null,
            "min_width": null,
            "object_fit": null,
            "object_position": null,
            "order": null,
            "overflow": null,
            "overflow_x": null,
            "overflow_y": null,
            "padding": null,
            "right": null,
            "top": null,
            "visibility": null,
            "width": null
          }
        },
        "6b22f51ffc5b4051ae68ba6db3b712ac": {
          "model_module": "@jupyter-widgets/controls",
          "model_module_version": "1.5.0",
          "model_name": "DescriptionStyleModel",
          "state": {
            "_model_module": "@jupyter-widgets/controls",
            "_model_module_version": "1.5.0",
            "_model_name": "DescriptionStyleModel",
            "_view_count": null,
            "_view_module": "@jupyter-widgets/base",
            "_view_module_version": "1.2.0",
            "_view_name": "StyleView",
            "description_width": ""
          }
        },
        "6b4a27e63e3c41d48c7701ac911ec4ae": {
          "model_module": "@jupyter-widgets/base",
          "model_module_version": "1.2.0",
          "model_name": "LayoutModel",
          "state": {
            "_model_module": "@jupyter-widgets/base",
            "_model_module_version": "1.2.0",
            "_model_name": "LayoutModel",
            "_view_count": null,
            "_view_module": "@jupyter-widgets/base",
            "_view_module_version": "1.2.0",
            "_view_name": "LayoutView",
            "align_content": null,
            "align_items": null,
            "align_self": null,
            "border": null,
            "bottom": null,
            "display": null,
            "flex": null,
            "flex_flow": null,
            "grid_area": null,
            "grid_auto_columns": null,
            "grid_auto_flow": null,
            "grid_auto_rows": null,
            "grid_column": null,
            "grid_gap": null,
            "grid_row": null,
            "grid_template_areas": null,
            "grid_template_columns": null,
            "grid_template_rows": null,
            "height": null,
            "justify_content": null,
            "justify_items": null,
            "left": null,
            "margin": null,
            "max_height": null,
            "max_width": null,
            "min_height": null,
            "min_width": null,
            "object_fit": null,
            "object_position": null,
            "order": null,
            "overflow": null,
            "overflow_x": null,
            "overflow_y": null,
            "padding": null,
            "right": null,
            "top": null,
            "visibility": "hidden",
            "width": null
          }
        },
        "6bff9c8c5e5f459f8acf3e3fda90b8e6": {
          "model_module": "@jupyter-widgets/controls",
          "model_module_version": "1.5.0",
          "model_name": "HBoxModel",
          "state": {
            "_dom_classes": [],
            "_model_module": "@jupyter-widgets/controls",
            "_model_module_version": "1.5.0",
            "_model_name": "HBoxModel",
            "_view_count": null,
            "_view_module": "@jupyter-widgets/controls",
            "_view_module_version": "1.5.0",
            "_view_name": "HBoxView",
            "box_style": "",
            "children": [
              "IPY_MODEL_fd581dd08de14882bc68fb08972fe9b1",
              "IPY_MODEL_d05fd5dee0294a9fa201ca042ae2542b",
              "IPY_MODEL_efe1ca8c496344ec8186ad3a9ccce3aa"
            ],
            "layout": "IPY_MODEL_af65f4d2731342f9b8741d3602845a18"
          }
        },
        "71fdc4a584c54b6b99873626a7c6017a": {
          "model_module": "@jupyter-widgets/controls",
          "model_module_version": "1.5.0",
          "model_name": "HTMLModel",
          "state": {
            "_dom_classes": [],
            "_model_module": "@jupyter-widgets/controls",
            "_model_module_version": "1.5.0",
            "_model_name": "HTMLModel",
            "_view_count": null,
            "_view_module": "@jupyter-widgets/controls",
            "_view_module_version": "1.5.0",
            "_view_name": "HTMLView",
            "description": "",
            "description_tooltip": null,
            "layout": "IPY_MODEL_53dddd2daaae4e21b1e95a1ead94647b",
            "placeholder": "​",
            "style": "IPY_MODEL_b179e25d9bce48a29f5acd76465290e1",
            "value": "Generating splits...: 100%"
          }
        },
        "789818db49624f54846e0378b99057d4": {
          "model_module": "@jupyter-widgets/controls",
          "model_module_version": "1.5.0",
          "model_name": "HBoxModel",
          "state": {
            "_dom_classes": [],
            "_model_module": "@jupyter-widgets/controls",
            "_model_module_version": "1.5.0",
            "_model_name": "HBoxModel",
            "_view_count": null,
            "_view_module": "@jupyter-widgets/controls",
            "_view_module_version": "1.5.0",
            "_view_name": "HBoxView",
            "box_style": "",
            "children": [
              "IPY_MODEL_340644f3050942e4a9224a85cf12be10",
              "IPY_MODEL_d63bc128db404a0b85c24d9b64cc4b07",
              "IPY_MODEL_b5600c1afffb4592bbd98ffa9b0dd43b"
            ],
            "layout": "IPY_MODEL_58a23849cc6d43aba903c0b2b73dbcb8"
          }
        },
        "7c7dae0c934048e283aa533b5155d13a": {
          "model_module": "@jupyter-widgets/controls",
          "model_module_version": "1.5.0",
          "model_name": "HTMLModel",
          "state": {
            "_dom_classes": [],
            "_model_module": "@jupyter-widgets/controls",
            "_model_module_version": "1.5.0",
            "_model_name": "HTMLModel",
            "_view_count": null,
            "_view_module": "@jupyter-widgets/controls",
            "_view_module_version": "1.5.0",
            "_view_name": "HTMLView",
            "description": "",
            "description_tooltip": null,
            "layout": "IPY_MODEL_fe9d8aee0c414af9aac4fc9ded2d9995",
            "placeholder": "​",
            "style": "IPY_MODEL_b3c4d76d24f34b3e8a99d1832b14d768",
            "value": " 75702/75750 [00:46&lt;00:00, 1461.90 examples/s]"
          }
        },
        "7f3d2a01771e42818285aa1c3638cefa": {
          "model_module": "@jupyter-widgets/controls",
          "model_module_version": "1.5.0",
          "model_name": "DescriptionStyleModel",
          "state": {
            "_model_module": "@jupyter-widgets/controls",
            "_model_module_version": "1.5.0",
            "_model_name": "DescriptionStyleModel",
            "_view_count": null,
            "_view_module": "@jupyter-widgets/base",
            "_view_module_version": "1.2.0",
            "_view_name": "StyleView",
            "description_width": ""
          }
        },
        "811a52289ac74949a7dae9f50ea7542d": {
          "model_module": "@jupyter-widgets/base",
          "model_module_version": "1.2.0",
          "model_name": "LayoutModel",
          "state": {
            "_model_module": "@jupyter-widgets/base",
            "_model_module_version": "1.2.0",
            "_model_name": "LayoutModel",
            "_view_count": null,
            "_view_module": "@jupyter-widgets/base",
            "_view_module_version": "1.2.0",
            "_view_name": "LayoutView",
            "align_content": null,
            "align_items": null,
            "align_self": null,
            "border": null,
            "bottom": null,
            "display": null,
            "flex": null,
            "flex_flow": null,
            "grid_area": null,
            "grid_auto_columns": null,
            "grid_auto_flow": null,
            "grid_auto_rows": null,
            "grid_column": null,
            "grid_gap": null,
            "grid_row": null,
            "grid_template_areas": null,
            "grid_template_columns": null,
            "grid_template_rows": null,
            "height": null,
            "justify_content": null,
            "justify_items": null,
            "left": null,
            "margin": null,
            "max_height": null,
            "max_width": null,
            "min_height": null,
            "min_width": null,
            "object_fit": null,
            "object_position": null,
            "order": null,
            "overflow": null,
            "overflow_x": null,
            "overflow_y": null,
            "padding": null,
            "right": null,
            "top": null,
            "visibility": null,
            "width": null
          }
        },
        "83a60399e73e41cf9540c74af956d3bd": {
          "model_module": "@jupyter-widgets/base",
          "model_module_version": "1.2.0",
          "model_name": "LayoutModel",
          "state": {
            "_model_module": "@jupyter-widgets/base",
            "_model_module_version": "1.2.0",
            "_model_name": "LayoutModel",
            "_view_count": null,
            "_view_module": "@jupyter-widgets/base",
            "_view_module_version": "1.2.0",
            "_view_name": "LayoutView",
            "align_content": null,
            "align_items": null,
            "align_self": null,
            "border": null,
            "bottom": null,
            "display": null,
            "flex": null,
            "flex_flow": null,
            "grid_area": null,
            "grid_auto_columns": null,
            "grid_auto_flow": null,
            "grid_auto_rows": null,
            "grid_column": null,
            "grid_gap": null,
            "grid_row": null,
            "grid_template_areas": null,
            "grid_template_columns": null,
            "grid_template_rows": null,
            "height": null,
            "justify_content": null,
            "justify_items": null,
            "left": null,
            "margin": null,
            "max_height": null,
            "max_width": null,
            "min_height": null,
            "min_width": null,
            "object_fit": null,
            "object_position": null,
            "order": null,
            "overflow": null,
            "overflow_x": null,
            "overflow_y": null,
            "padding": null,
            "right": null,
            "top": null,
            "visibility": null,
            "width": null
          }
        },
        "8a7d09896e8d42deaa6b5e71f9aecd3b": {
          "model_module": "@jupyter-widgets/controls",
          "model_module_version": "1.5.0",
          "model_name": "FloatProgressModel",
          "state": {
            "_dom_classes": [],
            "_model_module": "@jupyter-widgets/controls",
            "_model_module_version": "1.5.0",
            "_model_name": "FloatProgressModel",
            "_view_count": null,
            "_view_module": "@jupyter-widgets/controls",
            "_view_module_version": "1.5.0",
            "_view_name": "ProgressView",
            "bar_style": "success",
            "description": "",
            "description_tooltip": null,
            "layout": "IPY_MODEL_c4eeeb50cf224a9583bdfa0e747d0068",
            "max": 1,
            "min": 0,
            "orientation": "horizontal",
            "style": "IPY_MODEL_4bcce641a9fd498194079800f6175670",
            "value": 1
          }
        },
        "9579abea442b4f688825d6ef37d2569e": {
          "model_module": "@jupyter-widgets/controls",
          "model_module_version": "1.5.0",
          "model_name": "HTMLModel",
          "state": {
            "_dom_classes": [],
            "_model_module": "@jupyter-widgets/controls",
            "_model_module_version": "1.5.0",
            "_model_name": "HTMLModel",
            "_view_count": null,
            "_view_module": "@jupyter-widgets/controls",
            "_view_module_version": "1.5.0",
            "_view_name": "HTMLView",
            "description": "",
            "description_tooltip": null,
            "layout": "IPY_MODEL_b65520b53a94478b936baa34081515c1",
            "placeholder": "​",
            "style": "IPY_MODEL_5496e9040ac04167ac5f9616e4de1a6a",
            "value": " 24964/25250 [00:59&lt;00:00, 400.91 examples/s]"
          }
        },
        "9604e9f42d06473fa90993705e7b10c8": {
          "model_module": "@jupyter-widgets/controls",
          "model_module_version": "1.5.0",
          "model_name": "DescriptionStyleModel",
          "state": {
            "_model_module": "@jupyter-widgets/controls",
            "_model_module_version": "1.5.0",
            "_model_name": "DescriptionStyleModel",
            "_view_count": null,
            "_view_module": "@jupyter-widgets/base",
            "_view_module_version": "1.2.0",
            "_view_name": "StyleView",
            "description_width": ""
          }
        },
        "9622ff02376644b89214798c086091bc": {
          "model_module": "@jupyter-widgets/base",
          "model_module_version": "1.2.0",
          "model_name": "LayoutModel",
          "state": {
            "_model_module": "@jupyter-widgets/base",
            "_model_module_version": "1.2.0",
            "_model_name": "LayoutModel",
            "_view_count": null,
            "_view_module": "@jupyter-widgets/base",
            "_view_module_version": "1.2.0",
            "_view_name": "LayoutView",
            "align_content": null,
            "align_items": null,
            "align_self": null,
            "border": null,
            "bottom": null,
            "display": null,
            "flex": null,
            "flex_flow": null,
            "grid_area": null,
            "grid_auto_columns": null,
            "grid_auto_flow": null,
            "grid_auto_rows": null,
            "grid_column": null,
            "grid_gap": null,
            "grid_row": null,
            "grid_template_areas": null,
            "grid_template_columns": null,
            "grid_template_rows": null,
            "height": null,
            "justify_content": null,
            "justify_items": null,
            "left": null,
            "margin": null,
            "max_height": null,
            "max_width": null,
            "min_height": null,
            "min_width": null,
            "object_fit": null,
            "object_position": null,
            "order": null,
            "overflow": null,
            "overflow_x": null,
            "overflow_y": null,
            "padding": null,
            "right": null,
            "top": null,
            "visibility": null,
            "width": null
          }
        },
        "9b07e099c1794b00bc7261ef91b2dddc": {
          "model_module": "@jupyter-widgets/controls",
          "model_module_version": "1.5.0",
          "model_name": "DescriptionStyleModel",
          "state": {
            "_model_module": "@jupyter-widgets/controls",
            "_model_module_version": "1.5.0",
            "_model_name": "DescriptionStyleModel",
            "_view_count": null,
            "_view_module": "@jupyter-widgets/base",
            "_view_module_version": "1.2.0",
            "_view_name": "StyleView",
            "description_width": ""
          }
        },
        "9d97d514db914a32a356972463854f40": {
          "model_module": "@jupyter-widgets/base",
          "model_module_version": "1.2.0",
          "model_name": "LayoutModel",
          "state": {
            "_model_module": "@jupyter-widgets/base",
            "_model_module_version": "1.2.0",
            "_model_name": "LayoutModel",
            "_view_count": null,
            "_view_module": "@jupyter-widgets/base",
            "_view_module_version": "1.2.0",
            "_view_name": "LayoutView",
            "align_content": null,
            "align_items": null,
            "align_self": null,
            "border": null,
            "bottom": null,
            "display": null,
            "flex": null,
            "flex_flow": null,
            "grid_area": null,
            "grid_auto_columns": null,
            "grid_auto_flow": null,
            "grid_auto_rows": null,
            "grid_column": null,
            "grid_gap": null,
            "grid_row": null,
            "grid_template_areas": null,
            "grid_template_columns": null,
            "grid_template_rows": null,
            "height": null,
            "justify_content": null,
            "justify_items": null,
            "left": null,
            "margin": null,
            "max_height": null,
            "max_width": null,
            "min_height": null,
            "min_width": null,
            "object_fit": null,
            "object_position": null,
            "order": null,
            "overflow": null,
            "overflow_x": null,
            "overflow_y": null,
            "padding": null,
            "right": null,
            "top": null,
            "visibility": null,
            "width": null
          }
        },
        "a940c53d4094475cb2229a4203710006": {
          "model_module": "@jupyter-widgets/controls",
          "model_module_version": "1.5.0",
          "model_name": "HTMLModel",
          "state": {
            "_dom_classes": [],
            "_model_module": "@jupyter-widgets/controls",
            "_model_module_version": "1.5.0",
            "_model_name": "HTMLModel",
            "_view_count": null,
            "_view_module": "@jupyter-widgets/controls",
            "_view_module_version": "1.5.0",
            "_view_name": "HTMLView",
            "description": "",
            "description_tooltip": null,
            "layout": "IPY_MODEL_0b366cf33479421dafff2ec3eb78dbee",
            "placeholder": "​",
            "style": "IPY_MODEL_557e510f5c2547d2ac2974b5b99a411e",
            "value": " 101008/101008 [09:16&lt;00:00, 989.46 file/s]"
          }
        },
        "aaf7fe6e86b84d75a735ee00dc025cda": {
          "model_module": "@jupyter-widgets/base",
          "model_module_version": "1.2.0",
          "model_name": "LayoutModel",
          "state": {
            "_model_module": "@jupyter-widgets/base",
            "_model_module_version": "1.2.0",
            "_model_name": "LayoutModel",
            "_view_count": null,
            "_view_module": "@jupyter-widgets/base",
            "_view_module_version": "1.2.0",
            "_view_name": "LayoutView",
            "align_content": null,
            "align_items": null,
            "align_self": null,
            "border": null,
            "bottom": null,
            "display": null,
            "flex": null,
            "flex_flow": null,
            "grid_area": null,
            "grid_auto_columns": null,
            "grid_auto_flow": null,
            "grid_auto_rows": null,
            "grid_column": null,
            "grid_gap": null,
            "grid_row": null,
            "grid_template_areas": null,
            "grid_template_columns": null,
            "grid_template_rows": null,
            "height": null,
            "justify_content": null,
            "justify_items": null,
            "left": null,
            "margin": null,
            "max_height": null,
            "max_width": null,
            "min_height": null,
            "min_width": null,
            "object_fit": null,
            "object_position": null,
            "order": null,
            "overflow": null,
            "overflow_x": null,
            "overflow_y": null,
            "padding": null,
            "right": null,
            "top": null,
            "visibility": null,
            "width": null
          }
        },
        "ad06e68afa4d46f1b16b51c8fa75988c": {
          "model_module": "@jupyter-widgets/controls",
          "model_module_version": "1.5.0",
          "model_name": "ProgressStyleModel",
          "state": {
            "_model_module": "@jupyter-widgets/controls",
            "_model_module_version": "1.5.0",
            "_model_name": "ProgressStyleModel",
            "_view_count": null,
            "_view_module": "@jupyter-widgets/base",
            "_view_module_version": "1.2.0",
            "_view_name": "StyleView",
            "bar_color": null,
            "description_width": ""
          }
        },
        "af65f4d2731342f9b8741d3602845a18": {
          "model_module": "@jupyter-widgets/base",
          "model_module_version": "1.2.0",
          "model_name": "LayoutModel",
          "state": {
            "_model_module": "@jupyter-widgets/base",
            "_model_module_version": "1.2.0",
            "_model_name": "LayoutModel",
            "_view_count": null,
            "_view_module": "@jupyter-widgets/base",
            "_view_module_version": "1.2.0",
            "_view_name": "LayoutView",
            "align_content": null,
            "align_items": null,
            "align_self": null,
            "border": null,
            "bottom": null,
            "display": null,
            "flex": null,
            "flex_flow": null,
            "grid_area": null,
            "grid_auto_columns": null,
            "grid_auto_flow": null,
            "grid_auto_rows": null,
            "grid_column": null,
            "grid_gap": null,
            "grid_row": null,
            "grid_template_areas": null,
            "grid_template_columns": null,
            "grid_template_rows": null,
            "height": null,
            "justify_content": null,
            "justify_items": null,
            "left": null,
            "margin": null,
            "max_height": null,
            "max_width": null,
            "min_height": null,
            "min_width": null,
            "object_fit": null,
            "object_position": null,
            "order": null,
            "overflow": null,
            "overflow_x": null,
            "overflow_y": null,
            "padding": null,
            "right": null,
            "top": null,
            "visibility": "hidden",
            "width": null
          }
        },
        "b179e25d9bce48a29f5acd76465290e1": {
          "model_module": "@jupyter-widgets/controls",
          "model_module_version": "1.5.0",
          "model_name": "DescriptionStyleModel",
          "state": {
            "_model_module": "@jupyter-widgets/controls",
            "_model_module_version": "1.5.0",
            "_model_name": "DescriptionStyleModel",
            "_view_count": null,
            "_view_module": "@jupyter-widgets/base",
            "_view_module_version": "1.2.0",
            "_view_name": "StyleView",
            "description_width": ""
          }
        },
        "b3c4d76d24f34b3e8a99d1832b14d768": {
          "model_module": "@jupyter-widgets/controls",
          "model_module_version": "1.5.0",
          "model_name": "DescriptionStyleModel",
          "state": {
            "_model_module": "@jupyter-widgets/controls",
            "_model_module_version": "1.5.0",
            "_model_name": "DescriptionStyleModel",
            "_view_count": null,
            "_view_module": "@jupyter-widgets/base",
            "_view_module_version": "1.2.0",
            "_view_name": "StyleView",
            "description_width": ""
          }
        },
        "b5600c1afffb4592bbd98ffa9b0dd43b": {
          "model_module": "@jupyter-widgets/controls",
          "model_module_version": "1.5.0",
          "model_name": "HTMLModel",
          "state": {
            "_dom_classes": [],
            "_model_module": "@jupyter-widgets/controls",
            "_model_module_version": "1.5.0",
            "_model_name": "HTMLModel",
            "_view_count": null,
            "_view_module": "@jupyter-widgets/controls",
            "_view_module_version": "1.5.0",
            "_view_name": "HTMLView",
            "description": "",
            "description_tooltip": null,
            "layout": "IPY_MODEL_fe0bac425e574c8ea2092c3254575629",
            "placeholder": "​",
            "style": "IPY_MODEL_39ac1f45d3ad4b3fbc9f98891447d66d",
            "value": " 1/1 [09:16&lt;00:00, 214.61s/ url]"
          }
        },
        "b65520b53a94478b936baa34081515c1": {
          "model_module": "@jupyter-widgets/base",
          "model_module_version": "1.2.0",
          "model_name": "LayoutModel",
          "state": {
            "_model_module": "@jupyter-widgets/base",
            "_model_module_version": "1.2.0",
            "_model_name": "LayoutModel",
            "_view_count": null,
            "_view_module": "@jupyter-widgets/base",
            "_view_module_version": "1.2.0",
            "_view_name": "LayoutView",
            "align_content": null,
            "align_items": null,
            "align_self": null,
            "border": null,
            "bottom": null,
            "display": null,
            "flex": null,
            "flex_flow": null,
            "grid_area": null,
            "grid_auto_columns": null,
            "grid_auto_flow": null,
            "grid_auto_rows": null,
            "grid_column": null,
            "grid_gap": null,
            "grid_row": null,
            "grid_template_areas": null,
            "grid_template_columns": null,
            "grid_template_rows": null,
            "height": null,
            "justify_content": null,
            "justify_items": null,
            "left": null,
            "margin": null,
            "max_height": null,
            "max_width": null,
            "min_height": null,
            "min_width": null,
            "object_fit": null,
            "object_position": null,
            "order": null,
            "overflow": null,
            "overflow_x": null,
            "overflow_y": null,
            "padding": null,
            "right": null,
            "top": null,
            "visibility": null,
            "width": null
          }
        },
        "b697a5e68cfb493080221d615f27a679": {
          "model_module": "@jupyter-widgets/controls",
          "model_module_version": "1.5.0",
          "model_name": "HTMLModel",
          "state": {
            "_dom_classes": [],
            "_model_module": "@jupyter-widgets/controls",
            "_model_module_version": "1.5.0",
            "_model_name": "HTMLModel",
            "_view_count": null,
            "_view_module": "@jupyter-widgets/controls",
            "_view_module_version": "1.5.0",
            "_view_name": "HTMLView",
            "description": "",
            "description_tooltip": null,
            "layout": "IPY_MODEL_9622ff02376644b89214798c086091bc",
            "placeholder": "​",
            "style": "IPY_MODEL_285627f04e2b4f90baaf38f4ca58eff2",
            "value": " 2/2 [03:58&lt;00:00, 110.85s/ splits]"
          }
        },
        "b78e252d7a79460987cd2eab137eedcb": {
          "model_module": "@jupyter-widgets/controls",
          "model_module_version": "1.5.0",
          "model_name": "HBoxModel",
          "state": {
            "_dom_classes": [],
            "_model_module": "@jupyter-widgets/controls",
            "_model_module_version": "1.5.0",
            "_model_name": "HBoxModel",
            "_view_count": null,
            "_view_module": "@jupyter-widgets/controls",
            "_view_module_version": "1.5.0",
            "_view_name": "HBoxView",
            "box_style": "",
            "children": [
              "IPY_MODEL_4ce764f9620247ba9b7e30d7fe9d9dbc",
              "IPY_MODEL_dda22681248c4b61a3af9067c79dc3cc",
              "IPY_MODEL_9579abea442b4f688825d6ef37d2569e"
            ],
            "layout": "IPY_MODEL_49f28ac630474688896a16d3eb0ed60e"
          }
        },
        "b85c79da8cb64f59b0e173b025191570": {
          "model_module": "@jupyter-widgets/controls",
          "model_module_version": "1.5.0",
          "model_name": "ProgressStyleModel",
          "state": {
            "_model_module": "@jupyter-widgets/controls",
            "_model_module_version": "1.5.0",
            "_model_name": "ProgressStyleModel",
            "_view_count": null,
            "_view_module": "@jupyter-widgets/base",
            "_view_module_version": "1.2.0",
            "_view_name": "StyleView",
            "bar_color": null,
            "description_width": ""
          }
        },
        "b946aa199f964cd086b25f1826236c6e": {
          "model_module": "@jupyter-widgets/controls",
          "model_module_version": "1.5.0",
          "model_name": "ProgressStyleModel",
          "state": {
            "_model_module": "@jupyter-widgets/controls",
            "_model_module_version": "1.5.0",
            "_model_name": "ProgressStyleModel",
            "_view_count": null,
            "_view_module": "@jupyter-widgets/base",
            "_view_module_version": "1.2.0",
            "_view_name": "StyleView",
            "bar_color": null,
            "description_width": ""
          }
        },
        "b9d65a991dc44076bb425c70a1a6983a": {
          "model_module": "@jupyter-widgets/base",
          "model_module_version": "1.2.0",
          "model_name": "LayoutModel",
          "state": {
            "_model_module": "@jupyter-widgets/base",
            "_model_module_version": "1.2.0",
            "_model_name": "LayoutModel",
            "_view_count": null,
            "_view_module": "@jupyter-widgets/base",
            "_view_module_version": "1.2.0",
            "_view_name": "LayoutView",
            "align_content": null,
            "align_items": null,
            "align_self": null,
            "border": null,
            "bottom": null,
            "display": null,
            "flex": null,
            "flex_flow": null,
            "grid_area": null,
            "grid_auto_columns": null,
            "grid_auto_flow": null,
            "grid_auto_rows": null,
            "grid_column": null,
            "grid_gap": null,
            "grid_row": null,
            "grid_template_areas": null,
            "grid_template_columns": null,
            "grid_template_rows": null,
            "height": null,
            "justify_content": null,
            "justify_items": null,
            "left": null,
            "margin": null,
            "max_height": null,
            "max_width": null,
            "min_height": null,
            "min_width": null,
            "object_fit": null,
            "object_position": null,
            "order": null,
            "overflow": null,
            "overflow_x": null,
            "overflow_y": null,
            "padding": null,
            "right": null,
            "top": null,
            "visibility": null,
            "width": "20px"
          }
        },
        "ba78351866c843d1abed6ed428b24668": {
          "model_module": "@jupyter-widgets/controls",
          "model_module_version": "1.5.0",
          "model_name": "HTMLModel",
          "state": {
            "_dom_classes": [],
            "_model_module": "@jupyter-widgets/controls",
            "_model_module_version": "1.5.0",
            "_model_name": "HTMLModel",
            "_view_count": null,
            "_view_module": "@jupyter-widgets/controls",
            "_view_module_version": "1.5.0",
            "_view_name": "HTMLView",
            "description": "",
            "description_tooltip": null,
            "layout": "IPY_MODEL_43eac5e99e4545bf87d7ae61f6895437",
            "placeholder": "​",
            "style": "IPY_MODEL_edf22a6b066d42fd95bba6c2e5538b20",
            "value": " 4764/4764 [09:16&lt;00:00, 23.35 MiB/s]"
          }
        },
        "bbc25af983204b61b8823bd5e9b539c2": {
          "model_module": "@jupyter-widgets/controls",
          "model_module_version": "1.5.0",
          "model_name": "ProgressStyleModel",
          "state": {
            "_model_module": "@jupyter-widgets/controls",
            "_model_module_version": "1.5.0",
            "_model_name": "ProgressStyleModel",
            "_view_count": null,
            "_view_module": "@jupyter-widgets/base",
            "_view_module_version": "1.2.0",
            "_view_name": "StyleView",
            "bar_color": null,
            "description_width": ""
          }
        },
        "bc3625f73778417ea7b9cb82848c7807": {
          "model_module": "@jupyter-widgets/base",
          "model_module_version": "1.2.0",
          "model_name": "LayoutModel",
          "state": {
            "_model_module": "@jupyter-widgets/base",
            "_model_module_version": "1.2.0",
            "_model_name": "LayoutModel",
            "_view_count": null,
            "_view_module": "@jupyter-widgets/base",
            "_view_module_version": "1.2.0",
            "_view_name": "LayoutView",
            "align_content": null,
            "align_items": null,
            "align_self": null,
            "border": null,
            "bottom": null,
            "display": null,
            "flex": null,
            "flex_flow": null,
            "grid_area": null,
            "grid_auto_columns": null,
            "grid_auto_flow": null,
            "grid_auto_rows": null,
            "grid_column": null,
            "grid_gap": null,
            "grid_row": null,
            "grid_template_areas": null,
            "grid_template_columns": null,
            "grid_template_rows": null,
            "height": null,
            "justify_content": null,
            "justify_items": null,
            "left": null,
            "margin": null,
            "max_height": null,
            "max_width": null,
            "min_height": null,
            "min_width": null,
            "object_fit": null,
            "object_position": null,
            "order": null,
            "overflow": null,
            "overflow_x": null,
            "overflow_y": null,
            "padding": null,
            "right": null,
            "top": null,
            "visibility": "hidden",
            "width": null
          }
        },
        "c397238561064e68be33a8ae23a303d2": {
          "model_module": "@jupyter-widgets/controls",
          "model_module_version": "1.5.0",
          "model_name": "ProgressStyleModel",
          "state": {
            "_model_module": "@jupyter-widgets/controls",
            "_model_module_version": "1.5.0",
            "_model_name": "ProgressStyleModel",
            "_view_count": null,
            "_view_module": "@jupyter-widgets/base",
            "_view_module_version": "1.2.0",
            "_view_name": "StyleView",
            "bar_color": null,
            "description_width": ""
          }
        },
        "c4eeeb50cf224a9583bdfa0e747d0068": {
          "model_module": "@jupyter-widgets/base",
          "model_module_version": "1.2.0",
          "model_name": "LayoutModel",
          "state": {
            "_model_module": "@jupyter-widgets/base",
            "_model_module_version": "1.2.0",
            "_model_name": "LayoutModel",
            "_view_count": null,
            "_view_module": "@jupyter-widgets/base",
            "_view_module_version": "1.2.0",
            "_view_name": "LayoutView",
            "align_content": null,
            "align_items": null,
            "align_self": null,
            "border": null,
            "bottom": null,
            "display": null,
            "flex": null,
            "flex_flow": null,
            "grid_area": null,
            "grid_auto_columns": null,
            "grid_auto_flow": null,
            "grid_auto_rows": null,
            "grid_column": null,
            "grid_gap": null,
            "grid_row": null,
            "grid_template_areas": null,
            "grid_template_columns": null,
            "grid_template_rows": null,
            "height": null,
            "justify_content": null,
            "justify_items": null,
            "left": null,
            "margin": null,
            "max_height": null,
            "max_width": null,
            "min_height": null,
            "min_width": null,
            "object_fit": null,
            "object_position": null,
            "order": null,
            "overflow": null,
            "overflow_x": null,
            "overflow_y": null,
            "padding": null,
            "right": null,
            "top": null,
            "visibility": null,
            "width": "20px"
          }
        },
        "cbf3da255d3b41e9aefd95d80c85ed17": {
          "model_module": "@jupyter-widgets/controls",
          "model_module_version": "1.5.0",
          "model_name": "HTMLModel",
          "state": {
            "_dom_classes": [],
            "_model_module": "@jupyter-widgets/controls",
            "_model_module_version": "1.5.0",
            "_model_name": "HTMLModel",
            "_view_count": null,
            "_view_module": "@jupyter-widgets/controls",
            "_view_module_version": "1.5.0",
            "_view_name": "HTMLView",
            "description": "",
            "description_tooltip": null,
            "layout": "IPY_MODEL_147477e92ff5485885e81d00a13e7a68",
            "placeholder": "​",
            "style": "IPY_MODEL_6b22f51ffc5b4051ae68ba6db3b712ac",
            "value": "Shuffling /root/tensorflow_datasets/food101/2.0.0.incomplete3IJKC7/food101-validation.tfrecord*...:  99%"
          }
        },
        "d05fd5dee0294a9fa201ca042ae2542b": {
          "model_module": "@jupyter-widgets/controls",
          "model_module_version": "1.5.0",
          "model_name": "FloatProgressModel",
          "state": {
            "_dom_classes": [],
            "_model_module": "@jupyter-widgets/controls",
            "_model_module_version": "1.5.0",
            "_model_name": "FloatProgressModel",
            "_view_count": null,
            "_view_module": "@jupyter-widgets/controls",
            "_view_module_version": "1.5.0",
            "_view_name": "ProgressView",
            "bar_style": "",
            "description": "",
            "description_tooltip": null,
            "layout": "IPY_MODEL_83a60399e73e41cf9540c74af956d3bd",
            "max": 75750,
            "min": 0,
            "orientation": "horizontal",
            "style": "IPY_MODEL_d288bca1cf70474fa084cebbe28d1188",
            "value": 75750
          }
        },
        "d288bca1cf70474fa084cebbe28d1188": {
          "model_module": "@jupyter-widgets/controls",
          "model_module_version": "1.5.0",
          "model_name": "ProgressStyleModel",
          "state": {
            "_model_module": "@jupyter-widgets/controls",
            "_model_module_version": "1.5.0",
            "_model_name": "ProgressStyleModel",
            "_view_count": null,
            "_view_module": "@jupyter-widgets/base",
            "_view_module_version": "1.2.0",
            "_view_name": "StyleView",
            "bar_color": null,
            "description_width": ""
          }
        },
        "d63bc128db404a0b85c24d9b64cc4b07": {
          "model_module": "@jupyter-widgets/controls",
          "model_module_version": "1.5.0",
          "model_name": "FloatProgressModel",
          "state": {
            "_dom_classes": [],
            "_model_module": "@jupyter-widgets/controls",
            "_model_module_version": "1.5.0",
            "_model_name": "FloatProgressModel",
            "_view_count": null,
            "_view_module": "@jupyter-widgets/controls",
            "_view_module_version": "1.5.0",
            "_view_name": "ProgressView",
            "bar_style": "success",
            "description": "",
            "description_tooltip": null,
            "layout": "IPY_MODEL_2e9a9449e275448db4650dd31341d531",
            "max": 1,
            "min": 0,
            "orientation": "horizontal",
            "style": "IPY_MODEL_ad06e68afa4d46f1b16b51c8fa75988c",
            "value": 1
          }
        },
        "d8c15ab2c020483bb48e2b622cdd1771": {
          "model_module": "@jupyter-widgets/controls",
          "model_module_version": "1.5.0",
          "model_name": "HBoxModel",
          "state": {
            "_dom_classes": [],
            "_model_module": "@jupyter-widgets/controls",
            "_model_module_version": "1.5.0",
            "_model_name": "HBoxModel",
            "_view_count": null,
            "_view_module": "@jupyter-widgets/controls",
            "_view_module_version": "1.5.0",
            "_view_name": "HBoxView",
            "box_style": "",
            "children": [
              "IPY_MODEL_fd409eb2026e49a3b8f19e9118aec6d1",
              "IPY_MODEL_8a7d09896e8d42deaa6b5e71f9aecd3b",
              "IPY_MODEL_ba78351866c843d1abed6ed428b24668"
            ],
            "layout": "IPY_MODEL_f19c2f2a75d645b59c4d0c93d35058bf"
          }
        },
        "d9100aac3656427eb14b1844e5c996d4": {
          "model_module": "@jupyter-widgets/controls",
          "model_module_version": "1.5.0",
          "model_name": "DescriptionStyleModel",
          "state": {
            "_model_module": "@jupyter-widgets/controls",
            "_model_module_version": "1.5.0",
            "_model_name": "DescriptionStyleModel",
            "_view_count": null,
            "_view_module": "@jupyter-widgets/base",
            "_view_module_version": "1.2.0",
            "_view_name": "StyleView",
            "description_width": ""
          }
        },
        "dda22681248c4b61a3af9067c79dc3cc": {
          "model_module": "@jupyter-widgets/controls",
          "model_module_version": "1.5.0",
          "model_name": "FloatProgressModel",
          "state": {
            "_dom_classes": [],
            "_model_module": "@jupyter-widgets/controls",
            "_model_module_version": "1.5.0",
            "_model_name": "FloatProgressModel",
            "_view_count": null,
            "_view_module": "@jupyter-widgets/controls",
            "_view_module_version": "1.5.0",
            "_view_name": "ProgressView",
            "bar_style": "",
            "description": "",
            "description_tooltip": null,
            "layout": "IPY_MODEL_fc489e80921145cbab6fc2aaa4e966be",
            "max": 25250,
            "min": 0,
            "orientation": "horizontal",
            "style": "IPY_MODEL_e45cb0ab3e864c72ae04e1c6ee526194",
            "value": 25250
          }
        },
        "df9379de840842a495203742d2f0bfc2": {
          "model_module": "@jupyter-widgets/base",
          "model_module_version": "1.2.0",
          "model_name": "LayoutModel",
          "state": {
            "_model_module": "@jupyter-widgets/base",
            "_model_module_version": "1.2.0",
            "_model_name": "LayoutModel",
            "_view_count": null,
            "_view_module": "@jupyter-widgets/base",
            "_view_module_version": "1.2.0",
            "_view_name": "LayoutView",
            "align_content": null,
            "align_items": null,
            "align_self": null,
            "border": null,
            "bottom": null,
            "display": null,
            "flex": null,
            "flex_flow": null,
            "grid_area": null,
            "grid_auto_columns": null,
            "grid_auto_flow": null,
            "grid_auto_rows": null,
            "grid_column": null,
            "grid_gap": null,
            "grid_row": null,
            "grid_template_areas": null,
            "grid_template_columns": null,
            "grid_template_rows": null,
            "height": null,
            "justify_content": null,
            "justify_items": null,
            "left": null,
            "margin": null,
            "max_height": null,
            "max_width": null,
            "min_height": null,
            "min_width": null,
            "object_fit": null,
            "object_position": null,
            "order": null,
            "overflow": null,
            "overflow_x": null,
            "overflow_y": null,
            "padding": null,
            "right": null,
            "top": null,
            "visibility": null,
            "width": null
          }
        },
        "e45cb0ab3e864c72ae04e1c6ee526194": {
          "model_module": "@jupyter-widgets/controls",
          "model_module_version": "1.5.0",
          "model_name": "ProgressStyleModel",
          "state": {
            "_model_module": "@jupyter-widgets/controls",
            "_model_module_version": "1.5.0",
            "_model_name": "ProgressStyleModel",
            "_view_count": null,
            "_view_module": "@jupyter-widgets/base",
            "_view_module_version": "1.2.0",
            "_view_name": "StyleView",
            "bar_color": null,
            "description_width": ""
          }
        },
        "edf22a6b066d42fd95bba6c2e5538b20": {
          "model_module": "@jupyter-widgets/controls",
          "model_module_version": "1.5.0",
          "model_name": "DescriptionStyleModel",
          "state": {
            "_model_module": "@jupyter-widgets/controls",
            "_model_module_version": "1.5.0",
            "_model_name": "DescriptionStyleModel",
            "_view_count": null,
            "_view_module": "@jupyter-widgets/base",
            "_view_module_version": "1.2.0",
            "_view_name": "StyleView",
            "description_width": ""
          }
        },
        "efe1ca8c496344ec8186ad3a9ccce3aa": {
          "model_module": "@jupyter-widgets/controls",
          "model_module_version": "1.5.0",
          "model_name": "HTMLModel",
          "state": {
            "_dom_classes": [],
            "_model_module": "@jupyter-widgets/controls",
            "_model_module_version": "1.5.0",
            "_model_name": "HTMLModel",
            "_view_count": null,
            "_view_module": "@jupyter-widgets/controls",
            "_view_module_version": "1.5.0",
            "_view_name": "HTMLView",
            "description": "",
            "description_tooltip": null,
            "layout": "IPY_MODEL_1c4ccd7777b14e1ea63dbe50c290be52",
            "placeholder": "​",
            "style": "IPY_MODEL_43e01c89a2dc4191b8059582c43f8b06",
            "value": " 75698/75750 [02:00&lt;00:00, 585.59 examples/s]"
          }
        },
        "f19c2f2a75d645b59c4d0c93d35058bf": {
          "model_module": "@jupyter-widgets/base",
          "model_module_version": "1.2.0",
          "model_name": "LayoutModel",
          "state": {
            "_model_module": "@jupyter-widgets/base",
            "_model_module_version": "1.2.0",
            "_model_name": "LayoutModel",
            "_view_count": null,
            "_view_module": "@jupyter-widgets/base",
            "_view_module_version": "1.2.0",
            "_view_name": "LayoutView",
            "align_content": null,
            "align_items": null,
            "align_self": null,
            "border": null,
            "bottom": null,
            "display": null,
            "flex": null,
            "flex_flow": null,
            "grid_area": null,
            "grid_auto_columns": null,
            "grid_auto_flow": null,
            "grid_auto_rows": null,
            "grid_column": null,
            "grid_gap": null,
            "grid_row": null,
            "grid_template_areas": null,
            "grid_template_columns": null,
            "grid_template_rows": null,
            "height": null,
            "justify_content": null,
            "justify_items": null,
            "left": null,
            "margin": null,
            "max_height": null,
            "max_width": null,
            "min_height": null,
            "min_width": null,
            "object_fit": null,
            "object_position": null,
            "order": null,
            "overflow": null,
            "overflow_x": null,
            "overflow_y": null,
            "padding": null,
            "right": null,
            "top": null,
            "visibility": null,
            "width": null
          }
        },
        "f520a9504aac41cc8b5fc5b2006f301b": {
          "model_module": "@jupyter-widgets/controls",
          "model_module_version": "1.5.0",
          "model_name": "DescriptionStyleModel",
          "state": {
            "_model_module": "@jupyter-widgets/controls",
            "_model_module_version": "1.5.0",
            "_model_name": "DescriptionStyleModel",
            "_view_count": null,
            "_view_module": "@jupyter-widgets/base",
            "_view_module_version": "1.2.0",
            "_view_name": "StyleView",
            "description_width": ""
          }
        },
        "fc489e80921145cbab6fc2aaa4e966be": {
          "model_module": "@jupyter-widgets/base",
          "model_module_version": "1.2.0",
          "model_name": "LayoutModel",
          "state": {
            "_model_module": "@jupyter-widgets/base",
            "_model_module_version": "1.2.0",
            "_model_name": "LayoutModel",
            "_view_count": null,
            "_view_module": "@jupyter-widgets/base",
            "_view_module_version": "1.2.0",
            "_view_name": "LayoutView",
            "align_content": null,
            "align_items": null,
            "align_self": null,
            "border": null,
            "bottom": null,
            "display": null,
            "flex": null,
            "flex_flow": null,
            "grid_area": null,
            "grid_auto_columns": null,
            "grid_auto_flow": null,
            "grid_auto_rows": null,
            "grid_column": null,
            "grid_gap": null,
            "grid_row": null,
            "grid_template_areas": null,
            "grid_template_columns": null,
            "grid_template_rows": null,
            "height": null,
            "justify_content": null,
            "justify_items": null,
            "left": null,
            "margin": null,
            "max_height": null,
            "max_width": null,
            "min_height": null,
            "min_width": null,
            "object_fit": null,
            "object_position": null,
            "order": null,
            "overflow": null,
            "overflow_x": null,
            "overflow_y": null,
            "padding": null,
            "right": null,
            "top": null,
            "visibility": null,
            "width": null
          }
        },
        "fd409eb2026e49a3b8f19e9118aec6d1": {
          "model_module": "@jupyter-widgets/controls",
          "model_module_version": "1.5.0",
          "model_name": "HTMLModel",
          "state": {
            "_dom_classes": [],
            "_model_module": "@jupyter-widgets/controls",
            "_model_module_version": "1.5.0",
            "_model_name": "HTMLModel",
            "_view_count": null,
            "_view_module": "@jupyter-widgets/controls",
            "_view_module_version": "1.5.0",
            "_view_name": "HTMLView",
            "description": "",
            "description_tooltip": null,
            "layout": "IPY_MODEL_1a32549cb5184873bcfc78b451f1de9e",
            "placeholder": "​",
            "style": "IPY_MODEL_9604e9f42d06473fa90993705e7b10c8",
            "value": "Dl Size...: 100%"
          }
        },
        "fd581dd08de14882bc68fb08972fe9b1": {
          "model_module": "@jupyter-widgets/controls",
          "model_module_version": "1.5.0",
          "model_name": "HTMLModel",
          "state": {
            "_dom_classes": [],
            "_model_module": "@jupyter-widgets/controls",
            "_model_module_version": "1.5.0",
            "_model_name": "HTMLModel",
            "_view_count": null,
            "_view_module": "@jupyter-widgets/controls",
            "_view_module_version": "1.5.0",
            "_view_name": "HTMLView",
            "description": "",
            "description_tooltip": null,
            "layout": "IPY_MODEL_811a52289ac74949a7dae9f50ea7542d",
            "placeholder": "​",
            "style": "IPY_MODEL_7f3d2a01771e42818285aa1c3638cefa",
            "value": "Generating train examples...: 100%"
          }
        },
        "fd9757b480ab410ebdc5eeb385771fc7": {
          "model_module": "@jupyter-widgets/controls",
          "model_module_version": "1.5.0",
          "model_name": "FloatProgressModel",
          "state": {
            "_dom_classes": [],
            "_model_module": "@jupyter-widgets/controls",
            "_model_module_version": "1.5.0",
            "_model_name": "FloatProgressModel",
            "_view_count": null,
            "_view_module": "@jupyter-widgets/controls",
            "_view_module_version": "1.5.0",
            "_view_name": "ProgressView",
            "bar_style": "",
            "description": "",
            "description_tooltip": null,
            "layout": "IPY_MODEL_1e02edc041174408ade62abcf04b188e",
            "max": 25250,
            "min": 0,
            "orientation": "horizontal",
            "style": "IPY_MODEL_c397238561064e68be33a8ae23a303d2",
            "value": 25250
          }
        },
        "fe0bac425e574c8ea2092c3254575629": {
          "model_module": "@jupyter-widgets/base",
          "model_module_version": "1.2.0",
          "model_name": "LayoutModel",
          "state": {
            "_model_module": "@jupyter-widgets/base",
            "_model_module_version": "1.2.0",
            "_model_name": "LayoutModel",
            "_view_count": null,
            "_view_module": "@jupyter-widgets/base",
            "_view_module_version": "1.2.0",
            "_view_name": "LayoutView",
            "align_content": null,
            "align_items": null,
            "align_self": null,
            "border": null,
            "bottom": null,
            "display": null,
            "flex": null,
            "flex_flow": null,
            "grid_area": null,
            "grid_auto_columns": null,
            "grid_auto_flow": null,
            "grid_auto_rows": null,
            "grid_column": null,
            "grid_gap": null,
            "grid_row": null,
            "grid_template_areas": null,
            "grid_template_columns": null,
            "grid_template_rows": null,
            "height": null,
            "justify_content": null,
            "justify_items": null,
            "left": null,
            "margin": null,
            "max_height": null,
            "max_width": null,
            "min_height": null,
            "min_width": null,
            "object_fit": null,
            "object_position": null,
            "order": null,
            "overflow": null,
            "overflow_x": null,
            "overflow_y": null,
            "padding": null,
            "right": null,
            "top": null,
            "visibility": null,
            "width": null
          }
        },
        "fe9d8aee0c414af9aac4fc9ded2d9995": {
          "model_module": "@jupyter-widgets/base",
          "model_module_version": "1.2.0",
          "model_name": "LayoutModel",
          "state": {
            "_model_module": "@jupyter-widgets/base",
            "_model_module_version": "1.2.0",
            "_model_name": "LayoutModel",
            "_view_count": null,
            "_view_module": "@jupyter-widgets/base",
            "_view_module_version": "1.2.0",
            "_view_name": "LayoutView",
            "align_content": null,
            "align_items": null,
            "align_self": null,
            "border": null,
            "bottom": null,
            "display": null,
            "flex": null,
            "flex_flow": null,
            "grid_area": null,
            "grid_auto_columns": null,
            "grid_auto_flow": null,
            "grid_auto_rows": null,
            "grid_column": null,
            "grid_gap": null,
            "grid_row": null,
            "grid_template_areas": null,
            "grid_template_columns": null,
            "grid_template_rows": null,
            "height": null,
            "justify_content": null,
            "justify_items": null,
            "left": null,
            "margin": null,
            "max_height": null,
            "max_width": null,
            "min_height": null,
            "min_width": null,
            "object_fit": null,
            "object_position": null,
            "order": null,
            "overflow": null,
            "overflow_x": null,
            "overflow_y": null,
            "padding": null,
            "right": null,
            "top": null,
            "visibility": null,
            "width": null
          }
        }
      }
    }
  },
  "nbformat": 4,
  "nbformat_minor": 0
}
